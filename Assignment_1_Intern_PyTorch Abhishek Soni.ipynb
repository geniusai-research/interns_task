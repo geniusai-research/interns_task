{
  "nbformat": 4,
  "nbformat_minor": 0,
  "metadata": {
    "colab": {
      "name": "Assignment 1 Intern PyTorch",
      "provenance": [],
      "collapsed_sections": [],
      "toc_visible": true
    },
    "kernelspec": {
      "name": "python3",
      "display_name": "Python 3"
    }
  },
  "cells": [
    {
      "source": [
        "## Abhishek soni\n",
        "## Contact:\n",
        "9875228139, \n",
        "abhishekajt@gmail.com"
      ],
      "cell_type": "markdown",
      "metadata": {}
    },
    {
      "cell_type": "code",
      "metadata": {
        "id": "676KzsVLixtt"
      },
      "source": [
        "import pandas as pd\n",
        "import numpy as np"
      ],
      "execution_count": 1,
      "outputs": []
    },
    {
      "cell_type": "markdown",
      "metadata": {
        "id": "tAYBY_YRZklk"
      },
      "source": [
        "# EDA"
      ]
    },
    {
      "cell_type": "code",
      "metadata": {
        "id": "W85ptLT6jvPx",
        "outputId": "1a051aef-b18b-4ab0-823c-3f58843169d2",
        "colab": {
          "base_uri": "https://localhost:8080/",
          "height": 215
        }
      },
      "source": [
        "df = pd.read_csv('taskdata.csv')\n",
        "df.head()"
      ],
      "execution_count": 2,
      "outputs": [
        {
          "output_type": "execute_result",
          "data": {
            "text/html": [
              "<div>\n",
              "<style scoped>\n",
              "    .dataframe tbody tr th:only-of-type {\n",
              "        vertical-align: middle;\n",
              "    }\n",
              "\n",
              "    .dataframe tbody tr th {\n",
              "        vertical-align: top;\n",
              "    }\n",
              "\n",
              "    .dataframe thead th {\n",
              "        text-align: right;\n",
              "    }\n",
              "</style>\n",
              "<table border=\"1\" class=\"dataframe\">\n",
              "  <thead>\n",
              "    <tr style=\"text-align: right;\">\n",
              "      <th></th>\n",
              "      <th>user_id</th>\n",
              "      <th>account_id</th>\n",
              "      <th>max_return_days</th>\n",
              "      <th>average_return_days</th>\n",
              "      <th>customer_since_months</th>\n",
              "      <th>total_revenue</th>\n",
              "      <th>average_revenue</th>\n",
              "      <th>avg_vas_count</th>\n",
              "      <th>avg_used_vas_value</th>\n",
              "      <th>business_type</th>\n",
              "      <th>avg_wallet_bonus</th>\n",
              "      <th>avg_active_ads</th>\n",
              "      <th>avg_new_ads</th>\n",
              "      <th>avg_email_replies</th>\n",
              "      <th>avg_call_replies</th>\n",
              "      <th>avg_sms_replies</th>\n",
              "      <th>target</th>\n",
              "    </tr>\n",
              "  </thead>\n",
              "  <tbody>\n",
              "    <tr>\n",
              "      <th>0</th>\n",
              "      <td>410039</td>\n",
              "      <td>496.0</td>\n",
              "      <td>8</td>\n",
              "      <td>1.500000</td>\n",
              "      <td>14</td>\n",
              "      <td>0.0</td>\n",
              "      <td>0.0</td>\n",
              "      <td>3.666667</td>\n",
              "      <td>66.666667</td>\n",
              "      <td>0</td>\n",
              "      <td>300.0</td>\n",
              "      <td>79.333333</td>\n",
              "      <td>15.250000</td>\n",
              "      <td>32.416667</td>\n",
              "      <td>27.916667</td>\n",
              "      <td>0.250000</td>\n",
              "      <td>0</td>\n",
              "    </tr>\n",
              "    <tr>\n",
              "      <th>1</th>\n",
              "      <td>410240</td>\n",
              "      <td>499.0</td>\n",
              "      <td>37</td>\n",
              "      <td>8.200000</td>\n",
              "      <td>10</td>\n",
              "      <td>0.0</td>\n",
              "      <td>0.0</td>\n",
              "      <td>4.900000</td>\n",
              "      <td>114.000000</td>\n",
              "      <td>0</td>\n",
              "      <td>0.0</td>\n",
              "      <td>232.100000</td>\n",
              "      <td>18.300000</td>\n",
              "      <td>16.200000</td>\n",
              "      <td>13.800000</td>\n",
              "      <td>0.000000</td>\n",
              "      <td>0</td>\n",
              "    </tr>\n",
              "    <tr>\n",
              "      <th>2</th>\n",
              "      <td>411764</td>\n",
              "      <td>493.0</td>\n",
              "      <td>9</td>\n",
              "      <td>1.533333</td>\n",
              "      <td>15</td>\n",
              "      <td>0.0</td>\n",
              "      <td>0.0</td>\n",
              "      <td>5.333333</td>\n",
              "      <td>106.666667</td>\n",
              "      <td>0</td>\n",
              "      <td>150.0</td>\n",
              "      <td>55.083333</td>\n",
              "      <td>3.750000</td>\n",
              "      <td>20.250000</td>\n",
              "      <td>24.500000</td>\n",
              "      <td>0.000000</td>\n",
              "      <td>0</td>\n",
              "    </tr>\n",
              "    <tr>\n",
              "      <th>3</th>\n",
              "      <td>411985</td>\n",
              "      <td>262.0</td>\n",
              "      <td>1</td>\n",
              "      <td>1.000000</td>\n",
              "      <td>14</td>\n",
              "      <td>0.0</td>\n",
              "      <td>0.0</td>\n",
              "      <td>6.307692</td>\n",
              "      <td>176.153846</td>\n",
              "      <td>0</td>\n",
              "      <td>1481.0</td>\n",
              "      <td>409.538462</td>\n",
              "      <td>80.769231</td>\n",
              "      <td>87.461538</td>\n",
              "      <td>57.615385</td>\n",
              "      <td>0.000000</td>\n",
              "      <td>1</td>\n",
              "    </tr>\n",
              "    <tr>\n",
              "      <th>4</th>\n",
              "      <td>412071</td>\n",
              "      <td>496.0</td>\n",
              "      <td>1</td>\n",
              "      <td>1.000000</td>\n",
              "      <td>18</td>\n",
              "      <td>0.0</td>\n",
              "      <td>0.0</td>\n",
              "      <td>5.846154</td>\n",
              "      <td>109.230769</td>\n",
              "      <td>0</td>\n",
              "      <td>41.5</td>\n",
              "      <td>48.230769</td>\n",
              "      <td>1.692308</td>\n",
              "      <td>17.461538</td>\n",
              "      <td>25.769231</td>\n",
              "      <td>0.230769</td>\n",
              "      <td>0</td>\n",
              "    </tr>\n",
              "  </tbody>\n",
              "</table>\n",
              "</div>"
            ],
            "text/plain": [
              "   user_id  account_id  ...  avg_sms_replies  target\n",
              "0   410039       496.0  ...         0.250000       0\n",
              "1   410240       499.0  ...         0.000000       0\n",
              "2   411764       493.0  ...         0.000000       0\n",
              "3   411985       262.0  ...         0.000000       1\n",
              "4   412071       496.0  ...         0.230769       0\n",
              "\n",
              "[5 rows x 17 columns]"
            ]
          },
          "metadata": {
            "tags": []
          },
          "execution_count": 2
        }
      ]
    },
    {
      "cell_type": "code",
      "metadata": {
        "id": "3vwgSc5DjzxG",
        "outputId": "3abed1e2-9625-473c-80d8-01d2f11bab5d",
        "colab": {
          "base_uri": "https://localhost:8080/",
          "height": 70
        }
      },
      "source": [
        "def details(df):\n",
        "  print(\"Description of training set\")\n",
        "  print(\"Shape: \\t\\t\\t\", df.shape)\n",
        "  print(\"#NaNs: \\t\\t\\t\", df.isna().sum().sum()) \n",
        "  \n",
        "details(df)"
      ],
      "execution_count": 3,
      "outputs": [
        {
          "output_type": "stream",
          "text": [
            "Description of training set\n",
            "Shape: \t\t\t (4407, 17)\n",
            "#NaNs: \t\t\t 7\n"
          ],
          "name": "stdout"
        }
      ]
    },
    {
      "cell_type": "code",
      "metadata": {
        "id": "74Me38wNvB3z",
        "outputId": "e8d1d670-6a23-48dc-fbc3-4cbb027a09e7",
        "colab": {
          "base_uri": "https://localhost:8080/",
          "height": 34
        }
      },
      "source": [
        "# Location of the NAN\n",
        "print(df.loc[pd.isna(df[df.columns[1]]), :].index)"
      ],
      "execution_count": 4,
      "outputs": [
        {
          "output_type": "stream",
          "text": [
            "Int64Index([764, 1002, 2276, 3792, 3967, 4148, 4259], dtype='int64')\n"
          ],
          "name": "stdout"
        }
      ]
    },
    {
      "cell_type": "code",
      "metadata": {
        "id": "oBXBM18D1S1Z",
        "outputId": "e92c5583-eb6a-4e52-96d1-872143f45d82",
        "colab": {
          "base_uri": "https://localhost:8080/",
          "height": 70
        }
      },
      "source": [
        "df.dropna(inplace=True)\n",
        "details(df)"
      ],
      "execution_count": 5,
      "outputs": [
        {
          "output_type": "stream",
          "text": [
            "Description of training set\n",
            "Shape: \t\t\t (4400, 17)\n",
            "#NaNs: \t\t\t 0\n"
          ],
          "name": "stdout"
        }
      ]
    },
    {
      "cell_type": "code",
      "metadata": {
        "id": "grG7TKy3kvwg",
        "outputId": "0c88c012-b627-4f48-8e61-c6bd50f658da",
        "colab": {
          "base_uri": "https://localhost:8080/",
          "height": 70
        }
      },
      "source": [
        "def description(df):\n",
        "  print(\"#Number of Unique Accounts: \\t\\t\", df.account_id.nunique())\n",
        "  print(\"Revenue range from: \\t\", df.total_revenue.min(), \" to \", df.total_revenue.max())\n",
        "  print(\"Maximum return day: \\t\", df.max_return_days.max())\n",
        "\n",
        "description(df)"
      ],
      "execution_count": 6,
      "outputs": [
        {
          "output_type": "stream",
          "text": [
            "#Number of Unique Accounts: \t\t 15\n",
            "Revenue range from: \t 0.0  to  43957.1727\n",
            "Maximum return day: \t 354\n"
          ],
          "name": "stdout"
        }
      ]
    },
    {
      "cell_type": "markdown",
      "metadata": {
        "id": "ymxG8EFbt6j9"
      },
      "source": [
        "## Heat Map for DATA correlation"
      ]
    },
    {
      "cell_type": "code",
      "metadata": {
        "id": "iwwqTPlmZmx5",
        "outputId": "ed6241c0-802a-4cc7-d678-6de85a9e4e11",
        "colab": {
          "base_uri": "https://localhost:8080/",
          "height": 1000
        }
      },
      "source": [
        "import seaborn as sns\n",
        "import matplotlib.pyplot as plt\n",
        "#get correlations of each features in dataset\n",
        "corrmat = df.corr()\n",
        "top_corr_features = corrmat.index\n",
        "plt.figure(figsize=(20,20))\n",
        "#plot heat map\n",
        "g=sns.heatmap(df[top_corr_features].corr(),annot=True,cmap=\"RdYlGn\")"
      ],
      "execution_count": 8,
      "outputs": [
        {
          "output_type": "display_data",
          "data": {
            "image/png": "[encoded data removed]",
            "text/plain": [
              "<Figure size 1440x1440 with 2 Axes>"
            ]
          },
          "metadata": {
            "tags": [],
            "needs_background": "light"
          }
        }
      ]
    },
    {
      "cell_type": "code",
      "metadata": {
        "id": "sJhxnuMR1eoU",
        "outputId": "6a8eab28-1f2a-4aa7-9967-3db9b5ec02b4",
        "colab": {
          "base_uri": "https://localhost:8080/",
          "height": 34
        }
      },
      "source": [
        "features = [ 'average_return_days',\n",
        "       'customer_since_months', 'average_revenue',\n",
        "        'avg_used_vas_value', 'business_type',\n",
        "       'avg_wallet_bonus', 'avg_active_ads', 'avg_new_ads',\n",
        "       'avg_email_replies', 'avg_call_replies', 'avg_sms_replies']\n",
        "len(features)"
      ],
      "execution_count": 7,
      "outputs": [
        {
          "output_type": "execute_result",
          "data": {
            "text/plain": [
              "11"
            ]
          },
          "metadata": {
            "tags": []
          },
          "execution_count": 7
        }
      ]
    },
    {
      "cell_type": "markdown",
      "metadata": {
        "id": "DpkE9bXuIiNT"
      },
      "source": [
        "# Data Preprocessing"
      ]
    },
    {
      "cell_type": "markdown",
      "metadata": {
        "id": "ij12cOXe3gP0"
      },
      "source": [
        "## Normalising the Data"
      ]
    },
    {
      "cell_type": "code",
      "metadata": {
        "id": "fWIl50433gAc"
      },
      "source": [
        "from sklearn.preprocessing import MinMaxScaler"
      ],
      "execution_count": 9,
      "outputs": []
    },
    {
      "cell_type": "code",
      "metadata": {
        "id": "OM1-z49L36tA"
      },
      "source": [
        "def normalize(df,features):\n",
        "  mms = MinMaxScaler(feature_range=(-1,1))\n",
        "  data = pd.DataFrame(data = df[features], columns=features)\n",
        "  data[features] = mms.fit_transform(data[features])\n",
        "  return data\n"
      ],
      "execution_count": 10,
      "outputs": []
    },
    {
      "cell_type": "code",
      "metadata": {
        "id": "1iI_xRev4PsC",
        "outputId": "995feee7-c923-4e79-e6e4-d40838efa2d2",
        "colab": {
          "base_uri": "https://localhost:8080/",
          "height": 215
        }
      },
      "source": [
        "data = normalize(df,features)\n",
        "data.head()"
      ],
      "execution_count": 11,
      "outputs": [
        {
          "output_type": "execute_result",
          "data": {
            "text/html": [
              "<div>\n",
              "<style scoped>\n",
              "    .dataframe tbody tr th:only-of-type {\n",
              "        vertical-align: middle;\n",
              "    }\n",
              "\n",
              "    .dataframe tbody tr th {\n",
              "        vertical-align: top;\n",
              "    }\n",
              "\n",
              "    .dataframe thead th {\n",
              "        text-align: right;\n",
              "    }\n",
              "</style>\n",
              "<table border=\"1\" class=\"dataframe\">\n",
              "  <thead>\n",
              "    <tr style=\"text-align: right;\">\n",
              "      <th></th>\n",
              "      <th>average_return_days</th>\n",
              "      <th>customer_since_months</th>\n",
              "      <th>average_revenue</th>\n",
              "      <th>avg_used_vas_value</th>\n",
              "      <th>business_type</th>\n",
              "      <th>avg_wallet_bonus</th>\n",
              "      <th>avg_active_ads</th>\n",
              "      <th>avg_new_ads</th>\n",
              "      <th>avg_email_replies</th>\n",
              "      <th>avg_call_replies</th>\n",
              "      <th>avg_sms_replies</th>\n",
              "    </tr>\n",
              "  </thead>\n",
              "  <tbody>\n",
              "    <tr>\n",
              "      <th>0</th>\n",
              "      <td>-0.994342</td>\n",
              "      <td>0.130435</td>\n",
              "      <td>-1.0</td>\n",
              "      <td>-0.960288</td>\n",
              "      <td>-1.0</td>\n",
              "      <td>-0.961554</td>\n",
              "      <td>-0.982723</td>\n",
              "      <td>-0.988296</td>\n",
              "      <td>-0.962227</td>\n",
              "      <td>-0.967972</td>\n",
              "      <td>-0.965839</td>\n",
              "    </tr>\n",
              "    <tr>\n",
              "      <th>1</th>\n",
              "      <td>-0.956436</td>\n",
              "      <td>-0.217391</td>\n",
              "      <td>-1.0</td>\n",
              "      <td>-0.932092</td>\n",
              "      <td>-1.0</td>\n",
              "      <td>-1.000000</td>\n",
              "      <td>-0.949455</td>\n",
              "      <td>-0.985955</td>\n",
              "      <td>-0.981123</td>\n",
              "      <td>-0.984168</td>\n",
              "      <td>-1.000000</td>\n",
              "    </tr>\n",
              "    <tr>\n",
              "      <th>2</th>\n",
              "      <td>-0.994154</td>\n",
              "      <td>0.217391</td>\n",
              "      <td>-1.0</td>\n",
              "      <td>-0.936461</td>\n",
              "      <td>-1.0</td>\n",
              "      <td>-0.980777</td>\n",
              "      <td>-0.988004</td>\n",
              "      <td>-0.997122</td>\n",
              "      <td>-0.976404</td>\n",
              "      <td>-0.971892</td>\n",
              "      <td>-1.000000</td>\n",
              "    </tr>\n",
              "    <tr>\n",
              "      <th>3</th>\n",
              "      <td>-0.997171</td>\n",
              "      <td>0.130435</td>\n",
              "      <td>-1.0</td>\n",
              "      <td>-0.895068</td>\n",
              "      <td>-1.0</td>\n",
              "      <td>-0.810207</td>\n",
              "      <td>-0.910814</td>\n",
              "      <td>-0.938013</td>\n",
              "      <td>-0.898087</td>\n",
              "      <td>-0.933900</td>\n",
              "      <td>-1.000000</td>\n",
              "    </tr>\n",
              "    <tr>\n",
              "      <th>4</th>\n",
              "      <td>-0.997171</td>\n",
              "      <td>0.478261</td>\n",
              "      <td>-1.0</td>\n",
              "      <td>-0.934933</td>\n",
              "      <td>-1.0</td>\n",
              "      <td>-0.994682</td>\n",
              "      <td>-0.989497</td>\n",
              "      <td>-0.998701</td>\n",
              "      <td>-0.979653</td>\n",
              "      <td>-0.970436</td>\n",
              "      <td>-0.968466</td>\n",
              "    </tr>\n",
              "  </tbody>\n",
              "</table>\n",
              "</div>"
            ],
            "text/plain": [
              "   average_return_days  ...  avg_sms_replies\n",
              "0            -0.994342  ...        -0.965839\n",
              "1            -0.956436  ...        -1.000000\n",
              "2            -0.994154  ...        -1.000000\n",
              "3            -0.997171  ...        -1.000000\n",
              "4            -0.997171  ...        -0.968466\n",
              "\n",
              "[5 rows x 11 columns]"
            ]
          },
          "metadata": {
            "tags": []
          },
          "execution_count": 11
        }
      ]
    },
    {
      "cell_type": "code",
      "metadata": {
        "id": "kWdlvgKVnEBS",
        "outputId": "2ba1178d-2d13-4c8b-9c41-efdb5ce32de1",
        "colab": {
          "base_uri": "https://localhost:8080/",
          "height": 215
        }
      },
      "source": [
        "data['target']= df['target']\n",
        "data.head()"
      ],
      "execution_count": 12,
      "outputs": [
        {
          "output_type": "execute_result",
          "data": {
            "text/html": [
              "<div>\n",
              "<style scoped>\n",
              "    .dataframe tbody tr th:only-of-type {\n",
              "        vertical-align: middle;\n",
              "    }\n",
              "\n",
              "    .dataframe tbody tr th {\n",
              "        vertical-align: top;\n",
              "    }\n",
              "\n",
              "    .dataframe thead th {\n",
              "        text-align: right;\n",
              "    }\n",
              "</style>\n",
              "<table border=\"1\" class=\"dataframe\">\n",
              "  <thead>\n",
              "    <tr style=\"text-align: right;\">\n",
              "      <th></th>\n",
              "      <th>average_return_days</th>\n",
              "      <th>customer_since_months</th>\n",
              "      <th>average_revenue</th>\n",
              "      <th>avg_used_vas_value</th>\n",
              "      <th>business_type</th>\n",
              "      <th>avg_wallet_bonus</th>\n",
              "      <th>avg_active_ads</th>\n",
              "      <th>avg_new_ads</th>\n",
              "      <th>avg_email_replies</th>\n",
              "      <th>avg_call_replies</th>\n",
              "      <th>avg_sms_replies</th>\n",
              "      <th>target</th>\n",
              "    </tr>\n",
              "  </thead>\n",
              "  <tbody>\n",
              "    <tr>\n",
              "      <th>0</th>\n",
              "      <td>-0.994342</td>\n",
              "      <td>0.130435</td>\n",
              "      <td>-1.0</td>\n",
              "      <td>-0.960288</td>\n",
              "      <td>-1.0</td>\n",
              "      <td>-0.961554</td>\n",
              "      <td>-0.982723</td>\n",
              "      <td>-0.988296</td>\n",
              "      <td>-0.962227</td>\n",
              "      <td>-0.967972</td>\n",
              "      <td>-0.965839</td>\n",
              "      <td>0</td>\n",
              "    </tr>\n",
              "    <tr>\n",
              "      <th>1</th>\n",
              "      <td>-0.956436</td>\n",
              "      <td>-0.217391</td>\n",
              "      <td>-1.0</td>\n",
              "      <td>-0.932092</td>\n",
              "      <td>-1.0</td>\n",
              "      <td>-1.000000</td>\n",
              "      <td>-0.949455</td>\n",
              "      <td>-0.985955</td>\n",
              "      <td>-0.981123</td>\n",
              "      <td>-0.984168</td>\n",
              "      <td>-1.000000</td>\n",
              "      <td>0</td>\n",
              "    </tr>\n",
              "    <tr>\n",
              "      <th>2</th>\n",
              "      <td>-0.994154</td>\n",
              "      <td>0.217391</td>\n",
              "      <td>-1.0</td>\n",
              "      <td>-0.936461</td>\n",
              "      <td>-1.0</td>\n",
              "      <td>-0.980777</td>\n",
              "      <td>-0.988004</td>\n",
              "      <td>-0.997122</td>\n",
              "      <td>-0.976404</td>\n",
              "      <td>-0.971892</td>\n",
              "      <td>-1.000000</td>\n",
              "      <td>0</td>\n",
              "    </tr>\n",
              "    <tr>\n",
              "      <th>3</th>\n",
              "      <td>-0.997171</td>\n",
              "      <td>0.130435</td>\n",
              "      <td>-1.0</td>\n",
              "      <td>-0.895068</td>\n",
              "      <td>-1.0</td>\n",
              "      <td>-0.810207</td>\n",
              "      <td>-0.910814</td>\n",
              "      <td>-0.938013</td>\n",
              "      <td>-0.898087</td>\n",
              "      <td>-0.933900</td>\n",
              "      <td>-1.000000</td>\n",
              "      <td>1</td>\n",
              "    </tr>\n",
              "    <tr>\n",
              "      <th>4</th>\n",
              "      <td>-0.997171</td>\n",
              "      <td>0.478261</td>\n",
              "      <td>-1.0</td>\n",
              "      <td>-0.934933</td>\n",
              "      <td>-1.0</td>\n",
              "      <td>-0.994682</td>\n",
              "      <td>-0.989497</td>\n",
              "      <td>-0.998701</td>\n",
              "      <td>-0.979653</td>\n",
              "      <td>-0.970436</td>\n",
              "      <td>-0.968466</td>\n",
              "      <td>0</td>\n",
              "    </tr>\n",
              "  </tbody>\n",
              "</table>\n",
              "</div>"
            ],
            "text/plain": [
              "   average_return_days  customer_since_months  ...  avg_sms_replies  target\n",
              "0            -0.994342               0.130435  ...        -0.965839       0\n",
              "1            -0.956436              -0.217391  ...        -1.000000       0\n",
              "2            -0.994154               0.217391  ...        -1.000000       0\n",
              "3            -0.997171               0.130435  ...        -1.000000       1\n",
              "4            -0.997171               0.478261  ...        -0.968466       0\n",
              "\n",
              "[5 rows x 12 columns]"
            ]
          },
          "metadata": {
            "tags": []
          },
          "execution_count": 12
        }
      ]
    },
    {
      "cell_type": "markdown",
      "metadata": {
        "id": "K3k-TGFRJVXX"
      },
      "source": [
        "## Spliting the Data"
      ]
    },
    {
      "cell_type": "code",
      "metadata": {
        "id": "BVDCJgJvkLRq"
      },
      "source": [
        "from sklearn.model_selection import train_test_split"
      ],
      "execution_count": 13,
      "outputs": []
    },
    {
      "cell_type": "code",
      "metadata": {
        "id": "lvIvQJTSkRpz",
        "outputId": "e1bfc877-9152-4007-c7f1-01366147f687",
        "colab": {
          "base_uri": "https://localhost:8080/",
          "height": 34
        }
      },
      "source": [
        "X, X_test = train_test_split(\n",
        "...     data, test_size=0.15, random_state=42)\n",
        "\n",
        "y, y_test = X['target'], X_test['target'] \n",
        "########################################################\n",
        "X_train, X_val= train_test_split(\n",
        "...     X, test_size=0.15, random_state=42)\n",
        "\n",
        "y_train, y_val = X_train['target'], X_val['target'] \n",
        "########################################################\n",
        "\n",
        "X_train= X_train.drop('target',1)\n",
        "X_val  = X_val.drop('target',1)\n",
        "X_test = X_test.drop('target',1)\n",
        "\n",
        "X_train.shape, y_train.shape, X_val.shape, y_val.shape, X_test.shape,  y_test.shape"
      ],
      "execution_count": 14,
      "outputs": [
        {
          "output_type": "execute_result",
          "data": {
            "text/plain": [
              "((3179, 11), (3179,), (561, 11), (561,), (660, 11), (660,))"
            ]
          },
          "metadata": {
            "tags": []
          },
          "execution_count": 14
        }
      ]
    },
    {
      "cell_type": "code",
      "metadata": {
        "id": "nK713k44n0si",
        "outputId": "7cdc8e14-062d-4607-b4ec-f913a5006510",
        "colab": {
          "base_uri": "https://localhost:8080/",
          "height": 422
        }
      },
      "source": [
        "X_train"
      ],
      "execution_count": 16,
      "outputs": [
        {
          "output_type": "execute_result",
          "data": {
            "text/html": [
              "<div>\n",
              "<style scoped>\n",
              "    .dataframe tbody tr th:only-of-type {\n",
              "        vertical-align: middle;\n",
              "    }\n",
              "\n",
              "    .dataframe tbody tr th {\n",
              "        vertical-align: top;\n",
              "    }\n",
              "\n",
              "    .dataframe thead th {\n",
              "        text-align: right;\n",
              "    }\n",
              "</style>\n",
              "<table border=\"1\" class=\"dataframe\">\n",
              "  <thead>\n",
              "    <tr style=\"text-align: right;\">\n",
              "      <th></th>\n",
              "      <th>average_return_days</th>\n",
              "      <th>customer_since_months</th>\n",
              "      <th>average_revenue</th>\n",
              "      <th>avg_used_vas_value</th>\n",
              "      <th>business_type</th>\n",
              "      <th>avg_wallet_bonus</th>\n",
              "      <th>avg_active_ads</th>\n",
              "      <th>avg_new_ads</th>\n",
              "      <th>avg_email_replies</th>\n",
              "      <th>avg_call_replies</th>\n",
              "      <th>avg_sms_replies</th>\n",
              "    </tr>\n",
              "  </thead>\n",
              "  <tbody>\n",
              "    <tr>\n",
              "      <th>2030</th>\n",
              "      <td>-0.802546</td>\n",
              "      <td>-0.652174</td>\n",
              "      <td>-1.000000</td>\n",
              "      <td>-0.988086</td>\n",
              "      <td>-1.0</td>\n",
              "      <td>-1.000000</td>\n",
              "      <td>-0.984799</td>\n",
              "      <td>-0.995549</td>\n",
              "      <td>-0.972268</td>\n",
              "      <td>-0.955715</td>\n",
              "      <td>-1.000000</td>\n",
              "    </tr>\n",
              "    <tr>\n",
              "      <th>3963</th>\n",
              "      <td>-0.974540</td>\n",
              "      <td>-0.391304</td>\n",
              "      <td>-1.000000</td>\n",
              "      <td>-0.993381</td>\n",
              "      <td>-1.0</td>\n",
              "      <td>-1.000000</td>\n",
              "      <td>-0.997508</td>\n",
              "      <td>-0.996333</td>\n",
              "      <td>-0.999223</td>\n",
              "      <td>-0.996176</td>\n",
              "      <td>-1.000000</td>\n",
              "    </tr>\n",
              "    <tr>\n",
              "      <th>1946</th>\n",
              "      <td>-0.997171</td>\n",
              "      <td>0.043478</td>\n",
              "      <td>-1.000000</td>\n",
              "      <td>-0.957386</td>\n",
              "      <td>-1.0</td>\n",
              "      <td>-0.965399</td>\n",
              "      <td>-0.997856</td>\n",
              "      <td>-0.997934</td>\n",
              "      <td>-0.970600</td>\n",
              "      <td>-0.978996</td>\n",
              "      <td>-0.978978</td>\n",
              "    </tr>\n",
              "    <tr>\n",
              "      <th>4002</th>\n",
              "      <td>-0.997171</td>\n",
              "      <td>-0.391304</td>\n",
              "      <td>-1.000000</td>\n",
              "      <td>-0.952345</td>\n",
              "      <td>0.2</td>\n",
              "      <td>-0.975651</td>\n",
              "      <td>-0.998606</td>\n",
              "      <td>-0.998158</td>\n",
              "      <td>-0.996970</td>\n",
              "      <td>-0.997476</td>\n",
              "      <td>-1.000000</td>\n",
              "    </tr>\n",
              "    <tr>\n",
              "      <th>758</th>\n",
              "      <td>-0.997171</td>\n",
              "      <td>0.304348</td>\n",
              "      <td>-0.980773</td>\n",
              "      <td>-0.881780</td>\n",
              "      <td>-1.0</td>\n",
              "      <td>-0.966681</td>\n",
              "      <td>-0.972041</td>\n",
              "      <td>-0.989256</td>\n",
              "      <td>-0.941470</td>\n",
              "      <td>-0.915896</td>\n",
              "      <td>-0.968466</td>\n",
              "    </tr>\n",
              "    <tr>\n",
              "      <th>...</th>\n",
              "      <td>...</td>\n",
              "      <td>...</td>\n",
              "      <td>...</td>\n",
              "      <td>...</td>\n",
              "      <td>...</td>\n",
              "      <td>...</td>\n",
              "      <td>...</td>\n",
              "      <td>...</td>\n",
              "      <td>...</td>\n",
              "      <td>...</td>\n",
              "      <td>...</td>\n",
              "    </tr>\n",
              "    <tr>\n",
              "      <th>3425</th>\n",
              "      <td>-0.994125</td>\n",
              "      <td>0.043478</td>\n",
              "      <td>-1.000000</td>\n",
              "      <td>-0.990377</td>\n",
              "      <td>-0.6</td>\n",
              "      <td>-0.988851</td>\n",
              "      <td>-0.997420</td>\n",
              "      <td>-0.998583</td>\n",
              "      <td>-0.989871</td>\n",
              "      <td>-0.984203</td>\n",
              "      <td>-0.968466</td>\n",
              "    </tr>\n",
              "    <tr>\n",
              "      <th>231</th>\n",
              "      <td>-0.997171</td>\n",
              "      <td>0.130435</td>\n",
              "      <td>-1.000000</td>\n",
              "      <td>-0.939974</td>\n",
              "      <td>-1.0</td>\n",
              "      <td>-0.948739</td>\n",
              "      <td>-0.974454</td>\n",
              "      <td>-0.987839</td>\n",
              "      <td>-0.918972</td>\n",
              "      <td>-0.901070</td>\n",
              "      <td>-1.000000</td>\n",
              "    </tr>\n",
              "    <tr>\n",
              "      <th>176</th>\n",
              "      <td>-0.871759</td>\n",
              "      <td>-0.043478</td>\n",
              "      <td>-1.000000</td>\n",
              "      <td>-1.000000</td>\n",
              "      <td>-1.0</td>\n",
              "      <td>-0.961554</td>\n",
              "      <td>-0.989710</td>\n",
              "      <td>-0.996738</td>\n",
              "      <td>-0.973345</td>\n",
              "      <td>-0.973039</td>\n",
              "      <td>-0.982919</td>\n",
              "    </tr>\n",
              "    <tr>\n",
              "      <th>3070</th>\n",
              "      <td>-0.913563</td>\n",
              "      <td>-0.304348</td>\n",
              "      <td>-1.000000</td>\n",
              "      <td>-0.980144</td>\n",
              "      <td>-0.6</td>\n",
              "      <td>-1.000000</td>\n",
              "      <td>-0.991894</td>\n",
              "      <td>-0.996845</td>\n",
              "      <td>-0.983428</td>\n",
              "      <td>-0.975780</td>\n",
              "      <td>-1.000000</td>\n",
              "    </tr>\n",
              "    <tr>\n",
              "      <th>1858</th>\n",
              "      <td>-0.997171</td>\n",
              "      <td>-0.913043</td>\n",
              "      <td>-1.000000</td>\n",
              "      <td>-0.982130</td>\n",
              "      <td>-1.0</td>\n",
              "      <td>-1.000000</td>\n",
              "      <td>-0.985627</td>\n",
              "      <td>-0.972371</td>\n",
              "      <td>-0.967374</td>\n",
              "      <td>-0.977628</td>\n",
              "      <td>-0.931677</td>\n",
              "    </tr>\n",
              "  </tbody>\n",
              "</table>\n",
              "<p>3179 rows × 11 columns</p>\n",
              "</div>"
            ],
            "text/plain": [
              "      average_return_days  ...  avg_sms_replies\n",
              "2030            -0.802546  ...        -1.000000\n",
              "3963            -0.974540  ...        -1.000000\n",
              "1946            -0.997171  ...        -0.978978\n",
              "4002            -0.997171  ...        -1.000000\n",
              "758             -0.997171  ...        -0.968466\n",
              "...                   ...  ...              ...\n",
              "3425            -0.994125  ...        -0.968466\n",
              "231             -0.997171  ...        -1.000000\n",
              "176             -0.871759  ...        -0.982919\n",
              "3070            -0.913563  ...        -1.000000\n",
              "1858            -0.997171  ...        -0.931677\n",
              "\n",
              "[3179 rows x 11 columns]"
            ]
          },
          "metadata": {
            "tags": []
          },
          "execution_count": 16
        }
      ]
    },
    {
      "cell_type": "markdown",
      "metadata": {
        "id": "bu10dd_4cdMB"
      },
      "source": [
        "# XGBoost"
      ]
    },
    {
      "cell_type": "code",
      "metadata": {
        "id": "oIG8W1H2cXzd"
      },
      "source": [
        "from sklearn.metrics import auc, accuracy_score, confusion_matrix, mean_squared_error, mean_absolute_error\n",
        "from sklearn.model_selection import cross_val_score, GridSearchCV, KFold, RandomizedSearchCV, train_test_split\n",
        "import xgboost"
      ],
      "execution_count": 17,
      "outputs": []
    },
    {
      "cell_type": "code",
      "metadata": {
        "id": "EmY2ojjtcuRv"
      },
      "source": [
        "classifier=xgboost.XGBClassifier()"
      ],
      "execution_count": 18,
      "outputs": []
    },
    {
      "cell_type": "markdown",
      "metadata": {
        "id": "zIm54Vifc5sg"
      },
      "source": [
        "Random Search Will take in all the values we defined for parameters the parameters and take the best among those"
      ]
    },
    {
      "cell_type": "code",
      "metadata": {
        "id": "C5SHFrm7dG6H"
      },
      "source": [
        "params={\n",
        " \"learning_rate\"    : [0.05, 0.10, 0.15, 0.20, 0.25, 0.30 ] ,\n",
        " \"max_depth\"        : [ 3, 4, 5, 6, 8, 10, 12, 15],\n",
        " \"min_child_weight\" : [ 1, 3, 5, 7 ],\n",
        " \"gamma\"            : [ 0.0, 0.1, 0.2 , 0.3, 0.4 ],\n",
        " \"colsample_bytree\" : [ 0.3, 0.4, 0.5 , 0.7 ]\n",
        "    \n",
        "}"
      ],
      "execution_count": 19,
      "outputs": []
    },
    {
      "cell_type": "code",
      "metadata": {
        "id": "40_RVtHtcu83"
      },
      "source": [
        "random_search=RandomizedSearchCV(classifier,param_distributions=params,n_iter=5,scoring='roc_auc',n_jobs=-1,cv=5,verbose=3)"
      ],
      "execution_count": 20,
      "outputs": []
    },
    {
      "cell_type": "code",
      "metadata": {
        "id": "rBXauhgfeCne",
        "outputId": "9ff859b6-a2ff-4be2-fce2-45c73e404bee",
        "colab": {
          "base_uri": "https://localhost:8080/",
          "height": 492
        }
      },
      "source": [
        "random_search.fit(X_train,y_train)"
      ],
      "execution_count": 21,
      "outputs": [
        {
          "output_type": "stream",
          "text": [
            "Fitting 5 folds for each of 5 candidates, totalling 25 fits\n"
          ],
          "name": "stdout"
        },
        {
          "output_type": "stream",
          "text": [
            "[Parallel(n_jobs=-1)]: Using backend LokyBackend with 2 concurrent workers.\n",
            "[Parallel(n_jobs=-1)]: Done  25 out of  25 | elapsed:    5.6s finished\n"
          ],
          "name": "stderr"
        },
        {
          "output_type": "execute_result",
          "data": {
            "text/plain": [
              "RandomizedSearchCV(cv=5, error_score=nan,\n",
              "                   estimator=XGBClassifier(base_score=0.5, booster='gbtree',\n",
              "                                           colsample_bylevel=1,\n",
              "                                           colsample_bynode=1,\n",
              "                                           colsample_bytree=1, gamma=0,\n",
              "                                           learning_rate=0.1, max_delta_step=0,\n",
              "                                           max_depth=3, min_child_weight=1,\n",
              "                                           missing=None, n_estimators=100,\n",
              "                                           n_jobs=1, nthread=None,\n",
              "                                           objective='binary:logistic',\n",
              "                                           random_state=0, reg_alpha=0,\n",
              "                                           reg_lambda=1, sc...\n",
              "                                           verbosity=1),\n",
              "                   iid='deprecated', n_iter=5, n_jobs=-1,\n",
              "                   param_distributions={'colsample_bytree': [0.3, 0.4, 0.5,\n",
              "                                                             0.7],\n",
              "                                        'gamma': [0.0, 0.1, 0.2, 0.3, 0.4],\n",
              "                                        'learning_rate': [0.05, 0.1, 0.15, 0.2,\n",
              "                                                          0.25, 0.3],\n",
              "                                        'max_depth': [3, 4, 5, 6, 8, 10, 12,\n",
              "                                                      15],\n",
              "                                        'min_child_weight': [1, 3, 5, 7]},\n",
              "                   pre_dispatch='2*n_jobs', random_state=None, refit=True,\n",
              "                   return_train_score=False, scoring='roc_auc', verbose=3)"
            ]
          },
          "metadata": {
            "tags": []
          },
          "execution_count": 21
        }
      ]
    },
    {
      "cell_type": "code",
      "metadata": {
        "id": "g4eWj2rwekaA",
        "outputId": "9eee2c62-946e-4bbb-a3d5-3728ab99dfaf",
        "colab": {
          "base_uri": "https://localhost:8080/",
          "height": 105
        }
      },
      "source": [
        "random_search.best_params_"
      ],
      "execution_count": 22,
      "outputs": [
        {
          "output_type": "execute_result",
          "data": {
            "text/plain": [
              "{'colsample_bytree': 0.5,\n",
              " 'gamma': 0.0,\n",
              " 'learning_rate': 0.15,\n",
              " 'max_depth': 4,\n",
              " 'min_child_weight': 1}"
            ]
          },
          "metadata": {
            "tags": []
          },
          "execution_count": 22
        }
      ]
    },
    {
      "cell_type": "code",
      "metadata": {
        "id": "WIKm0z2rehH9",
        "outputId": "d18ebe2e-3a39-4df7-c4c9-d9406b40d911",
        "colab": {
          "base_uri": "https://localhost:8080/",
          "height": 140
        }
      },
      "source": [
        "random_search.best_estimator_"
      ],
      "execution_count": 23,
      "outputs": [
        {
          "output_type": "execute_result",
          "data": {
            "text/plain": [
              "XGBClassifier(base_score=0.5, booster='gbtree', colsample_bylevel=1,\n",
              "              colsample_bynode=1, colsample_bytree=0.5, gamma=0.0,\n",
              "              learning_rate=0.15, max_delta_step=0, max_depth=4,\n",
              "              min_child_weight=1, missing=None, n_estimators=100, n_jobs=1,\n",
              "              nthread=None, objective='binary:logistic', random_state=0,\n",
              "              reg_alpha=0, reg_lambda=1, scale_pos_weight=1, seed=None,\n",
              "              silent=None, subsample=1, verbosity=1)"
            ]
          },
          "metadata": {
            "tags": []
          },
          "execution_count": 23
        }
      ]
    },
    {
      "cell_type": "markdown",
      "metadata": {
        "id": "LU2o8yCvfV2d"
      },
      "source": [
        "Copying the above parameters which was classified to be best for the given dataset"
      ]
    },
    {
      "cell_type": "code",
      "metadata": {
        "id": "SDkb9BL1enFX"
      },
      "source": [
        "classifier=xgboost.XGBClassifier(base_score=0.5, booster='gbtree', colsample_bylevel=1,\n",
        "       colsample_bytree=0.5, gamma=0.4, learning_rate=0.1,\n",
        "       max_delta_step=0, max_depth=6, min_child_weight=7, missing=None,\n",
        "       n_estimators=100, n_jobs=1, nthread=None,\n",
        "       objective='binary:logistic', random_state=0, reg_alpha=0,\n",
        "       reg_lambda=1, scale_pos_weight=1, seed=None, silent=True,\n",
        "       subsample=1)"
      ],
      "execution_count": 24,
      "outputs": []
    },
    {
      "cell_type": "markdown",
      "metadata": {
        "id": "TbYHY8r-r2qF"
      },
      "source": [
        "## Predictions"
      ]
    },
    {
      "cell_type": "code",
      "metadata": {
        "id": "rFduyWKkhvvT",
        "outputId": "22b81b82-64ce-4c77-db70-b246353bebdb",
        "colab": {
          "base_uri": "https://localhost:8080/",
          "height": 1000
        }
      },
      "source": [
        "classifier.fit(X_train, y_train, eval_set=[(X_test, y_test)])"
      ],
      "execution_count": 25,
      "outputs": [
        {
          "output_type": "stream",
          "text": [
            "[0]\tvalidation_0-error:0.09697\n",
            "[1]\tvalidation_0-error:0.084848\n",
            "[2]\tvalidation_0-error:0.086364\n",
            "[3]\tvalidation_0-error:0.089394\n",
            "[4]\tvalidation_0-error:0.086364\n",
            "[5]\tvalidation_0-error:0.093939\n",
            "[6]\tvalidation_0-error:0.095455\n",
            "[7]\tvalidation_0-error:0.090909\n",
            "[8]\tvalidation_0-error:0.092424\n",
            "[9]\tvalidation_0-error:0.090909\n",
            "[10]\tvalidation_0-error:0.092424\n",
            "[11]\tvalidation_0-error:0.092424\n",
            "[12]\tvalidation_0-error:0.093939\n",
            "[13]\tvalidation_0-error:0.095455\n",
            "[14]\tvalidation_0-error:0.095455\n",
            "[15]\tvalidation_0-error:0.093939\n",
            "[16]\tvalidation_0-error:0.095455\n",
            "[17]\tvalidation_0-error:0.093939\n",
            "[18]\tvalidation_0-error:0.093939\n",
            "[19]\tvalidation_0-error:0.093939\n",
            "[20]\tvalidation_0-error:0.093939\n",
            "[21]\tvalidation_0-error:0.093939\n",
            "[22]\tvalidation_0-error:0.093939\n",
            "[23]\tvalidation_0-error:0.093939\n",
            "[24]\tvalidation_0-error:0.095455\n",
            "[25]\tvalidation_0-error:0.092424\n",
            "[26]\tvalidation_0-error:0.092424\n",
            "[27]\tvalidation_0-error:0.092424\n",
            "[28]\tvalidation_0-error:0.092424\n",
            "[29]\tvalidation_0-error:0.090909\n",
            "[30]\tvalidation_0-error:0.092424\n",
            "[31]\tvalidation_0-error:0.093939\n",
            "[32]\tvalidation_0-error:0.095455\n",
            "[33]\tvalidation_0-error:0.095455\n",
            "[34]\tvalidation_0-error:0.095455\n",
            "[35]\tvalidation_0-error:0.09697\n",
            "[36]\tvalidation_0-error:0.09697\n",
            "[37]\tvalidation_0-error:0.09697\n",
            "[38]\tvalidation_0-error:0.09697\n",
            "[39]\tvalidation_0-error:0.09697\n",
            "[40]\tvalidation_0-error:0.095455\n",
            "[41]\tvalidation_0-error:0.09697\n",
            "[42]\tvalidation_0-error:0.093939\n",
            "[43]\tvalidation_0-error:0.09697\n",
            "[44]\tvalidation_0-error:0.09697\n",
            "[45]\tvalidation_0-error:0.09697\n",
            "[46]\tvalidation_0-error:0.09697\n",
            "[47]\tvalidation_0-error:0.09697\n",
            "[48]\tvalidation_0-error:0.09697\n",
            "[49]\tvalidation_0-error:0.095455\n",
            "[50]\tvalidation_0-error:0.095455\n",
            "[51]\tvalidation_0-error:0.095455\n",
            "[52]\tvalidation_0-error:0.095455\n",
            "[53]\tvalidation_0-error:0.093939\n",
            "[54]\tvalidation_0-error:0.093939\n",
            "[55]\tvalidation_0-error:0.093939\n",
            "[56]\tvalidation_0-error:0.093939\n",
            "[57]\tvalidation_0-error:0.093939\n",
            "[58]\tvalidation_0-error:0.093939\n",
            "[59]\tvalidation_0-error:0.093939\n",
            "[60]\tvalidation_0-error:0.093939\n",
            "[61]\tvalidation_0-error:0.093939\n",
            "[62]\tvalidation_0-error:0.093939\n",
            "[63]\tvalidation_0-error:0.092424\n",
            "[64]\tvalidation_0-error:0.092424\n",
            "[65]\tvalidation_0-error:0.093939\n",
            "[66]\tvalidation_0-error:0.092424\n",
            "[67]\tvalidation_0-error:0.092424\n",
            "[68]\tvalidation_0-error:0.092424\n",
            "[69]\tvalidation_0-error:0.093939\n",
            "[70]\tvalidation_0-error:0.093939\n",
            "[71]\tvalidation_0-error:0.092424\n",
            "[72]\tvalidation_0-error:0.092424\n",
            "[73]\tvalidation_0-error:0.090909\n",
            "[74]\tvalidation_0-error:0.093939\n",
            "[75]\tvalidation_0-error:0.093939\n",
            "[76]\tvalidation_0-error:0.093939\n",
            "[77]\tvalidation_0-error:0.093939\n",
            "[78]\tvalidation_0-error:0.093939\n",
            "[79]\tvalidation_0-error:0.093939\n",
            "[80]\tvalidation_0-error:0.092424\n",
            "[81]\tvalidation_0-error:0.090909\n",
            "[82]\tvalidation_0-error:0.093939\n",
            "[83]\tvalidation_0-error:0.092424\n",
            "[84]\tvalidation_0-error:0.093939\n",
            "[85]\tvalidation_0-error:0.093939\n",
            "[86]\tvalidation_0-error:0.092424\n",
            "[87]\tvalidation_0-error:0.093939\n",
            "[88]\tvalidation_0-error:0.095455\n",
            "[89]\tvalidation_0-error:0.095455\n",
            "[90]\tvalidation_0-error:0.093939\n",
            "[91]\tvalidation_0-error:0.093939\n",
            "[92]\tvalidation_0-error:0.093939\n",
            "[93]\tvalidation_0-error:0.092424\n",
            "[94]\tvalidation_0-error:0.092424\n",
            "[95]\tvalidation_0-error:0.092424\n",
            "[96]\tvalidation_0-error:0.092424\n",
            "[97]\tvalidation_0-error:0.093939\n",
            "[98]\tvalidation_0-error:0.092424\n",
            "[99]\tvalidation_0-error:0.092424\n"
          ],
          "name": "stdout"
        },
        {
          "output_type": "execute_result",
          "data": {
            "text/plain": [
              "XGBClassifier(base_score=0.5, booster='gbtree', colsample_bylevel=1,\n",
              "              colsample_bynode=1, colsample_bytree=0.5, gamma=0.4,\n",
              "              learning_rate=0.1, max_delta_step=0, max_depth=6,\n",
              "              min_child_weight=7, missing=None, n_estimators=100, n_jobs=1,\n",
              "              nthread=None, objective='binary:logistic', random_state=0,\n",
              "              reg_alpha=0, reg_lambda=1, scale_pos_weight=1, seed=None,\n",
              "              silent=True, subsample=1, verbosity=1)"
            ]
          },
          "metadata": {
            "tags": []
          },
          "execution_count": 25
        }
      ]
    },
    {
      "cell_type": "code",
      "metadata": {
        "id": "jLqvoEyuh_KT"
      },
      "source": [
        "ytrain_pred = classifier.predict(X_train)\n",
        "ytest_pred = classifier.predict(X_test)"
      ],
      "execution_count": 26,
      "outputs": []
    },
    {
      "cell_type": "code",
      "metadata": {
        "id": "34Xc1Hvku4gL",
        "outputId": "60595db2-957f-4f7f-e518-8d84e11ddf5b",
        "colab": {
          "base_uri": "https://localhost:8080/",
          "height": 70
        }
      },
      "source": [
        "print('Training Errors')\n",
        "print('Mean Squared Error:', mean_squared_error(y_train, ytrain_pred ))\n",
        "print('Root Mean Squared Error:', np.sqrt(mean_squared_error(y_train, ytrain_pred )))"
      ],
      "execution_count": 27,
      "outputs": [
        {
          "output_type": "stream",
          "text": [
            "Training Errors\n",
            "Mean Squared Error: 0.06731676627870399\n",
            "Root Mean Squared Error: 0.2594547480365391\n"
          ],
          "name": "stdout"
        }
      ]
    },
    {
      "cell_type": "code",
      "metadata": {
        "id": "N1TxcLpprg1e",
        "outputId": "e4cb2954-c767-4260-ca56-c7a679ad5120",
        "colab": {
          "base_uri": "https://localhost:8080/",
          "height": 52
        }
      },
      "source": [
        "print('Train Accuracy : ',accuracy_score(y_train, ytrain_pred))\n",
        "print('Test Accuracy : ',accuracy_score(y_test, ytest_pred))"
      ],
      "execution_count": 28,
      "outputs": [
        {
          "output_type": "stream",
          "text": [
            "Train Accuracy :  0.932683233721296\n",
            "Test Accuracy :  0.9075757575757576\n"
          ],
          "name": "stdout"
        }
      ]
    },
    {
      "cell_type": "markdown",
      "metadata": {
        "id": "1EZtVvh0taT8"
      },
      "source": [
        "## Feature Importance Analysis"
      ]
    },
    {
      "cell_type": "code",
      "metadata": {
        "id": "k4AZ88KZfjJ8",
        "outputId": "1b429263-d6f8-4134-a58c-7f1aac1b3084",
        "colab": {
          "base_uri": "https://localhost:8080/",
          "height": 447
        }
      },
      "source": [
        "import graphviz\n",
        "\n",
        "xgb_model = xgboost.XGBClassifier(objective=\"reg:squarederror\", random_state=42, eval_metric=\"auc\")\n",
        "\n",
        "\n",
        "xgb_model.fit(X_train, y_train, early_stopping_rounds=10, eval_set=[(X_test, y_test)], verbose=False)\n",
        "\n",
        "# converts the target tree to a graphviz instance\n",
        "xgboost.to_graphviz(xgb_model, num_trees=xgb_model.best_iteration)"
      ],
      "execution_count": 64,
      "outputs": [
        {
          "output_type": "execute_result",
          "data": {
            "text/plain": [
              "<graphviz.dot.Digraph at 0x7fb4af91de10>"
            ],
            "image/svg+xml": "<?xml version=\"1.0\" encoding=\"UTF-8\" standalone=\"no\"?>\n<!DOCTYPE svg PUBLIC \"-//W3C//DTD SVG 1.1//EN\"\n \"http://www.w3.org/Graphics/SVG/1.1/DTD/svg11.dtd\">\n<!-- Generated by graphviz version 2.40.1 (20161225.0304)\n -->\n<!-- Title: %3 Pages: 1 -->\n<svg width=\"1555pt\" height=\"305pt\"\n viewBox=\"0.00 0.00 1554.73 305.00\" xmlns=\"http://www.w3.org/2000/svg\" xmlns:xlink=\"http://www.w3.org/1999/xlink\">\n<g id=\"graph0\" class=\"graph\" transform=\"scale(1 1) rotate(0) translate(4 301)\">\n<title>%3</title>\n<polygon fill=\"#ffffff\" stroke=\"transparent\" points=\"-4,4 -4,-301 1550.7341,-301 1550.7341,4 -4,4\"/>\n<!-- 0 -->\n<g id=\"node1\" class=\"node\">\n<title>0</title>\n<ellipse fill=\"none\" stroke=\"#000000\" cx=\"756.3922\" cy=\"-279\" rx=\"147.5738\" ry=\"18\"/>\n<text text-anchor=\"middle\" x=\"756.3922\" y=\"-275.3\" font-family=\"Times,serif\" font-size=\"14.00\" fill=\"#000000\">average_return_days&lt;&#45;0.939556837</text>\n</g>\n<!-- 1 -->\n<g id=\"node2\" class=\"node\">\n<title>1</title>\n<ellipse fill=\"none\" stroke=\"#000000\" cx=\"606.3922\" cy=\"-192\" rx=\"159.7717\" ry=\"18\"/>\n<text text-anchor=\"middle\" x=\"606.3922\" y=\"-188.3\" font-family=\"Times,serif\" font-size=\"14.00\" fill=\"#000000\">customer_since_months&lt;&#45;0.782608688</text>\n</g>\n<!-- 0&#45;&gt;1 -->\n<g id=\"edge1\" class=\"edge\">\n<title>0&#45;&gt;1</title>\n<path fill=\"none\" stroke=\"#0000ff\" d=\"M725.6755,-261.1843C702.6216,-247.8131 670.8708,-229.3976 645.9227,-214.9277\"/>\n<polygon fill=\"#0000ff\" stroke=\"#0000ff\" points=\"647.4741,-211.7815 637.0678,-209.7919 643.9621,-217.8367 647.4741,-211.7815\"/>\n<text text-anchor=\"middle\" x=\"725.8922\" y=\"-231.8\" font-family=\"Times,serif\" font-size=\"14.00\" fill=\"#000000\">yes, missing</text>\n</g>\n<!-- 2 -->\n<g id=\"node3\" class=\"node\">\n<title>2</title>\n<ellipse fill=\"none\" stroke=\"#000000\" cx=\"938.3922\" cy=\"-192\" rx=\"122.3786\" ry=\"18\"/>\n<text text-anchor=\"middle\" x=\"938.3922\" y=\"-188.3\" font-family=\"Times,serif\" font-size=\"14.00\" fill=\"#000000\">business_type&lt;&#45;0.800000012</text>\n</g>\n<!-- 0&#45;&gt;2 -->\n<g id=\"edge2\" class=\"edge\">\n<title>0&#45;&gt;2</title>\n<path fill=\"none\" stroke=\"#ff0000\" d=\"M793.2226,-261.3943C822.0267,-247.6252 862.2155,-228.4141 893.0065,-213.6953\"/>\n<polygon fill=\"#ff0000\" stroke=\"#ff0000\" points=\"894.7249,-216.7533 902.2376,-209.2827 891.7059,-210.4377 894.7249,-216.7533\"/>\n<text text-anchor=\"middle\" x=\"866.3922\" y=\"-231.8\" font-family=\"Times,serif\" font-size=\"14.00\" fill=\"#000000\">no</text>\n</g>\n<!-- 3 -->\n<g id=\"node4\" class=\"node\">\n<title>3</title>\n<ellipse fill=\"none\" stroke=\"#000000\" cx=\"285.3922\" cy=\"-105\" rx=\"159.7717\" ry=\"18\"/>\n<text text-anchor=\"middle\" x=\"285.3922\" y=\"-101.3\" font-family=\"Times,serif\" font-size=\"14.00\" fill=\"#000000\">customer_since_months&lt;&#45;0.869565248</text>\n</g>\n<!-- 1&#45;&gt;3 -->\n<g id=\"edge3\" class=\"edge\">\n<title>1&#45;&gt;3</title>\n<path fill=\"none\" stroke=\"#0000ff\" d=\"M544.8799,-175.3285C491.2127,-160.7831 413.3203,-139.6721 356.8914,-124.3783\"/>\n<polygon fill=\"#0000ff\" stroke=\"#0000ff\" points=\"357.5366,-120.927 346.9692,-121.6891 355.7054,-127.6832 357.5366,-120.927\"/>\n<text text-anchor=\"middle\" x=\"500.8922\" y=\"-144.8\" font-family=\"Times,serif\" font-size=\"14.00\" fill=\"#000000\">yes, missing</text>\n</g>\n<!-- 4 -->\n<g id=\"node5\" class=\"node\">\n<title>4</title>\n<ellipse fill=\"none\" stroke=\"#000000\" cx=\"606.3922\" cy=\"-105\" rx=\"127.2775\" ry=\"18\"/>\n<text text-anchor=\"middle\" x=\"606.3922\" y=\"-101.3\" font-family=\"Times,serif\" font-size=\"14.00\" fill=\"#000000\">avg_active_ads&lt;&#45;0.999601781</text>\n</g>\n<!-- 1&#45;&gt;4 -->\n<g id=\"edge4\" class=\"edge\">\n<title>1&#45;&gt;4</title>\n<path fill=\"none\" stroke=\"#ff0000\" d=\"M606.3922,-173.9735C606.3922,-162.1918 606.3922,-146.5607 606.3922,-133.1581\"/>\n<polygon fill=\"#ff0000\" stroke=\"#ff0000\" points=\"609.8923,-133.0033 606.3922,-123.0034 602.8923,-133.0034 609.8923,-133.0033\"/>\n<text text-anchor=\"middle\" x=\"614.3922\" y=\"-144.8\" font-family=\"Times,serif\" font-size=\"14.00\" fill=\"#000000\">no</text>\n</g>\n<!-- 5 -->\n<g id=\"node10\" class=\"node\">\n<title>5</title>\n<ellipse fill=\"none\" stroke=\"#000000\" cx=\"938.3922\" cy=\"-105\" rx=\"147.5738\" ry=\"18\"/>\n<text text-anchor=\"middle\" x=\"938.3922\" y=\"-101.3\" font-family=\"Times,serif\" font-size=\"14.00\" fill=\"#000000\">average_return_days&lt;&#45;0.821310699</text>\n</g>\n<!-- 2&#45;&gt;5 -->\n<g id=\"edge9\" class=\"edge\">\n<title>2&#45;&gt;5</title>\n<path fill=\"none\" stroke=\"#0000ff\" d=\"M938.3922,-173.9735C938.3922,-162.1918 938.3922,-146.5607 938.3922,-133.1581\"/>\n<polygon fill=\"#0000ff\" stroke=\"#0000ff\" points=\"941.8923,-133.0033 938.3922,-123.0034 934.8923,-133.0034 941.8923,-133.0033\"/>\n<text text-anchor=\"middle\" x=\"973.8922\" y=\"-144.8\" font-family=\"Times,serif\" font-size=\"14.00\" fill=\"#000000\">yes, missing</text>\n</g>\n<!-- 6 -->\n<g id=\"node11\" class=\"node\">\n<title>6</title>\n<ellipse fill=\"none\" stroke=\"#000000\" cx=\"1259.3922\" cy=\"-105\" rx=\"138.3755\" ry=\"18\"/>\n<text text-anchor=\"middle\" x=\"1259.3922\" y=\"-101.3\" font-family=\"Times,serif\" font-size=\"14.00\" fill=\"#000000\">avg_wallet_bonus&lt;&#45;0.990388632</text>\n</g>\n<!-- 2&#45;&gt;6 -->\n<g id=\"edge10\" class=\"edge\">\n<title>2&#45;&gt;6</title>\n<path fill=\"none\" stroke=\"#ff0000\" d=\"M996.8953,-176.144C1051.1704,-161.4339 1132.0162,-139.5225 1189.6301,-123.9075\"/>\n<polygon fill=\"#ff0000\" stroke=\"#ff0000\" points=\"1190.6501,-127.2574 1199.3863,-121.2633 1188.8189,-120.5011 1190.6501,-127.2574\"/>\n<text text-anchor=\"middle\" x=\"1126.3922\" y=\"-144.8\" font-family=\"Times,serif\" font-size=\"14.00\" fill=\"#000000\">no</text>\n</g>\n<!-- 7 -->\n<g id=\"node6\" class=\"node\">\n<title>7</title>\n<ellipse fill=\"none\" stroke=\"#000000\" cx=\"88.3922\" cy=\"-18\" rx=\"88.2844\" ry=\"18\"/>\n<text text-anchor=\"middle\" x=\"88.3922\" y=\"-14.3\" font-family=\"Times,serif\" font-size=\"14.00\" fill=\"#000000\">leaf=&#45;0.0185569189</text>\n</g>\n<!-- 3&#45;&gt;7 -->\n<g id=\"edge5\" class=\"edge\">\n<title>3&#45;&gt;7</title>\n<path fill=\"none\" stroke=\"#0000ff\" d=\"M245.5263,-87.3943C213.4627,-73.2342 168.3665,-53.3186 134.7041,-38.4525\"/>\n<polygon fill=\"#0000ff\" stroke=\"#0000ff\" points=\"136.0948,-35.2406 125.5331,-34.4024 133.2669,-41.6439 136.0948,-35.2406\"/>\n<text text-anchor=\"middle\" x=\"234.8922\" y=\"-57.8\" font-family=\"Times,serif\" font-size=\"14.00\" fill=\"#000000\">yes, missing</text>\n</g>\n<!-- 8 -->\n<g id=\"node7\" class=\"node\">\n<title>8</title>\n<ellipse fill=\"none\" stroke=\"#000000\" cx=\"285.3922\" cy=\"-18\" rx=\"90.1842\" ry=\"18\"/>\n<text text-anchor=\"middle\" x=\"285.3922\" y=\"-14.3\" font-family=\"Times,serif\" font-size=\"14.00\" fill=\"#000000\">leaf=0.00956357922</text>\n</g>\n<!-- 3&#45;&gt;8 -->\n<g id=\"edge6\" class=\"edge\">\n<title>3&#45;&gt;8</title>\n<path fill=\"none\" stroke=\"#ff0000\" d=\"M285.3922,-86.9735C285.3922,-75.1918 285.3922,-59.5607 285.3922,-46.1581\"/>\n<polygon fill=\"#ff0000\" stroke=\"#ff0000\" points=\"288.8923,-46.0033 285.3922,-36.0034 281.8923,-46.0034 288.8923,-46.0033\"/>\n<text text-anchor=\"middle\" x=\"293.3922\" y=\"-57.8\" font-family=\"Times,serif\" font-size=\"14.00\" fill=\"#000000\">no</text>\n</g>\n<!-- 9 -->\n<g id=\"node8\" class=\"node\">\n<title>9</title>\n<ellipse fill=\"none\" stroke=\"#000000\" cx=\"478.3922\" cy=\"-18\" rx=\"85.2851\" ry=\"18\"/>\n<text text-anchor=\"middle\" x=\"478.3922\" y=\"-14.3\" font-family=\"Times,serif\" font-size=\"14.00\" fill=\"#000000\">leaf=0.0140246125</text>\n</g>\n<!-- 4&#45;&gt;9 -->\n<g id=\"edge7\" class=\"edge\">\n<title>4&#45;&gt;9</title>\n<path fill=\"none\" stroke=\"#0000ff\" d=\"M580.1806,-87.1843C560.5097,-73.8143 533.4186,-55.4008 512.1304,-40.9315\"/>\n<polygon fill=\"#0000ff\" stroke=\"#0000ff\" points=\"513.9343,-37.9257 503.6964,-35.199 509.9994,-43.715 513.9343,-37.9257\"/>\n<text text-anchor=\"middle\" x=\"585.8922\" y=\"-57.8\" font-family=\"Times,serif\" font-size=\"14.00\" fill=\"#000000\">yes, missing</text>\n</g>\n<!-- 10 -->\n<g id=\"node9\" class=\"node\">\n<title>10</title>\n<ellipse fill=\"none\" stroke=\"#000000\" cx=\"670.3922\" cy=\"-18\" rx=\"88.2844\" ry=\"18\"/>\n<text text-anchor=\"middle\" x=\"670.3922\" y=\"-14.3\" font-family=\"Times,serif\" font-size=\"14.00\" fill=\"#000000\">leaf=&#45;0.0183060896</text>\n</g>\n<!-- 4&#45;&gt;10 -->\n<g id=\"edge8\" class=\"edge\">\n<title>4&#45;&gt;10</title>\n<path fill=\"none\" stroke=\"#ff0000\" d=\"M619.653,-86.9735C628.7491,-74.6085 640.9642,-58.0036 651.1298,-44.1847\"/>\n<polygon fill=\"#ff0000\" stroke=\"#ff0000\" points=\"654.0419,-46.1326 657.1483,-36.0034 648.4033,-41.9846 654.0419,-46.1326\"/>\n<text text-anchor=\"middle\" x=\"650.3922\" y=\"-57.8\" font-family=\"Times,serif\" font-size=\"14.00\" fill=\"#000000\">no</text>\n</g>\n<!-- 11 -->\n<g id=\"node12\" class=\"node\">\n<title>11</title>\n<ellipse fill=\"none\" stroke=\"#000000\" cx=\"865.3922\" cy=\"-18\" rx=\"88.2844\" ry=\"18\"/>\n<text text-anchor=\"middle\" x=\"865.3922\" y=\"-14.3\" font-family=\"Times,serif\" font-size=\"14.00\" fill=\"#000000\">leaf=&#45;0.0076043061</text>\n</g>\n<!-- 5&#45;&gt;11 -->\n<g id=\"edge11\" class=\"edge\">\n<title>5&#45;&gt;11</title>\n<path fill=\"none\" stroke=\"#0000ff\" d=\"M923.2665,-86.9735C912.7934,-74.4919 898.6952,-57.6899 887.0357,-43.7944\"/>\n<polygon fill=\"#0000ff\" stroke=\"#0000ff\" points=\"889.6074,-41.4142 880.4984,-36.0034 884.2451,-45.9136 889.6074,-41.4142\"/>\n<text text-anchor=\"middle\" x=\"941.8922\" y=\"-57.8\" font-family=\"Times,serif\" font-size=\"14.00\" fill=\"#000000\">yes, missing</text>\n</g>\n<!-- 12 -->\n<g id=\"node13\" class=\"node\">\n<title>12</title>\n<ellipse fill=\"none\" stroke=\"#000000\" cx=\"1062.3922\" cy=\"-18\" rx=\"90.1842\" ry=\"18\"/>\n<text text-anchor=\"middle\" x=\"1062.3922\" y=\"-14.3\" font-family=\"Times,serif\" font-size=\"14.00\" fill=\"#000000\">leaf=0.00664085988</text>\n</g>\n<!-- 5&#45;&gt;12 -->\n<g id=\"edge12\" class=\"edge\">\n<title>5&#45;&gt;12</title>\n<path fill=\"none\" stroke=\"#ff0000\" d=\"M963.7846,-87.1843C982.6321,-73.9607 1008.5113,-55.8035 1029.0286,-41.4083\"/>\n<polygon fill=\"#ff0000\" stroke=\"#ff0000\" points=\"1031.2815,-44.1032 1037.4574,-35.4946 1027.261,-38.3729 1031.2815,-44.1032\"/>\n<text text-anchor=\"middle\" x=\"1016.3922\" y=\"-57.8\" font-family=\"Times,serif\" font-size=\"14.00\" fill=\"#000000\">no</text>\n</g>\n<!-- 13 -->\n<g id=\"node14\" class=\"node\">\n<title>13</title>\n<ellipse fill=\"none\" stroke=\"#000000\" cx=\"1259.3922\" cy=\"-18\" rx=\"88.2844\" ry=\"18\"/>\n<text text-anchor=\"middle\" x=\"1259.3922\" y=\"-14.3\" font-family=\"Times,serif\" font-size=\"14.00\" fill=\"#000000\">leaf=&#45;0.0222467855</text>\n</g>\n<!-- 6&#45;&gt;13 -->\n<g id=\"edge13\" class=\"edge\">\n<title>6&#45;&gt;13</title>\n<path fill=\"none\" stroke=\"#0000ff\" d=\"M1259.3922,-86.9735C1259.3922,-75.1918 1259.3922,-59.5607 1259.3922,-46.1581\"/>\n<polygon fill=\"#0000ff\" stroke=\"#0000ff\" points=\"1262.8923,-46.0033 1259.3922,-36.0034 1255.8923,-46.0034 1262.8923,-46.0033\"/>\n<text text-anchor=\"middle\" x=\"1294.8922\" y=\"-57.8\" font-family=\"Times,serif\" font-size=\"14.00\" fill=\"#000000\">yes, missing</text>\n</g>\n<!-- 14 -->\n<g id=\"node15\" class=\"node\">\n<title>14</title>\n<ellipse fill=\"none\" stroke=\"#000000\" cx=\"1456.3922\" cy=\"-18\" rx=\"90.1842\" ry=\"18\"/>\n<text text-anchor=\"middle\" x=\"1456.3922\" y=\"-14.3\" font-family=\"Times,serif\" font-size=\"14.00\" fill=\"#000000\">leaf=0.00770126283</text>\n</g>\n<!-- 6&#45;&gt;14 -->\n<g id=\"edge14\" class=\"edge\">\n<title>6&#45;&gt;14</title>\n<path fill=\"none\" stroke=\"#ff0000\" d=\"M1298.7846,-87.6033C1330.8067,-73.4616 1376.0545,-53.4791 1409.8594,-38.55\"/>\n<polygon fill=\"#ff0000\" stroke=\"#ff0000\" points=\"1411.3364,-41.7239 1419.0701,-34.4823 1408.5085,-35.3205 1411.3364,-41.7239\"/>\n<text text-anchor=\"middle\" x=\"1377.3922\" y=\"-57.8\" font-family=\"Times,serif\" font-size=\"14.00\" fill=\"#000000\">no</text>\n</g>\n</g>\n</svg>\n"
          },
          "metadata": {
            "tags": []
          },
          "execution_count": 64
        }
      ]
    },
    {
      "cell_type": "code",
      "metadata": {
        "id": "m6rdWnGgOe-s",
        "outputId": "01cc7c92-3610-4658-8aa3-fd886dc5d322",
        "colab": {
          "base_uri": "https://localhost:8080/",
          "height": 313
        }
      },
      "source": [
        "xgboost.plot_importance(xgb_model)"
      ],
      "execution_count": 63,
      "outputs": [
        {
          "output_type": "execute_result",
          "data": {
            "text/plain": [
              "<matplotlib.axes._subplots.AxesSubplot at 0x7fb4afb4ae10>"
            ]
          },
          "metadata": {
            "tags": []
          },
          "execution_count": 63
        },
        {
          "output_type": "display_data",
          "data": {
            "image/png": "[encoded data removed]",
            "text/plain": [
              "<Figure size 432x288 with 1 Axes>"
            ]
          },
          "metadata": {
            "tags": [],
            "needs_background": "light"
          }
        }
      ]
    },
    {
      "cell_type": "code",
      "metadata": {
        "id": "Bo3MUyPeNIF_",
        "outputId": "8f8a6add-3706-4202-bf99-553908df2a08",
        "colab": {
          "base_uri": "https://localhost:8080/",
          "height": 228
        }
      },
      "source": [
        "X_train.iloc[5]"
      ],
      "execution_count": 60,
      "outputs": [
        {
          "output_type": "execute_result",
          "data": {
            "text/plain": [
              "average_return_days     -0.997171\n",
              "customer_since_months    0.043478\n",
              "average_revenue         -1.000000\n",
              "avg_used_vas_value      -1.000000\n",
              "business_type           -1.000000\n",
              "avg_wallet_bonus        -0.987185\n",
              "avg_active_ads          -0.998515\n",
              "avg_new_ads             -0.998674\n",
              "avg_email_replies       -0.995975\n",
              "avg_call_replies        -0.995932\n",
              "avg_sms_replies         -1.000000\n",
              "Name: 3631, dtype: float64"
            ]
          },
          "metadata": {
            "tags": []
          },
          "execution_count": 60
        }
      ]
    },
    {
      "cell_type": "markdown",
      "metadata": {
        "id": "aYTJixO6PJw4"
      },
      "source": [
        "## By Using SHAP values "
      ]
    },
    {
      "cell_type": "code",
      "metadata": {
        "id": "idJbfWYePVC5",
        "outputId": "5668b167-42cb-44db-a95c-39d5cfca83d4",
        "colab": {
          "base_uri": "https://localhost:8080/",
          "height": 459
        }
      },
      "source": [
        "pip install shap"
      ],
      "execution_count": 66,
      "outputs": [
        {
          "output_type": "stream",
          "text": [
            "Collecting shap\n",
            "\u001b[?25l  Downloading https://files.pythonhosted.org/packages/d2/17/37ee6c79cafbd9bb7423b54e55ea90beec66aa7638664d607bcc28de0bae/shap-0.36.0.tar.gz (319kB)\n",
            "\r\u001b[K     |█                               | 10kB 17.2MB/s eta 0:00:01\r\u001b[K     |██                              | 20kB 1.7MB/s eta 0:00:01\r\u001b[K     |███                             | 30kB 2.3MB/s eta 0:00:01\r\u001b[K     |████                            | 40kB 2.5MB/s eta 0:00:01\r\u001b[K     |█████▏                          | 51kB 2.0MB/s eta 0:00:01\r\u001b[K     |██████▏                         | 61kB 2.3MB/s eta 0:00:01\r\u001b[K     |███████▏                        | 71kB 2.5MB/s eta 0:00:01\r\u001b[K     |████████▏                       | 81kB 2.8MB/s eta 0:00:01\r\u001b[K     |█████████▏                      | 92kB 2.9MB/s eta 0:00:01\r\u001b[K     |██████████▎                     | 102kB 2.8MB/s eta 0:00:01\r\u001b[K     |███████████▎                    | 112kB 2.8MB/s eta 0:00:01\r\u001b[K     |████████████▎                   | 122kB 2.8MB/s eta 0:00:01\r\u001b[K     |█████████████▎                  | 133kB 2.8MB/s eta 0:00:01\r\u001b[K     |██████████████▍                 | 143kB 2.8MB/s eta 0:00:01\r\u001b[K     |███████████████▍                | 153kB 2.8MB/s eta 0:00:01\r\u001b[K     |████████████████▍               | 163kB 2.8MB/s eta 0:00:01\r\u001b[K     |█████████████████▍              | 174kB 2.8MB/s eta 0:00:01\r\u001b[K     |██████████████████▍             | 184kB 2.8MB/s eta 0:00:01\r\u001b[K     |███████████████████▌            | 194kB 2.8MB/s eta 0:00:01\r\u001b[K     |████████████████████▌           | 204kB 2.8MB/s eta 0:00:01\r\u001b[K     |█████████████████████▌          | 215kB 2.8MB/s eta 0:00:01\r\u001b[K     |██████████████████████▌         | 225kB 2.8MB/s eta 0:00:01\r\u001b[K     |███████████████████████▋        | 235kB 2.8MB/s eta 0:00:01\r\u001b[K     |████████████████████████▋       | 245kB 2.8MB/s eta 0:00:01\r\u001b[K     |█████████████████████████▋      | 256kB 2.8MB/s eta 0:00:01\r\u001b[K     |██████████████████████████▋     | 266kB 2.8MB/s eta 0:00:01\r\u001b[K     |███████████████████████████▋    | 276kB 2.8MB/s eta 0:00:01\r\u001b[K     |████████████████████████████▊   | 286kB 2.8MB/s eta 0:00:01\r\u001b[K     |█████████████████████████████▊  | 296kB 2.8MB/s eta 0:00:01\r\u001b[K     |██████████████████████████████▊ | 307kB 2.8MB/s eta 0:00:01\r\u001b[K     |███████████████████████████████▊| 317kB 2.8MB/s eta 0:00:01\r\u001b[K     |████████████████████████████████| 327kB 2.8MB/s \n",
            "\u001b[?25hRequirement already satisfied: numpy in /usr/local/lib/python3.6/dist-packages (from shap) (1.18.5)\n",
            "Requirement already satisfied: scipy in /usr/local/lib/python3.6/dist-packages (from shap) (1.4.1)\n",
            "Requirement already satisfied: scikit-learn in /usr/local/lib/python3.6/dist-packages (from shap) (0.22.2.post1)\n",
            "Requirement already satisfied: pandas in /usr/local/lib/python3.6/dist-packages (from shap) (1.1.2)\n",
            "Requirement already satisfied: tqdm>4.25.0 in /usr/local/lib/python3.6/dist-packages (from shap) (4.41.1)\n",
            "Collecting slicer\n",
            "  Downloading https://files.pythonhosted.org/packages/46/cf/f37ac7f61214ed044b0df91252ab19376de5587926c5b572f060eb7bf257/slicer-0.0.4-py3-none-any.whl\n",
            "Requirement already satisfied: numba in /usr/local/lib/python3.6/dist-packages (from shap) (0.48.0)\n",
            "Requirement already satisfied: joblib>=0.11 in /usr/local/lib/python3.6/dist-packages (from scikit-learn->shap) (0.16.0)\n",
            "Requirement already satisfied: pytz>=2017.2 in /usr/local/lib/python3.6/dist-packages (from pandas->shap) (2018.9)\n",
            "Requirement already satisfied: python-dateutil>=2.7.3 in /usr/local/lib/python3.6/dist-packages (from pandas->shap) (2.8.1)\n",
            "Requirement already satisfied: setuptools in /usr/local/lib/python3.6/dist-packages (from numba->shap) (50.3.0)\n",
            "Requirement already satisfied: llvmlite<0.32.0,>=0.31.0dev0 in /usr/local/lib/python3.6/dist-packages (from numba->shap) (0.31.0)\n",
            "Requirement already satisfied: six>=1.5 in /usr/local/lib/python3.6/dist-packages (from python-dateutil>=2.7.3->pandas->shap) (1.15.0)\n",
            "Building wheels for collected packages: shap\n",
            "  Building wheel for shap (setup.py) ... \u001b[?25l\u001b[?25hdone\n",
            "  Created wheel for shap: filename=shap-0.36.0-cp36-cp36m-linux_x86_64.whl size=456447 sha256=ee7cc599b1b7ea12f4cfdd7eb8b72541777ca7895f0559717f785b26afca991c\n",
            "  Stored in directory: /root/.cache/pip/wheels/fb/15/e1/8f61106790da27e0765aaa6e664550ca2c50ea339099e799f4\n",
            "Successfully built shap\n",
            "Installing collected packages: slicer, shap\n",
            "Successfully installed shap-0.36.0 slicer-0.0.4\n"
          ],
          "name": "stdout"
        }
      ]
    },
    {
      "cell_type": "code",
      "metadata": {
        "id": "7ssAQRHcPLsX"
      },
      "source": [
        "import shap"
      ],
      "execution_count": 68,
      "outputs": []
    },
    {
      "cell_type": "code",
      "metadata": {
        "id": "JGYFAICvPWJh",
        "outputId": "feeecf70-f0c2-44d0-86e3-7e0bccc8b3a8",
        "colab": {
          "base_uri": "https://localhost:8080/",
          "height": 267
        }
      },
      "source": [
        "explainer = shap.TreeExplainer(xgb_model)\n",
        "shap_values = explainer.shap_values(X_train)\n",
        "\n",
        "# visualize the first prediction's explanation (use matplotlib=True to avoid Javascript)\n",
        "shap.force_plot(explainer.expected_value, shap_values[0,:], X_train.iloc[0,:],matplotlib=True)"
      ],
      "execution_count": 71,
      "outputs": [
        {
          "output_type": "display_data",
          "data": {
            "image/png": "[encoded data removed]",
            "text/plain": [
              "<Figure size 1440x216 with 1 Axes>"
            ]
          },
          "metadata": {
            "tags": [],
            "needs_background": "light"
          }
        }
      ]
    },
    {
      "cell_type": "code",
      "metadata": {
        "id": "lcYtz9kYM7AR",
        "outputId": "60d345f9-432d-4574-98ee-927fdf3d1db2",
        "colab": {
          "base_uri": "https://localhost:8080/",
          "height": 390
        }
      },
      "source": [
        "# summarize the effects of all the features\n",
        "shap.summary_plot(shap_values, X_train)"
      ],
      "execution_count": 73,
      "outputs": [
        {
          "output_type": "display_data",
          "data": {
            "image/png": "[encoded data removed]",
            "text/plain": [
              "<Figure size 576x424.8 with 2 Axes>"
            ]
          },
          "metadata": {
            "tags": [],
            "needs_background": "light"
          }
        }
      ]
    },
    {
      "cell_type": "markdown",
      "metadata": {
        "id": "TLQX2eRT52fh"
      },
      "source": [
        "# Using Deep Learning (Pytorch)"
      ]
    },
    {
      "cell_type": "markdown",
      "metadata": {
        "id": "jT4vNLyI573o"
      },
      "source": [
        "## Libraries"
      ]
    },
    {
      "cell_type": "code",
      "metadata": {
        "id": "KgX8VmYn4Qon"
      },
      "source": [
        "import torch\n",
        "from torch.utils.data import Dataset, DataLoader\n",
        "import torch.optim as optim\n",
        "import torch.nn as nn\n",
        "import torch.nn.functional as F\n",
        "from torchvision import models\n",
        "from datetime import datetime"
      ],
      "execution_count": 43,
      "outputs": []
    },
    {
      "cell_type": "markdown",
      "metadata": {
        "id": "a8gpy2hb6LW1"
      },
      "source": [
        "## Dataset Genearator"
      ]
    },
    {
      "cell_type": "code",
      "metadata": {
        "id": "aYxJEhM3590_"
      },
      "source": [
        "class Dataset_gen(Dataset):\n",
        "    def __init__(self, X, Y):\n",
        "        self.x = X\n",
        "        self.y = Y\n",
        "        \n",
        "    def __len__(self):\n",
        "        return len(self.y)\n",
        "    \n",
        "    def __getitem__(self, idx):\n",
        "      if isinstance(idx, torch.Tensor):\n",
        "            idx = idx.tolist()\n",
        "      return self.x[idx], self.y[idx]"
      ],
      "execution_count": 44,
      "outputs": []
    },
    {
      "cell_type": "code",
      "metadata": {
        "id": "maWZ-bhq7clh"
      },
      "source": [
        "train_data = Dataset_gen(torch.FloatTensor(X_train.values), torch.FloatTensor(y_train.values))\n",
        "test_data = Dataset_gen(torch.FloatTensor(X_test.values), torch.FloatTensor(y_test.values))"
      ],
      "execution_count": 45,
      "outputs": []
    },
    {
      "cell_type": "markdown",
      "metadata": {
        "id": "Ba5sikI76PgZ"
      },
      "source": [
        "## Model"
      ]
    },
    {
      "cell_type": "code",
      "metadata": {
        "id": "YOoVKcJR6Ryg"
      },
      "source": [
        "class Network(nn.Module):\n",
        "    def __init__(self):\n",
        "        super().__init__()\n",
        "        # Number of input features is 11.\n",
        "        self.layer_1 = nn.Linear(11, 64) \n",
        "        self.layer_2 = nn.Linear(64, 64)\n",
        "        self.layer_out = nn.Linear(64, 1) \n",
        "        \n",
        "        self.relu = nn.ReLU()\n",
        "        self.dropout = nn.Dropout(p=0.1)\n",
        "        self.batchnorm1 = nn.BatchNorm1d(64)\n",
        "        self.batchnorm2 = nn.BatchNorm1d(64)\n",
        "        \n",
        "    def forward(self, inputs):\n",
        "        x = self.relu(self.layer_1(inputs))\n",
        "        x = self.batchnorm1(x)\n",
        "        x = self.relu(self.layer_2(x))\n",
        "        x = self.batchnorm2(x)\n",
        "        x = self.dropout(x)\n",
        "        x = self.layer_out(x)\n",
        "        \n",
        "        return x"
      ],
      "execution_count": 46,
      "outputs": []
    },
    {
      "cell_type": "code",
      "metadata": {
        "id": "h6mb5YOc6vZt"
      },
      "source": [
        "device = torch.device(\"cuda:0\" if torch.cuda.is_available() else \"cpu\")"
      ],
      "execution_count": 47,
      "outputs": []
    },
    {
      "cell_type": "markdown",
      "metadata": {
        "id": "8UEfeco16wI5"
      },
      "source": [
        "## Defining Network Parameters"
      ]
    },
    {
      "cell_type": "code",
      "metadata": {
        "id": "d-a4ZsBF8GVJ",
        "outputId": "79ee77d9-e3ec-4e5b-ccf9-3f8a7658fa9a",
        "colab": {
          "base_uri": "https://localhost:8080/",
          "height": 175
        }
      },
      "source": [
        "model = Network()\n",
        "model.to(device)"
      ],
      "execution_count": 48,
      "outputs": [
        {
          "output_type": "execute_result",
          "data": {
            "text/plain": [
              "Network(\n",
              "  (layer_1): Linear(in_features=11, out_features=64, bias=True)\n",
              "  (layer_2): Linear(in_features=64, out_features=64, bias=True)\n",
              "  (layer_out): Linear(in_features=64, out_features=1, bias=True)\n",
              "  (relu): ReLU()\n",
              "  (dropout): Dropout(p=0.1, inplace=False)\n",
              "  (batchnorm1): BatchNorm1d(64, eps=1e-05, momentum=0.1, affine=True, track_running_stats=True)\n",
              "  (batchnorm2): BatchNorm1d(64, eps=1e-05, momentum=0.1, affine=True, track_running_stats=True)\n",
              ")"
            ]
          },
          "metadata": {
            "tags": []
          },
          "execution_count": 48
        }
      ]
    },
    {
      "cell_type": "code",
      "metadata": {
        "id": "AAErsJI763Rf"
      },
      "source": [
        "criterion = nn.BCEWithLogitsLoss()\n",
        "optimizer = optim.Adam(model.parameters(), lr=1e-2)"
      ],
      "execution_count": 49,
      "outputs": []
    },
    {
      "cell_type": "code",
      "metadata": {
        "id": "Q_Qto8BV7Msq"
      },
      "source": [
        "train_loader = DataLoader(dataset=train_data, batch_size=len(X_train), shuffle=True)\n",
        "test_loader = DataLoader(dataset=test_data, batch_size=len(X_test), shuffle=True)"
      ],
      "execution_count": 50,
      "outputs": []
    },
    {
      "cell_type": "markdown",
      "metadata": {
        "id": "Ih1qCPr37UlM"
      },
      "source": [
        "## Training"
      ]
    },
    {
      "cell_type": "code",
      "metadata": {
        "id": "DcYqwIoC6-w8"
      },
      "source": [
        "def binary_acc(y_pred, y_test):\n",
        "    y_pred_tag = torch.round(torch.sigmoid(y_pred))\n",
        "\n",
        "    correct_results_sum = (y_pred_tag == y_test).sum().float()\n",
        "    acc = correct_results_sum/y_test.shape[0]\n",
        "    acc = torch.round(acc * 100)\n",
        "    \n",
        "    return acc"
      ],
      "execution_count": 51,
      "outputs": []
    },
    {
      "cell_type": "code",
      "metadata": {
        "id": "tEMF0jk77CQA",
        "outputId": "7aa9da81-38be-45ad-cffa-6fd29dbb5f6a",
        "colab": {
          "base_uri": "https://localhost:8080/",
          "height": 193
        }
      },
      "source": [
        "model.train()\n",
        "for e in range(1, 10+1):\n",
        "    epoch_loss = 0\n",
        "    epoch_acc = 0\n",
        "    for data, target_label in train_loader:\n",
        "        data, target_label = data.to(device), target_label.to(device)\n",
        "        optimizer.zero_grad()\n",
        "        \n",
        "        y_pred = model(data)\n",
        "        \n",
        "        loss = criterion(y_pred, target_label.unsqueeze(1))\n",
        "        acc = binary_acc(y_pred, target_label.unsqueeze(1))\n",
        "        \n",
        "        loss.backward()\n",
        "        optimizer.step()\n",
        "        \n",
        "        epoch_loss += loss.item()\n",
        "        epoch_acc += acc.item()\n",
        "        \n",
        "\n",
        "    print(f'Epoch {e+0:03}: | Loss: {epoch_loss/len(train_loader):.5f} | Acc: {epoch_acc/len(train_loader):.3f}')"
      ],
      "execution_count": 52,
      "outputs": [
        {
          "output_type": "stream",
          "text": [
            "Epoch 001: | Loss: 0.77298 | Acc: 45.000\n",
            "Epoch 002: | Loss: 0.73024 | Acc: 66.000\n",
            "Epoch 003: | Loss: 0.66611 | Acc: 66.000\n",
            "Epoch 004: | Loss: 0.62939 | Acc: 69.000\n",
            "Epoch 005: | Loss: 0.61970 | Acc: 80.000\n",
            "Epoch 006: | Loss: 0.59857 | Acc: 83.000\n",
            "Epoch 007: | Loss: 0.57919 | Acc: 81.000\n",
            "Epoch 008: | Loss: 0.56023 | Acc: 80.000\n",
            "Epoch 009: | Loss: 0.53985 | Acc: 79.000\n",
            "Epoch 010: | Loss: 0.52228 | Acc: 79.000\n"
          ],
          "name": "stdout"
        }
      ]
    },
    {
      "cell_type": "code",
      "metadata": {
        "id": "fl-lpjuv_i9c",
        "outputId": "2094a8d5-1507-4b6b-afb1-fd1636090206",
        "colab": {
          "base_uri": "https://localhost:8080/",
          "height": 34
        }
      },
      "source": [
        "y_pred_list = []\n",
        "for data, target_label in test_loader:\n",
        "        data, target_label = data.to(device), target_label.to(device)\n",
        "        \n",
        "        y_pred = model(data)\n",
        "        \n",
        "        y_test_pred1 = model(data)\n",
        "        y_test_pred = torch.sigmoid(y_test_pred1)\n",
        "        y_pred_tag = torch.round(y_test_pred)\n",
        "        y_pred_list.extend(y_pred_tag.cpu().detach().numpy())\n",
        "\n",
        "        acc = binary_acc(y_test_pred1, target_label.unsqueeze(1))\n",
        "\n",
        "        \n",
        "print('Accuracy on Test Data :', acc.item())"
      ],
      "execution_count": 53,
      "outputs": [
        {
          "output_type": "stream",
          "text": [
            "Accuracy on Test Data : 86.0\n"
          ],
          "name": "stdout"
        }
      ]
    },
    {
      "cell_type": "markdown",
      "metadata": {
        "id": "xH349oj-Jr4j"
      },
      "source": [
        "## Analysing the Result"
      ]
    },
    {
      "cell_type": "code",
      "metadata": {
        "id": "1Ghe6MT5JwW8"
      },
      "source": [
        "from sklearn.metrics import confusion_matrix, plot_confusion_matrix"
      ],
      "execution_count": 54,
      "outputs": []
    },
    {
      "cell_type": "code",
      "metadata": {
        "id": "6eBs66lJJgOg",
        "outputId": "a778d1ff-7af3-44ad-fee8-65fd8025cce7",
        "colab": {
          "base_uri": "https://localhost:8080/",
          "height": 52
        }
      },
      "source": [
        "confusion_matrix(y_test, y_pred_list)"
      ],
      "execution_count": 55,
      "outputs": [
        {
          "output_type": "execute_result",
          "data": {
            "text/plain": [
              "array([[532,  66],\n",
              "       [ 50,  12]])"
            ]
          },
          "metadata": {
            "tags": []
          },
          "execution_count": 55
        }
      ]
    }
  ]
}