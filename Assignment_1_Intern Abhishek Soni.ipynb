{
  "nbformat": 4,
  "nbformat_minor": 0,
  "metadata": {
    "colab": {
      "name": "Assignment 1 Intern",
      "provenance": [],
      "collapsed_sections": [],
      "toc_visible": true
    },
    "kernelspec": {
      "name": "python3",
      "display_name": "Python 3"
    },
    "accelerator": "GPU"
  },
  "cells": [
    {
      "cell_type": "markdown",
      "metadata": {
        "id": "59nfLRKsQ_e5"
      },
      "source": [
        "**Abhishek Soni**\n",
        "\n",
        "---\n",
        "\n",
        "\n",
        "**Contact**: abhishekajt@gmail.com, abhisheksoni.iitb@gmail.com"
      ]
    },
    {
      "cell_type": "markdown",
      "metadata": {
        "id": "-mx82wLjQBy9"
      },
      "source": [
        "Some insight on the Dataset\n",
        "\n",
        "This dataset is basically about how many customers left or remained in a business as function of differecnt parameters"
      ]
    },
    {
      "cell_type": "markdown",
      "metadata": {
        "id": "jH4s36EHRUWb"
      },
      "source": [
        "# **Contents**\n",
        "\n",
        "\n",
        "1.   EDA\n",
        "2.   Data Preprocessing\n",
        "3.   Models\n",
        "\n",
        "> XGBoost\n",
        "\n",
        "\n",
        "*   Data Preprocessing\n",
        "*   Upsampling the Dataset\n",
        "*   Model Training\n",
        "*   Feature Analysis\n",
        "\n",
        "> Deep Learning Model (Trained on GPU using PyTorch as backend)\n",
        "\n",
        "*   Data preprocessing\n",
        "*   Dataset Generation\n",
        "*   Network Architecture\n",
        "*   Training Model\n",
        "*   Testing the Model\n",
        "*   Analysing the Results\n",
        "\n",
        "4.   Concluding remarks on Comparing the XGBoost and Deep Learning Model\n",
        "\n",
        "\n",
        "\n",
        "\n",
        "\n",
        "\n",
        "\n",
        "\n",
        "\n",
        "\n"
      ]
    },
    {
      "cell_type": "markdown",
      "metadata": {
        "id": "tAYBY_YRZklk"
      },
      "source": [
        "# EDA"
      ]
    },
    {
      "cell_type": "code",
      "metadata": {
        "id": "676KzsVLixtt"
      },
      "source": [
        "import pandas as pd\n",
        "import numpy as np"
      ],
      "execution_count": 3,
      "outputs": []
    },
    {
      "cell_type": "code",
      "metadata": {
        "id": "W85ptLT6jvPx",
        "outputId": "58dc6a3f-6665-436e-f7a8-30f60ee13d4f",
        "colab": {
          "base_uri": "https://localhost:8080/",
          "height": 215
        }
      },
      "source": [
        "df = pd.read_csv('taskdata.csv')\n",
        "df.head()"
      ],
      "execution_count": 4,
      "outputs": [
        {
          "output_type": "execute_result",
          "data": {
            "text/html": [
              "<div>\n",
              "<style scoped>\n",
              "    .dataframe tbody tr th:only-of-type {\n",
              "        vertical-align: middle;\n",
              "    }\n",
              "\n",
              "    .dataframe tbody tr th {\n",
              "        vertical-align: top;\n",
              "    }\n",
              "\n",
              "    .dataframe thead th {\n",
              "        text-align: right;\n",
              "    }\n",
              "</style>\n",
              "<table border=\"1\" class=\"dataframe\">\n",
              "  <thead>\n",
              "    <tr style=\"text-align: right;\">\n",
              "      <th></th>\n",
              "      <th>user_id</th>\n",
              "      <th>account_id</th>\n",
              "      <th>max_return_days</th>\n",
              "      <th>average_return_days</th>\n",
              "      <th>customer_since_months</th>\n",
              "      <th>total_revenue</th>\n",
              "      <th>average_revenue</th>\n",
              "      <th>avg_vas_count</th>\n",
              "      <th>avg_used_vas_value</th>\n",
              "      <th>business_type</th>\n",
              "      <th>avg_wallet_bonus</th>\n",
              "      <th>avg_active_ads</th>\n",
              "      <th>avg_new_ads</th>\n",
              "      <th>avg_email_replies</th>\n",
              "      <th>avg_call_replies</th>\n",
              "      <th>avg_sms_replies</th>\n",
              "      <th>target</th>\n",
              "    </tr>\n",
              "  </thead>\n",
              "  <tbody>\n",
              "    <tr>\n",
              "      <th>0</th>\n",
              "      <td>410039</td>\n",
              "      <td>496.0</td>\n",
              "      <td>8</td>\n",
              "      <td>1.500000</td>\n",
              "      <td>14</td>\n",
              "      <td>0.0</td>\n",
              "      <td>0.0</td>\n",
              "      <td>3.666667</td>\n",
              "      <td>66.666667</td>\n",
              "      <td>0</td>\n",
              "      <td>300.0</td>\n",
              "      <td>79.333333</td>\n",
              "      <td>15.250000</td>\n",
              "      <td>32.416667</td>\n",
              "      <td>27.916667</td>\n",
              "      <td>0.250000</td>\n",
              "      <td>0</td>\n",
              "    </tr>\n",
              "    <tr>\n",
              "      <th>1</th>\n",
              "      <td>410240</td>\n",
              "      <td>499.0</td>\n",
              "      <td>37</td>\n",
              "      <td>8.200000</td>\n",
              "      <td>10</td>\n",
              "      <td>0.0</td>\n",
              "      <td>0.0</td>\n",
              "      <td>4.900000</td>\n",
              "      <td>114.000000</td>\n",
              "      <td>0</td>\n",
              "      <td>0.0</td>\n",
              "      <td>232.100000</td>\n",
              "      <td>18.300000</td>\n",
              "      <td>16.200000</td>\n",
              "      <td>13.800000</td>\n",
              "      <td>0.000000</td>\n",
              "      <td>0</td>\n",
              "    </tr>\n",
              "    <tr>\n",
              "      <th>2</th>\n",
              "      <td>411764</td>\n",
              "      <td>493.0</td>\n",
              "      <td>9</td>\n",
              "      <td>1.533333</td>\n",
              "      <td>15</td>\n",
              "      <td>0.0</td>\n",
              "      <td>0.0</td>\n",
              "      <td>5.333333</td>\n",
              "      <td>106.666667</td>\n",
              "      <td>0</td>\n",
              "      <td>150.0</td>\n",
              "      <td>55.083333</td>\n",
              "      <td>3.750000</td>\n",
              "      <td>20.250000</td>\n",
              "      <td>24.500000</td>\n",
              "      <td>0.000000</td>\n",
              "      <td>0</td>\n",
              "    </tr>\n",
              "    <tr>\n",
              "      <th>3</th>\n",
              "      <td>411985</td>\n",
              "      <td>262.0</td>\n",
              "      <td>1</td>\n",
              "      <td>1.000000</td>\n",
              "      <td>14</td>\n",
              "      <td>0.0</td>\n",
              "      <td>0.0</td>\n",
              "      <td>6.307692</td>\n",
              "      <td>176.153846</td>\n",
              "      <td>0</td>\n",
              "      <td>1481.0</td>\n",
              "      <td>409.538462</td>\n",
              "      <td>80.769231</td>\n",
              "      <td>87.461538</td>\n",
              "      <td>57.615385</td>\n",
              "      <td>0.000000</td>\n",
              "      <td>1</td>\n",
              "    </tr>\n",
              "    <tr>\n",
              "      <th>4</th>\n",
              "      <td>412071</td>\n",
              "      <td>496.0</td>\n",
              "      <td>1</td>\n",
              "      <td>1.000000</td>\n",
              "      <td>18</td>\n",
              "      <td>0.0</td>\n",
              "      <td>0.0</td>\n",
              "      <td>5.846154</td>\n",
              "      <td>109.230769</td>\n",
              "      <td>0</td>\n",
              "      <td>41.5</td>\n",
              "      <td>48.230769</td>\n",
              "      <td>1.692308</td>\n",
              "      <td>17.461538</td>\n",
              "      <td>25.769231</td>\n",
              "      <td>0.230769</td>\n",
              "      <td>0</td>\n",
              "    </tr>\n",
              "  </tbody>\n",
              "</table>\n",
              "</div>"
            ],
            "text/plain": [
              "   user_id  account_id  ...  avg_sms_replies  target\n",
              "0   410039       496.0  ...         0.250000       0\n",
              "1   410240       499.0  ...         0.000000       0\n",
              "2   411764       493.0  ...         0.000000       0\n",
              "3   411985       262.0  ...         0.000000       1\n",
              "4   412071       496.0  ...         0.230769       0\n",
              "\n",
              "[5 rows x 17 columns]"
            ]
          },
          "metadata": {
            "tags": []
          },
          "execution_count": 4
        }
      ]
    },
    {
      "cell_type": "code",
      "metadata": {
        "id": "3vwgSc5DjzxG",
        "outputId": "b1d72952-b37b-4815-963c-727faccaa0a5",
        "colab": {
          "base_uri": "https://localhost:8080/",
          "height": 70
        }
      },
      "source": [
        "def details(df):\n",
        "  print(\"Description of training set\")\n",
        "  print(\"Shape: \\t\\t\\t\", df.shape)\n",
        "  print(\"#NaNs: \\t\\t\\t\", df.isna().sum().sum()) \n",
        "  \n",
        "details(df)"
      ],
      "execution_count": 5,
      "outputs": [
        {
          "output_type": "stream",
          "text": [
            "Description of training set\n",
            "Shape: \t\t\t (4407, 17)\n",
            "#NaNs: \t\t\t 7\n"
          ],
          "name": "stdout"
        }
      ]
    },
    {
      "cell_type": "code",
      "metadata": {
        "id": "9Uym9BoTLihb",
        "outputId": "82352b2a-a7e3-4197-e67f-eada5b06190b",
        "colab": {
          "base_uri": "https://localhost:8080/",
          "height": 439
        }
      },
      "source": [
        "df.info()"
      ],
      "execution_count": 6,
      "outputs": [
        {
          "output_type": "stream",
          "text": [
            "<class 'pandas.core.frame.DataFrame'>\n",
            "RangeIndex: 4407 entries, 0 to 4406\n",
            "Data columns (total 17 columns):\n",
            " #   Column                 Non-Null Count  Dtype  \n",
            "---  ------                 --------------  -----  \n",
            " 0   user_id                4407 non-null   int64  \n",
            " 1   account_id             4400 non-null   float64\n",
            " 2   max_return_days        4407 non-null   int64  \n",
            " 3   average_return_days    4407 non-null   float64\n",
            " 4   customer_since_months  4407 non-null   int64  \n",
            " 5   total_revenue          4407 non-null   float64\n",
            " 6   average_revenue        4407 non-null   float64\n",
            " 7   avg_vas_count          4407 non-null   float64\n",
            " 8   avg_used_vas_value     4407 non-null   float64\n",
            " 9   business_type          4407 non-null   int64  \n",
            " 10  avg_wallet_bonus       4407 non-null   float64\n",
            " 11  avg_active_ads         4407 non-null   float64\n",
            " 12  avg_new_ads            4407 non-null   float64\n",
            " 13  avg_email_replies      4407 non-null   float64\n",
            " 14  avg_call_replies       4407 non-null   float64\n",
            " 15  avg_sms_replies        4407 non-null   float64\n",
            " 16  target                 4407 non-null   int64  \n",
            "dtypes: float64(12), int64(5)\n",
            "memory usage: 585.4 KB\n"
          ],
          "name": "stdout"
        }
      ]
    },
    {
      "cell_type": "code",
      "metadata": {
        "id": "SKuvyOvBMJ3I",
        "outputId": "119b291b-33de-464a-a5e4-d1f5652e1e0f",
        "colab": {
          "base_uri": "https://localhost:8080/",
          "height": 34
        }
      },
      "source": [
        "# Columns containing NAN\n",
        "def ctd(df):\n",
        "  columns = df.columns[df.isna().any()].tolist()\n",
        "  return columns\n",
        "ctd(df)"
      ],
      "execution_count": 7,
      "outputs": [
        {
          "output_type": "execute_result",
          "data": {
            "text/plain": [
              "['account_id']"
            ]
          },
          "metadata": {
            "tags": []
          },
          "execution_count": 7
        }
      ]
    },
    {
      "cell_type": "code",
      "metadata": {
        "id": "74Me38wNvB3z",
        "outputId": "0f8d2a15-f523-445c-b0cd-60061177e58f",
        "colab": {
          "base_uri": "https://localhost:8080/",
          "height": 34
        }
      },
      "source": [
        "# Location of the NAN\n",
        "print(df.loc[pd.isna(df[df.columns[1]]), :].index)"
      ],
      "execution_count": 8,
      "outputs": [
        {
          "output_type": "stream",
          "text": [
            "Int64Index([764, 1002, 2276, 3792, 3967, 4148, 4259], dtype='int64')\n"
          ],
          "name": "stdout"
        }
      ]
    },
    {
      "cell_type": "markdown",
      "metadata": {
        "id": "D6D3-2i8MVKn"
      },
      "source": [
        "There are 7 Missing Values in the 'account_id' columns.\n",
        "WE can remove them easily"
      ]
    },
    {
      "cell_type": "code",
      "metadata": {
        "id": "oBXBM18D1S1Z",
        "outputId": "1e67e8b3-dba7-4608-d93f-27d2a6ceeb16",
        "colab": {
          "base_uri": "https://localhost:8080/",
          "height": 70
        }
      },
      "source": [
        "df.dropna(inplace=True)\n",
        "details(df)"
      ],
      "execution_count": 9,
      "outputs": [
        {
          "output_type": "stream",
          "text": [
            "Description of training set\n",
            "Shape: \t\t\t (4400, 17)\n",
            "#NaNs: \t\t\t 0\n"
          ],
          "name": "stdout"
        }
      ]
    },
    {
      "cell_type": "code",
      "metadata": {
        "id": "grG7TKy3kvwg",
        "outputId": "c4164624-30f6-4f2f-d87f-8cc102a76302",
        "colab": {
          "base_uri": "https://localhost:8080/",
          "height": 70
        }
      },
      "source": [
        "def description(df):\n",
        "  print(\"#Number of Unique Accounts: \\t\\t\", df.account_id.nunique())\n",
        "  print(\"Revenue range from: \\t\", df.total_revenue.min(), \" to \", df.total_revenue.max())\n",
        "  print(\"Maximum return day: \\t\", df.max_return_days.max())\n",
        "\n",
        "description(df)"
      ],
      "execution_count": 10,
      "outputs": [
        {
          "output_type": "stream",
          "text": [
            "#Number of Unique Accounts: \t\t 15\n",
            "Revenue range from: \t 0.0  to  43957.1727\n",
            "Maximum return day: \t 354\n"
          ],
          "name": "stdout"
        }
      ]
    },
    {
      "cell_type": "markdown",
      "metadata": {
        "id": "UX_xOCxvNMeW"
      },
      "source": [
        "Unique Values in the Dataset"
      ]
    },
    {
      "cell_type": "code",
      "metadata": {
        "id": "DXuWWXPcNLyI",
        "outputId": "f0dc11be-1f38-44b5-9dea-1e724e145d1c",
        "colab": {
          "base_uri": "https://localhost:8080/",
          "height": 316
        }
      },
      "source": [
        "def description(df):\n",
        "  for cols in df.columns:\n",
        "    print('Unique values for ',cols,' : ',len(df[cols].unique()))\n",
        "description(df)"
      ],
      "execution_count": 11,
      "outputs": [
        {
          "output_type": "stream",
          "text": [
            "Unique values for  user_id  :  4400\n",
            "Unique values for  account_id  :  15\n",
            "Unique values for  max_return_days  :  229\n",
            "Unique values for  average_return_days  :  917\n",
            "Unique values for  customer_since_months  :  23\n",
            "Unique values for  total_revenue  :  434\n",
            "Unique values for  average_revenue  :  510\n",
            "Unique values for  avg_vas_count  :  677\n",
            "Unique values for  avg_used_vas_value  :  1027\n",
            "Unique values for  business_type  :  6\n",
            "Unique values for  avg_wallet_bonus  :  989\n",
            "Unique values for  avg_active_ads  :  2755\n",
            "Unique values for  avg_new_ads  :  1421\n",
            "Unique values for  avg_email_replies  :  1900\n",
            "Unique values for  avg_call_replies  :  1932\n",
            "Unique values for  avg_sms_replies  :  140\n",
            "Unique values for  target  :  2\n"
          ],
          "name": "stdout"
        }
      ]
    },
    {
      "cell_type": "markdown",
      "metadata": {
        "id": "zWWuUv-2NqDA"
      },
      "source": [
        "This gives us the idea of Unique values, \n",
        "\n",
        "User-id -- All entries are unique \n",
        "\n",
        "Since the business type is Categorical Type"
      ]
    },
    {
      "cell_type": "code",
      "metadata": {
        "id": "iQOut3_sN3V8"
      },
      "source": [
        ""
      ],
      "execution_count": 11,
      "outputs": []
    },
    {
      "cell_type": "markdown",
      "metadata": {
        "id": "x4Nepm4LPHT0"
      },
      "source": [
        "Target value data analysis"
      ]
    },
    {
      "cell_type": "code",
      "metadata": {
        "id": "xL5Az4FpPFU_",
        "outputId": "d729b4a3-afcb-4828-a090-0d4ac1fdac19",
        "colab": {
          "base_uri": "https://localhost:8080/",
          "height": 70
        }
      },
      "source": [
        "df.target.value_counts()"
      ],
      "execution_count": 12,
      "outputs": [
        {
          "output_type": "execute_result",
          "data": {
            "text/plain": [
              "0    3946\n",
              "1     454\n",
              "Name: target, dtype: int64"
            ]
          },
          "metadata": {
            "tags": []
          },
          "execution_count": 12
        }
      ]
    },
    {
      "cell_type": "markdown",
      "metadata": {
        "id": "5OQxQf2IP6_g"
      },
      "source": [
        "This gives us the idea of how many users left"
      ]
    },
    {
      "cell_type": "markdown",
      "metadata": {
        "id": "ymxG8EFbt6j9"
      },
      "source": [
        "## Heat Map for DATA correlation"
      ]
    },
    {
      "cell_type": "code",
      "metadata": {
        "id": "iwwqTPlmZmx5",
        "outputId": "53de90d1-f1f2-46f2-fa19-7be06032a69d",
        "colab": {
          "base_uri": "https://localhost:8080/",
          "height": 978
        }
      },
      "source": [
        "import seaborn as sns\n",
        "import matplotlib.pyplot as plt\n",
        "#get correlations of each features in dataset\n",
        "corrmat = df.corr()\n",
        "top_corr_features = corrmat.index\n",
        "plt.figure(figsize=(15,15))\n",
        "#plot heat map\n",
        "g=sns.heatmap(df[top_corr_features].corr(),annot=True,cmap=\"RdYlGn\")"
      ],
      "execution_count": 13,
      "outputs": [
        {
          "output_type": "display_data",
          "data": {
            "image/png": "[encoded data removed]",
            "text/plain": [
              "<Figure size 1080x1080 with 2 Axes>"
            ]
          },
          "metadata": {
            "tags": [],
            "needs_background": "light"
          }
        }
      ]
    },
    {
      "cell_type": "markdown",
      "metadata": {
        "id": "P2A-RXyLPkt_"
      },
      "source": [
        "The above heatmap gives an idea which features to choose.\n"
      ]
    },
    {
      "cell_type": "code",
      "metadata": {
        "id": "sJhxnuMR1eoU",
        "outputId": "3129943e-936b-4aa9-c17b-0df2988cfa51",
        "colab": {
          "base_uri": "https://localhost:8080/",
          "height": 34
        }
      },
      "source": [
        "features = [ 'average_return_days',\n",
        "       'customer_since_months', 'average_revenue',\n",
        "        'avg_used_vas_value', 'business_type',\n",
        "       'avg_wallet_bonus', 'avg_active_ads', 'avg_new_ads',\n",
        "       'avg_email_replies', 'avg_call_replies', 'avg_sms_replies']\n",
        "len(features)"
      ],
      "execution_count": 14,
      "outputs": [
        {
          "output_type": "execute_result",
          "data": {
            "text/plain": [
              "11"
            ]
          },
          "metadata": {
            "tags": []
          },
          "execution_count": 14
        }
      ]
    },
    {
      "cell_type": "markdown",
      "metadata": {
        "id": "1sD8u_tUQsJ7"
      },
      "source": [
        "## Anomaly Detections"
      ]
    },
    {
      "cell_type": "code",
      "metadata": {
        "id": "ulOWKNx7Qwjk",
        "outputId": "c9ec08c3-66da-44c1-dd06-130637e0b1df",
        "colab": {
          "base_uri": "https://localhost:8080/",
          "height": 228
        }
      },
      "source": [
        "def anomaly(df,features):\n",
        "  anaomaly_cols = []\n",
        "  print('Anomalies in the Dataset :')\n",
        "  for column in features:\n",
        "      IQR = df[column].quantile(0.75) - df[column].quantile(0.25) \n",
        "      limit_upper = df[column].quantile(0.75) + IQR*1.5\n",
        "      print(column,' : ',len(df[df[column] > limit_upper]))\n",
        "\n",
        "      if len(df[df[column] > limit_upper]):\n",
        "        anaomaly_cols.append(column)\n",
        "  return anaomaly_cols\n",
        "  \n",
        "anaomaly_cols =anomaly(df,features)"
      ],
      "execution_count": 15,
      "outputs": [
        {
          "output_type": "stream",
          "text": [
            "Anomalies in the Dataset :\n",
            "average_return_days  :  595\n",
            "customer_since_months  :  0\n",
            "average_revenue  :  572\n",
            "avg_used_vas_value  :  196\n",
            "business_type  :  922\n",
            "avg_wallet_bonus  :  482\n",
            "avg_active_ads  :  345\n",
            "avg_new_ads  :  396\n",
            "avg_email_replies  :  358\n",
            "avg_call_replies  :  351\n",
            "avg_sms_replies  :  449\n"
          ],
          "name": "stdout"
        }
      ]
    },
    {
      "cell_type": "code",
      "metadata": {
        "id": "wcCeJ6-lV2ND",
        "outputId": "d3e2a1f4-3d57-4945-b830-0c9268f7fe2e",
        "colab": {
          "base_uri": "https://localhost:8080/",
          "height": 193
        }
      },
      "source": [
        "anaomaly_cols"
      ],
      "execution_count": 16,
      "outputs": [
        {
          "output_type": "execute_result",
          "data": {
            "text/plain": [
              "['average_return_days',\n",
              " 'average_revenue',\n",
              " 'avg_used_vas_value',\n",
              " 'business_type',\n",
              " 'avg_wallet_bonus',\n",
              " 'avg_active_ads',\n",
              " 'avg_new_ads',\n",
              " 'avg_email_replies',\n",
              " 'avg_call_replies',\n",
              " 'avg_sms_replies']"
            ]
          },
          "metadata": {
            "tags": []
          },
          "execution_count": 16
        }
      ]
    },
    {
      "cell_type": "markdown",
      "metadata": {
        "id": "qYp_QBHbUJc4"
      },
      "source": [
        "The above analysis gives us that this dataset contains many anomalies, we cannot directly reject them, but to decide which one to remove and which one to retain"
      ]
    },
    {
      "cell_type": "markdown",
      "metadata": {
        "id": "UZNCC057WD41"
      },
      "source": [
        "### Anomaly Columns Analysis "
      ]
    },
    {
      "cell_type": "code",
      "metadata": {
        "id": "OABiiUIRWK2J"
      },
      "source": [
        "def anomaly_plot(df,anaomaly_cols):\n",
        "  for cols in anaomaly_cols:\n",
        "    plt.figure(figsize=(8, 8))\n",
        "    sns.distplot(df[cols])\n"
      ],
      "execution_count": 17,
      "outputs": []
    },
    {
      "cell_type": "code",
      "metadata": {
        "id": "3vzw5oGESAIE",
        "outputId": "d4ac2b40-c4b9-4259-c019-9cae968db004",
        "colab": {
          "base_uri": "https://localhost:8080/",
          "height": 1000
        }
      },
      "source": [
        "anomaly_plot(df,anaomaly_cols)\n",
        "#scroll for graphs"
      ],
      "execution_count": 18,
      "outputs": [
        {
          "output_type": "stream",
          "text": [
            "/usr/local/lib/python3.6/dist-packages/seaborn/distributions.py:2551: FutureWarning: `distplot` is a deprecated function and will be removed in a future version. Please adapt your code to use either `displot` (a figure-level function with similar flexibility) or `histplot` (an axes-level function for histograms).\n",
            "  warnings.warn(msg, FutureWarning)\n",
            "/usr/local/lib/python3.6/dist-packages/seaborn/distributions.py:2551: FutureWarning: `distplot` is a deprecated function and will be removed in a future version. Please adapt your code to use either `displot` (a figure-level function with similar flexibility) or `histplot` (an axes-level function for histograms).\n",
            "  warnings.warn(msg, FutureWarning)\n",
            "/usr/local/lib/python3.6/dist-packages/seaborn/distributions.py:2551: FutureWarning: `distplot` is a deprecated function and will be removed in a future version. Please adapt your code to use either `displot` (a figure-level function with similar flexibility) or `histplot` (an axes-level function for histograms).\n",
            "  warnings.warn(msg, FutureWarning)\n",
            "/usr/local/lib/python3.6/dist-packages/seaborn/distributions.py:2551: FutureWarning: `distplot` is a deprecated function and will be removed in a future version. Please adapt your code to use either `displot` (a figure-level function with similar flexibility) or `histplot` (an axes-level function for histograms).\n",
            "  warnings.warn(msg, FutureWarning)\n",
            "/usr/local/lib/python3.6/dist-packages/seaborn/distributions.py:2551: FutureWarning: `distplot` is a deprecated function and will be removed in a future version. Please adapt your code to use either `displot` (a figure-level function with similar flexibility) or `histplot` (an axes-level function for histograms).\n",
            "  warnings.warn(msg, FutureWarning)\n",
            "/usr/local/lib/python3.6/dist-packages/seaborn/distributions.py:2551: FutureWarning: `distplot` is a deprecated function and will be removed in a future version. Please adapt your code to use either `displot` (a figure-level function with similar flexibility) or `histplot` (an axes-level function for histograms).\n",
            "  warnings.warn(msg, FutureWarning)\n",
            "/usr/local/lib/python3.6/dist-packages/seaborn/distributions.py:2551: FutureWarning: `distplot` is a deprecated function and will be removed in a future version. Please adapt your code to use either `displot` (a figure-level function with similar flexibility) or `histplot` (an axes-level function for histograms).\n",
            "  warnings.warn(msg, FutureWarning)\n",
            "/usr/local/lib/python3.6/dist-packages/seaborn/distributions.py:2551: FutureWarning: `distplot` is a deprecated function and will be removed in a future version. Please adapt your code to use either `displot` (a figure-level function with similar flexibility) or `histplot` (an axes-level function for histograms).\n",
            "  warnings.warn(msg, FutureWarning)\n",
            "/usr/local/lib/python3.6/dist-packages/seaborn/distributions.py:2551: FutureWarning: `distplot` is a deprecated function and will be removed in a future version. Please adapt your code to use either `displot` (a figure-level function with similar flexibility) or `histplot` (an axes-level function for histograms).\n",
            "  warnings.warn(msg, FutureWarning)\n",
            "/usr/local/lib/python3.6/dist-packages/seaborn/distributions.py:2551: FutureWarning: `distplot` is a deprecated function and will be removed in a future version. Please adapt your code to use either `displot` (a figure-level function with similar flexibility) or `histplot` (an axes-level function for histograms).\n",
            "  warnings.warn(msg, FutureWarning)\n"
          ],
          "name": "stderr"
        },
        {
          "output_type": "display_data",
          "data": {
            "image/png": "[encoded data removed]",
            "text/plain": [
              "<Figure size 576x576 with 1 Axes>"
            ]
          },
          "metadata": {
            "tags": [],
            "needs_background": "light"
          }
        },
        {
          "output_type": "display_data",
          "data": {
            "image/png": "[encoded data removed]",
            "text/plain": [
              "<Figure size 576x576 with 1 Axes>"
            ]
          },
          "metadata": {
            "tags": [],
            "needs_background": "light"
          }
        },
        {
          "output_type": "display_data",
          "data": {
            "image/png": "[encoded data removed]",
            "text/plain": [
              "<Figure size 576x576 with 1 Axes>"
            ]
          },
          "metadata": {
            "tags": [],
            "needs_background": "light"
          }
        },
        {
          "output_type": "display_data",
          "data": {
            "image/png": "[encoded data removed]",
            "text/plain": [
              "<Figure size 576x576 with 1 Axes>"
            ]
          },
          "metadata": {
            "tags": [],
            "needs_background": "light"
          }
        },
        {
          "output_type": "display_data",
          "data": {
            "image/png": "[encoded data removed]",
            "text/plain": [
              "<Figure size 576x576 with 1 Axes>"
            ]
          },
          "metadata": {
            "tags": [],
            "needs_background": "light"
          }
        },
        {
          "output_type": "display_data",
          "data": {
            "image/png": "[encoded data removed]",
            "text/plain": [
              "<Figure size 576x576 with 1 Axes>"
            ]
          },
          "metadata": {
            "tags": [],
            "needs_background": "light"
          }
        },
        {
          "output_type": "display_data",
          "data": {
            "image/png": "[encoded data removed]",
            "text/plain": [
              "<Figure size 576x576 with 1 Axes>"
            ]
          },
          "metadata": {
            "tags": [],
            "needs_background": "light"
          }
        },
        {
          "output_type": "display_data",
          "data": {
            "image/png": "[encoded data removed]",
            "text/plain": [
              "<Figure size 576x576 with 1 Axes>"
            ]
          },
          "metadata": {
            "tags": [],
            "needs_background": "light"
          }
        },
        {
          "output_type": "display_data",
          "data": {
            "image/png": "[encoded data removed]",
            "text/plain": [
              "<Figure size 576x576 with 1 Axes>"
            ]
          },
          "metadata": {
            "tags": [],
            "needs_background": "light"
          }
        },
        {
          "output_type": "display_data",
          "data": {
            "image/png": "[encoded data removed]",
            "text/plain": [
              "<Figure size 576x576 with 1 Axes>"
            ]
          },
          "metadata": {
            "tags": [],
            "needs_background": "light"
          }
        }
      ]
    },
    {
      "cell_type": "markdown",
      "metadata": {
        "id": "sFuqriWebPbG"
      },
      "source": [
        "From above we esimate the approximate values for anomaly as in the below dictonary "
      ]
    },
    {
      "cell_type": "code",
      "metadata": {
        "id": "Io5LiPNQeXcK"
      },
      "source": [
        "anomaly_dict = {\n",
        "    'average_return_days': 35,\n",
        "    'average_revenue': 220,\n",
        "    'avg_vas_count': 30,\n",
        "    'avg_wallet_bonus': 1900,\n",
        "    'avg_new_ads': 160,\n",
        "    'avg_email_replies': 150,\n",
        "    'avg_call_replies': 210\n",
        "}\n"
      ],
      "execution_count": 19,
      "outputs": []
    },
    {
      "cell_type": "markdown",
      "metadata": {
        "id": "-1dK68M_fy2H"
      },
      "source": [
        "Now we'll see how the estimate anomaly values affect the the target values, \n",
        "Since the **target = 1** is less, we'll particularly look how many outliers affect those."
      ]
    },
    {
      "cell_type": "code",
      "metadata": {
        "id": "HaNMaIl-fxtM",
        "outputId": "ff066eac-ee57-4262-c79d-79de10e5891f",
        "colab": {
          "base_uri": "https://localhost:8080/",
          "height": 510
        }
      },
      "source": [
        "def anomaly_efffect(df, dict):\n",
        "  for key, value in dict.items():\n",
        "    print(key)\n",
        "    anomaly = df[df[key] > value] \n",
        "    print('No of anomalies above ',value, 'are' ,len(anomaly))\n",
        "    print('And anomalies with targets as 1 are',len(anomaly[anomaly['target']==1]))\n",
        "    print(' ')\n",
        "anomaly_efffect(df, anomaly_dict)"
      ],
      "execution_count": 20,
      "outputs": [
        {
          "output_type": "stream",
          "text": [
            "average_return_days\n",
            "No of anomalies above  35 are 169\n",
            "And anomalies with targets as 1 are 70\n",
            " \n",
            "average_revenue\n",
            "No of anomalies above  220 are 67\n",
            "And anomalies with targets as 1 are 10\n",
            " \n",
            "avg_vas_count\n",
            "No of anomalies above  30 are 19\n",
            "And anomalies with targets as 1 are 0\n",
            " \n",
            "avg_wallet_bonus\n",
            "No of anomalies above  1900 are 148\n",
            "And anomalies with targets as 1 are 5\n",
            " \n",
            "avg_new_ads\n",
            "No of anomalies above  160 are 47\n",
            "And anomalies with targets as 1 are 8\n",
            " \n",
            "avg_email_replies\n",
            "No of anomalies above  150 are 81\n",
            "And anomalies with targets as 1 are 3\n",
            " \n",
            "avg_call_replies\n",
            "No of anomalies above  210 are 50\n",
            "And anomalies with targets as 1 are 2\n",
            " \n"
          ],
          "name": "stdout"
        }
      ]
    },
    {
      "cell_type": "markdown",
      "metadata": {
        "id": "vOtHhGyAkEW0"
      },
      "source": [
        "So we'll reject the anomalies from the columns:\n",
        "\n",
        "\n",
        "1.   average_return_days\n",
        "2.   avg_vas_count\n",
        "3.   avg_new_ads\n",
        "4.   avg_email_replies\n",
        "5.   avg_call_replies\n",
        "6.   average_revenue\n",
        "7.   avg_wallet_bonus\n",
        "\n",
        "\n",
        "\n",
        "\n"
      ]
    },
    {
      "cell_type": "markdown",
      "metadata": {
        "id": "DpkE9bXuIiNT"
      },
      "source": [
        "# Data Preprocessing"
      ]
    },
    {
      "cell_type": "code",
      "metadata": {
        "id": "4GcDoTE3lCWc",
        "outputId": "b8ecf993-f6d1-44fa-ca19-08e882c3861b",
        "colab": {
          "base_uri": "https://localhost:8080/",
          "height": 140
        }
      },
      "source": [
        "anomaly_dict"
      ],
      "execution_count": 21,
      "outputs": [
        {
          "output_type": "execute_result",
          "data": {
            "text/plain": [
              "{'average_return_days': 35,\n",
              " 'average_revenue': 220,\n",
              " 'avg_call_replies': 210,\n",
              " 'avg_email_replies': 150,\n",
              " 'avg_new_ads': 160,\n",
              " 'avg_vas_count': 30,\n",
              " 'avg_wallet_bonus': 1900}"
            ]
          },
          "metadata": {
            "tags": []
          },
          "execution_count": 21
        }
      ]
    },
    {
      "cell_type": "code",
      "metadata": {
        "id": "b06pwFBYmG5k"
      },
      "source": [
        "df2 = df"
      ],
      "execution_count": 22,
      "outputs": []
    },
    {
      "cell_type": "code",
      "metadata": {
        "id": "Yo--b1w4kuvQ"
      },
      "source": [
        "def outlier_removal(df,dict):\n",
        "  for key, value in dict.items():\n",
        "    df = df[df[key] < value]\n",
        "  return df"
      ],
      "execution_count": 23,
      "outputs": []
    },
    {
      "cell_type": "code",
      "metadata": {
        "id": "Cy79dNCjl5BN",
        "outputId": "e21dfece-c8cc-485d-fdae-039bdd72a868",
        "colab": {
          "base_uri": "https://localhost:8080/",
          "height": 492
        }
      },
      "source": [
        "df = outlier_removal(df,anomaly_dict)\n",
        "df.dropna(inplace=True)\n",
        "details(df)\n",
        "df.info()"
      ],
      "execution_count": 24,
      "outputs": [
        {
          "output_type": "stream",
          "text": [
            "Description of training set\n",
            "Shape: \t\t\t (3943, 17)\n",
            "#NaNs: \t\t\t 0\n",
            "<class 'pandas.core.frame.DataFrame'>\n",
            "Int64Index: 3943 entries, 0 to 4406\n",
            "Data columns (total 17 columns):\n",
            " #   Column                 Non-Null Count  Dtype  \n",
            "---  ------                 --------------  -----  \n",
            " 0   user_id                3943 non-null   int64  \n",
            " 1   account_id             3943 non-null   float64\n",
            " 2   max_return_days        3943 non-null   int64  \n",
            " 3   average_return_days    3943 non-null   float64\n",
            " 4   customer_since_months  3943 non-null   int64  \n",
            " 5   total_revenue          3943 non-null   float64\n",
            " 6   average_revenue        3943 non-null   float64\n",
            " 7   avg_vas_count          3943 non-null   float64\n",
            " 8   avg_used_vas_value     3943 non-null   float64\n",
            " 9   business_type          3943 non-null   int64  \n",
            " 10  avg_wallet_bonus       3943 non-null   float64\n",
            " 11  avg_active_ads         3943 non-null   float64\n",
            " 12  avg_new_ads            3943 non-null   float64\n",
            " 13  avg_email_replies      3943 non-null   float64\n",
            " 14  avg_call_replies       3943 non-null   float64\n",
            " 15  avg_sms_replies        3943 non-null   float64\n",
            " 16  target                 3943 non-null   int64  \n",
            "dtypes: float64(12), int64(5)\n",
            "memory usage: 554.5 KB\n"
          ],
          "name": "stdout"
        }
      ]
    },
    {
      "cell_type": "code",
      "metadata": {
        "id": "MP8YJaiIq0lL",
        "outputId": "b908a1c9-5d14-45f3-e890-840659503635",
        "colab": {
          "base_uri": "https://localhost:8080/",
          "height": 34
        }
      },
      "source": [
        "len(df)"
      ],
      "execution_count": 25,
      "outputs": [
        {
          "output_type": "execute_result",
          "data": {
            "text/plain": [
              "3943"
            ]
          },
          "metadata": {
            "tags": []
          },
          "execution_count": 25
        }
      ]
    },
    {
      "cell_type": "markdown",
      "metadata": {
        "id": "Iupw_itQtxej"
      },
      "source": [
        "Remaining are the 3943 columns which we'll process further"
      ]
    },
    {
      "cell_type": "markdown",
      "metadata": {
        "id": "egODNL2fITj7"
      },
      "source": [
        "**Now I have Used 2 models for predictions**\n",
        "\n",
        "\n",
        "1.   **Using XGBoost boosting for predictions**\n",
        "\n",
        "2.   **Using Deep neural network using PyTorch as backend** \n",
        "\n"
      ]
    },
    {
      "cell_type": "markdown",
      "metadata": {
        "id": "bu10dd_4cdMB"
      },
      "source": [
        "# 1. XGBoost"
      ]
    },
    {
      "cell_type": "markdown",
      "metadata": {
        "id": "K3k-TGFRJVXX"
      },
      "source": [
        "## Spliting the Data"
      ]
    },
    {
      "cell_type": "code",
      "metadata": {
        "id": "BVDCJgJvkLRq"
      },
      "source": [
        "from sklearn.model_selection import train_test_split"
      ],
      "execution_count": 322,
      "outputs": []
    },
    {
      "cell_type": "code",
      "metadata": {
        "id": "vygRVqnq-WlE",
        "outputId": "9b2024c3-a8eb-40c8-e959-cf91660c5637",
        "colab": {
          "base_uri": "https://localhost:8080/",
          "height": 510
        }
      },
      "source": [
        "dataset = df[features]\n",
        "dataset['target'] = df['target']\n",
        "dataset"
      ],
      "execution_count": 324,
      "outputs": [
        {
          "output_type": "stream",
          "text": [
            "\n",
            "A value is trying to be set on a copy of a slice from a DataFrame.\n",
            "Try using .loc[row_indexer,col_indexer] = value instead\n",
            "\n",
            "See the caveats in the documentation: https://pandas.pydata.org/pandas-docs/stable/user_guide/indexing.html#returning-a-view-versus-a-copy\n"
          ],
          "name": "stderr"
        },
        {
          "output_type": "execute_result",
          "data": {
            "text/html": [
              "<div>\n",
              "<style scoped>\n",
              "    .dataframe tbody tr th:only-of-type {\n",
              "        vertical-align: middle;\n",
              "    }\n",
              "\n",
              "    .dataframe tbody tr th {\n",
              "        vertical-align: top;\n",
              "    }\n",
              "\n",
              "    .dataframe thead th {\n",
              "        text-align: right;\n",
              "    }\n",
              "</style>\n",
              "<table border=\"1\" class=\"dataframe\">\n",
              "  <thead>\n",
              "    <tr style=\"text-align: right;\">\n",
              "      <th></th>\n",
              "      <th>average_return_days</th>\n",
              "      <th>customer_since_months</th>\n",
              "      <th>average_revenue</th>\n",
              "      <th>avg_used_vas_value</th>\n",
              "      <th>business_type</th>\n",
              "      <th>avg_wallet_bonus</th>\n",
              "      <th>avg_active_ads</th>\n",
              "      <th>avg_new_ads</th>\n",
              "      <th>avg_email_replies</th>\n",
              "      <th>avg_call_replies</th>\n",
              "      <th>avg_sms_replies</th>\n",
              "      <th>target</th>\n",
              "    </tr>\n",
              "  </thead>\n",
              "  <tbody>\n",
              "    <tr>\n",
              "      <th>0</th>\n",
              "      <td>1.500000</td>\n",
              "      <td>14</td>\n",
              "      <td>0.0</td>\n",
              "      <td>66.666667</td>\n",
              "      <td>0</td>\n",
              "      <td>300.0</td>\n",
              "      <td>79.333333</td>\n",
              "      <td>15.250000</td>\n",
              "      <td>32.416667</td>\n",
              "      <td>27.916667</td>\n",
              "      <td>0.250000</td>\n",
              "      <td>0</td>\n",
              "    </tr>\n",
              "    <tr>\n",
              "      <th>1</th>\n",
              "      <td>8.200000</td>\n",
              "      <td>10</td>\n",
              "      <td>0.0</td>\n",
              "      <td>114.000000</td>\n",
              "      <td>0</td>\n",
              "      <td>0.0</td>\n",
              "      <td>232.100000</td>\n",
              "      <td>18.300000</td>\n",
              "      <td>16.200000</td>\n",
              "      <td>13.800000</td>\n",
              "      <td>0.000000</td>\n",
              "      <td>0</td>\n",
              "    </tr>\n",
              "    <tr>\n",
              "      <th>2</th>\n",
              "      <td>1.533333</td>\n",
              "      <td>15</td>\n",
              "      <td>0.0</td>\n",
              "      <td>106.666667</td>\n",
              "      <td>0</td>\n",
              "      <td>150.0</td>\n",
              "      <td>55.083333</td>\n",
              "      <td>3.750000</td>\n",
              "      <td>20.250000</td>\n",
              "      <td>24.500000</td>\n",
              "      <td>0.000000</td>\n",
              "      <td>0</td>\n",
              "    </tr>\n",
              "    <tr>\n",
              "      <th>3</th>\n",
              "      <td>1.000000</td>\n",
              "      <td>14</td>\n",
              "      <td>0.0</td>\n",
              "      <td>176.153846</td>\n",
              "      <td>0</td>\n",
              "      <td>1481.0</td>\n",
              "      <td>409.538462</td>\n",
              "      <td>80.769231</td>\n",
              "      <td>87.461538</td>\n",
              "      <td>57.615385</td>\n",
              "      <td>0.000000</td>\n",
              "      <td>1</td>\n",
              "    </tr>\n",
              "    <tr>\n",
              "      <th>4</th>\n",
              "      <td>1.000000</td>\n",
              "      <td>18</td>\n",
              "      <td>0.0</td>\n",
              "      <td>109.230769</td>\n",
              "      <td>0</td>\n",
              "      <td>41.5</td>\n",
              "      <td>48.230769</td>\n",
              "      <td>1.692308</td>\n",
              "      <td>17.461538</td>\n",
              "      <td>25.769231</td>\n",
              "      <td>0.230769</td>\n",
              "      <td>0</td>\n",
              "    </tr>\n",
              "    <tr>\n",
              "      <th>...</th>\n",
              "      <td>...</td>\n",
              "      <td>...</td>\n",
              "      <td>...</td>\n",
              "      <td>...</td>\n",
              "      <td>...</td>\n",
              "      <td>...</td>\n",
              "      <td>...</td>\n",
              "      <td>...</td>\n",
              "      <td>...</td>\n",
              "      <td>...</td>\n",
              "      <td>...</td>\n",
              "      <td>...</td>\n",
              "    </tr>\n",
              "    <tr>\n",
              "      <th>4401</th>\n",
              "      <td>1.000000</td>\n",
              "      <td>1</td>\n",
              "      <td>0.0</td>\n",
              "      <td>0.000000</td>\n",
              "      <td>4</td>\n",
              "      <td>0.0</td>\n",
              "      <td>0.000000</td>\n",
              "      <td>0.000000</td>\n",
              "      <td>0.000000</td>\n",
              "      <td>0.000000</td>\n",
              "      <td>0.000000</td>\n",
              "      <td>0</td>\n",
              "    </tr>\n",
              "    <tr>\n",
              "      <th>4402</th>\n",
              "      <td>1.000000</td>\n",
              "      <td>4</td>\n",
              "      <td>0.0</td>\n",
              "      <td>0.000000</td>\n",
              "      <td>3</td>\n",
              "      <td>0.0</td>\n",
              "      <td>4.666667</td>\n",
              "      <td>2.000000</td>\n",
              "      <td>9.666667</td>\n",
              "      <td>14.666667</td>\n",
              "      <td>0.333333</td>\n",
              "      <td>0</td>\n",
              "    </tr>\n",
              "    <tr>\n",
              "      <th>4403</th>\n",
              "      <td>1.000000</td>\n",
              "      <td>2</td>\n",
              "      <td>0.0</td>\n",
              "      <td>0.000000</td>\n",
              "      <td>4</td>\n",
              "      <td>0.0</td>\n",
              "      <td>153.000000</td>\n",
              "      <td>76.500000</td>\n",
              "      <td>9.000000</td>\n",
              "      <td>11.500000</td>\n",
              "      <td>0.000000</td>\n",
              "      <td>0</td>\n",
              "    </tr>\n",
              "    <tr>\n",
              "      <th>4404</th>\n",
              "      <td>1.000000</td>\n",
              "      <td>2</td>\n",
              "      <td>0.0</td>\n",
              "      <td>0.000000</td>\n",
              "      <td>1</td>\n",
              "      <td>0.0</td>\n",
              "      <td>0.000000</td>\n",
              "      <td>0.000000</td>\n",
              "      <td>0.000000</td>\n",
              "      <td>0.000000</td>\n",
              "      <td>0.000000</td>\n",
              "      <td>0</td>\n",
              "    </tr>\n",
              "    <tr>\n",
              "      <th>4406</th>\n",
              "      <td>1.000000</td>\n",
              "      <td>4</td>\n",
              "      <td>0.0</td>\n",
              "      <td>0.000000</td>\n",
              "      <td>0</td>\n",
              "      <td>240.0</td>\n",
              "      <td>1.000000</td>\n",
              "      <td>1.000000</td>\n",
              "      <td>0.000000</td>\n",
              "      <td>0.000000</td>\n",
              "      <td>0.000000</td>\n",
              "      <td>0</td>\n",
              "    </tr>\n",
              "  </tbody>\n",
              "</table>\n",
              "<p>3943 rows × 12 columns</p>\n",
              "</div>"
            ],
            "text/plain": [
              "      average_return_days  customer_since_months  ...  avg_sms_replies  target\n",
              "0                1.500000                     14  ...         0.250000       0\n",
              "1                8.200000                     10  ...         0.000000       0\n",
              "2                1.533333                     15  ...         0.000000       0\n",
              "3                1.000000                     14  ...         0.000000       1\n",
              "4                1.000000                     18  ...         0.230769       0\n",
              "...                   ...                    ...  ...              ...     ...\n",
              "4401             1.000000                      1  ...         0.000000       0\n",
              "4402             1.000000                      4  ...         0.333333       0\n",
              "4403             1.000000                      2  ...         0.000000       0\n",
              "4404             1.000000                      2  ...         0.000000       0\n",
              "4406             1.000000                      4  ...         0.000000       0\n",
              "\n",
              "[3943 rows x 12 columns]"
            ]
          },
          "metadata": {
            "tags": []
          },
          "execution_count": 324
        }
      ]
    },
    {
      "cell_type": "code",
      "metadata": {
        "id": "lvIvQJTSkRpz",
        "outputId": "0ae92d29-1511-42b4-dd2a-12e1e5d37edc",
        "colab": {
          "base_uri": "https://localhost:8080/",
          "height": 34
        }
      },
      "source": [
        "X_train, X_test = train_test_split(\n",
        "...     dataset, test_size=0.20, random_state=42)\n",
        "\n",
        "y_train, y_test = X_train['target'], X_test['target'] \n",
        "# ########################################################\n",
        "# X_train, X_val= train_test_split(\n",
        "# ...     X, test_size=0.15, random_state=42)\n",
        "\n",
        "# y_train, y_val = X_train['target'], X_val['target'] \n",
        "# ########################################################\n",
        "\n",
        "X_train= X_train.drop('target',1)\n",
        "# X_val  = X_val.drop('target',1)\n",
        "X_test = X_test.drop('target',1)\n",
        "\n",
        "X_train.shape, y_train.shape, X_test.shape,  y_test.shape"
      ],
      "execution_count": 326,
      "outputs": [
        {
          "output_type": "execute_result",
          "data": {
            "text/plain": [
              "((3154, 11), (3154,), (789, 11), (789,))"
            ]
          },
          "metadata": {
            "tags": []
          },
          "execution_count": 326
        }
      ]
    },
    {
      "cell_type": "code",
      "metadata": {
        "id": "nK713k44n0si",
        "outputId": "274bb9b1-7a57-4e49-8055-98300975c39b",
        "colab": {
          "base_uri": "https://localhost:8080/",
          "height": 422
        }
      },
      "source": [
        "X_train"
      ],
      "execution_count": 327,
      "outputs": [
        {
          "output_type": "execute_result",
          "data": {
            "text/html": [
              "<div>\n",
              "<style scoped>\n",
              "    .dataframe tbody tr th:only-of-type {\n",
              "        vertical-align: middle;\n",
              "    }\n",
              "\n",
              "    .dataframe tbody tr th {\n",
              "        vertical-align: top;\n",
              "    }\n",
              "\n",
              "    .dataframe thead th {\n",
              "        text-align: right;\n",
              "    }\n",
              "</style>\n",
              "<table border=\"1\" class=\"dataframe\">\n",
              "  <thead>\n",
              "    <tr style=\"text-align: right;\">\n",
              "      <th></th>\n",
              "      <th>average_return_days</th>\n",
              "      <th>customer_since_months</th>\n",
              "      <th>average_revenue</th>\n",
              "      <th>avg_used_vas_value</th>\n",
              "      <th>business_type</th>\n",
              "      <th>avg_wallet_bonus</th>\n",
              "      <th>avg_active_ads</th>\n",
              "      <th>avg_new_ads</th>\n",
              "      <th>avg_email_replies</th>\n",
              "      <th>avg_call_replies</th>\n",
              "      <th>avg_sms_replies</th>\n",
              "    </tr>\n",
              "  </thead>\n",
              "  <tbody>\n",
              "    <tr>\n",
              "      <th>3763</th>\n",
              "      <td>1.000000</td>\n",
              "      <td>1</td>\n",
              "      <td>0.000000</td>\n",
              "      <td>0.000000</td>\n",
              "      <td>1</td>\n",
              "      <td>0.0</td>\n",
              "      <td>0.000000</td>\n",
              "      <td>0.000000</td>\n",
              "      <td>0.000000</td>\n",
              "      <td>0.000000</td>\n",
              "      <td>0.000000</td>\n",
              "    </tr>\n",
              "    <tr>\n",
              "      <th>1279</th>\n",
              "      <td>1.923077</td>\n",
              "      <td>13</td>\n",
              "      <td>0.000000</td>\n",
              "      <td>115.000000</td>\n",
              "      <td>0</td>\n",
              "      <td>200.0</td>\n",
              "      <td>123.000000</td>\n",
              "      <td>30.750000</td>\n",
              "      <td>57.750000</td>\n",
              "      <td>72.000000</td>\n",
              "      <td>0.166667</td>\n",
              "    </tr>\n",
              "    <tr>\n",
              "      <th>1731</th>\n",
              "      <td>18.909091</td>\n",
              "      <td>11</td>\n",
              "      <td>0.000000</td>\n",
              "      <td>176.000000</td>\n",
              "      <td>0</td>\n",
              "      <td>20.0</td>\n",
              "      <td>246.100000</td>\n",
              "      <td>11.300000</td>\n",
              "      <td>30.300000</td>\n",
              "      <td>30.100000</td>\n",
              "      <td>0.000000</td>\n",
              "    </tr>\n",
              "    <tr>\n",
              "      <th>3147</th>\n",
              "      <td>1.000000</td>\n",
              "      <td>2</td>\n",
              "      <td>0.000000</td>\n",
              "      <td>50.000000</td>\n",
              "      <td>0</td>\n",
              "      <td>0.0</td>\n",
              "      <td>103.500000</td>\n",
              "      <td>25.500000</td>\n",
              "      <td>7.000000</td>\n",
              "      <td>7.500000</td>\n",
              "      <td>0.000000</td>\n",
              "    </tr>\n",
              "    <tr>\n",
              "      <th>3301</th>\n",
              "      <td>7.000000</td>\n",
              "      <td>12</td>\n",
              "      <td>5.027345</td>\n",
              "      <td>54.545455</td>\n",
              "      <td>0</td>\n",
              "      <td>75.0</td>\n",
              "      <td>29.636364</td>\n",
              "      <td>8.727273</td>\n",
              "      <td>25.181818</td>\n",
              "      <td>30.545455</td>\n",
              "      <td>0.090909</td>\n",
              "    </tr>\n",
              "    <tr>\n",
              "      <th>...</th>\n",
              "      <td>...</td>\n",
              "      <td>...</td>\n",
              "      <td>...</td>\n",
              "      <td>...</td>\n",
              "      <td>...</td>\n",
              "      <td>...</td>\n",
              "      <td>...</td>\n",
              "      <td>...</td>\n",
              "      <td>...</td>\n",
              "      <td>...</td>\n",
              "      <td>...</td>\n",
              "    </tr>\n",
              "    <tr>\n",
              "      <th>1296</th>\n",
              "      <td>3.066667</td>\n",
              "      <td>15</td>\n",
              "      <td>0.000000</td>\n",
              "      <td>188.333333</td>\n",
              "      <td>0</td>\n",
              "      <td>56.0</td>\n",
              "      <td>89.750000</td>\n",
              "      <td>4.416667</td>\n",
              "      <td>8.833333</td>\n",
              "      <td>10.083333</td>\n",
              "      <td>0.166667</td>\n",
              "    </tr>\n",
              "    <tr>\n",
              "      <th>1478</th>\n",
              "      <td>9.500000</td>\n",
              "      <td>4</td>\n",
              "      <td>0.000000</td>\n",
              "      <td>0.000000</td>\n",
              "      <td>0</td>\n",
              "      <td>0.0</td>\n",
              "      <td>187.000000</td>\n",
              "      <td>7.250000</td>\n",
              "      <td>8.000000</td>\n",
              "      <td>9.000000</td>\n",
              "      <td>0.000000</td>\n",
              "    </tr>\n",
              "    <tr>\n",
              "      <th>983</th>\n",
              "      <td>2.846154</td>\n",
              "      <td>13</td>\n",
              "      <td>0.000000</td>\n",
              "      <td>0.000000</td>\n",
              "      <td>5</td>\n",
              "      <td>0.0</td>\n",
              "      <td>8.666667</td>\n",
              "      <td>0.166667</td>\n",
              "      <td>1.583333</td>\n",
              "      <td>1.083333</td>\n",
              "      <td>0.000000</td>\n",
              "    </tr>\n",
              "    <tr>\n",
              "      <th>3949</th>\n",
              "      <td>1.000000</td>\n",
              "      <td>7</td>\n",
              "      <td>0.000000</td>\n",
              "      <td>50.000000</td>\n",
              "      <td>1</td>\n",
              "      <td>0.0</td>\n",
              "      <td>23.333333</td>\n",
              "      <td>5.666667</td>\n",
              "      <td>6.166667</td>\n",
              "      <td>5.833333</td>\n",
              "      <td>0.166667</td>\n",
              "    </tr>\n",
              "    <tr>\n",
              "      <th>3576</th>\n",
              "      <td>1.000000</td>\n",
              "      <td>4</td>\n",
              "      <td>0.000000</td>\n",
              "      <td>50.000000</td>\n",
              "      <td>5</td>\n",
              "      <td>0.0</td>\n",
              "      <td>3.750000</td>\n",
              "      <td>1.750000</td>\n",
              "      <td>0.750000</td>\n",
              "      <td>2.750000</td>\n",
              "      <td>0.000000</td>\n",
              "    </tr>\n",
              "  </tbody>\n",
              "</table>\n",
              "<p>3154 rows × 11 columns</p>\n",
              "</div>"
            ],
            "text/plain": [
              "      average_return_days  ...  avg_sms_replies\n",
              "3763             1.000000  ...         0.000000\n",
              "1279             1.923077  ...         0.166667\n",
              "1731            18.909091  ...         0.000000\n",
              "3147             1.000000  ...         0.000000\n",
              "3301             7.000000  ...         0.090909\n",
              "...                   ...  ...              ...\n",
              "1296             3.066667  ...         0.166667\n",
              "1478             9.500000  ...         0.000000\n",
              "983              2.846154  ...         0.000000\n",
              "3949             1.000000  ...         0.166667\n",
              "3576             1.000000  ...         0.000000\n",
              "\n",
              "[3154 rows x 11 columns]"
            ]
          },
          "metadata": {
            "tags": []
          },
          "execution_count": 327
        }
      ]
    },
    {
      "cell_type": "markdown",
      "metadata": {
        "id": "G3W_v0f421i5"
      },
      "source": [
        "## Upsampling the train data"
      ]
    },
    {
      "cell_type": "code",
      "metadata": {
        "id": "tV7vbNKj20vG"
      },
      "source": [
        "from sklearn.utils import resample"
      ],
      "execution_count": 328,
      "outputs": []
    },
    {
      "cell_type": "code",
      "metadata": {
        "id": "gcqZE3612rGy",
        "outputId": "b38c4ac4-5a04-4805-f0e9-3aaf2bc348cd",
        "colab": {
          "base_uri": "https://localhost:8080/",
          "height": 87
        }
      },
      "source": [
        "oversample_data = X_train\n",
        "oversample_data['target'] = y_train\n",
        "\n",
        "# Target counts\n",
        "target0 = oversample_data[oversample_data.target==0]\n",
        "print('Target = 0 count earlier ',len(target0))\n",
        "\n",
        "target1 = oversample_data[oversample_data.target==1]\n",
        "print('Target = 1 count earlier ',len(target1))\n",
        "\n",
        "# Oversampling Target=1\n",
        "target1 = resample(target1, replace=True,n_samples=len(target0),random_state=123) \n",
        "oversample_data = pd.concat([target0, target1])\n",
        "\n",
        "print('Target = 0 count after ',len(oversample_data[oversample_data.target==0]))\n",
        "print('Target = 1 count after  ',len(oversample_data[oversample_data.target==1]))\n",
        "X_train = oversample_data[features]\n",
        "y_train = oversample_data['target']"
      ],
      "execution_count": 330,
      "outputs": [
        {
          "output_type": "stream",
          "text": [
            "Target = 0 count earlier  2865\n",
            "Target = 1 count earlier  289\n",
            "Target = 0 count after  2865\n",
            "Target = 1 count after   2865\n"
          ],
          "name": "stdout"
        }
      ]
    },
    {
      "cell_type": "code",
      "metadata": {
        "id": "oIG8W1H2cXzd"
      },
      "source": [
        "from sklearn.metrics import auc, accuracy_score, confusion_matrix, mean_squared_error, mean_absolute_error,precision_score,f1_score,plot_confusion_matrix\n",
        "from sklearn.model_selection import cross_val_score, GridSearchCV, KFold, RandomizedSearchCV, train_test_split\n",
        "import xgboost"
      ],
      "execution_count": 331,
      "outputs": []
    },
    {
      "cell_type": "code",
      "metadata": {
        "id": "EmY2ojjtcuRv"
      },
      "source": [
        "classifier=xgboost.XGBClassifier()"
      ],
      "execution_count": 332,
      "outputs": []
    },
    {
      "cell_type": "markdown",
      "metadata": {
        "id": "zIm54Vifc5sg"
      },
      "source": [
        "Random Search Will take in all the values we defined for parameters the parameters and take the best among those"
      ]
    },
    {
      "cell_type": "code",
      "metadata": {
        "id": "C5SHFrm7dG6H"
      },
      "source": [
        "params={\n",
        " \"learning_rate\"    : [0.05, 0.10, 0.15, 0.20, 0.25, 0.30 ] ,\n",
        " \"max_depth\"        : [ 3, 4, 5, 6, 8, 10, 12, 15],\n",
        " \"min_child_weight\" : [ 1, 3, 5, 7 ],\n",
        " \"gamma\"            : [ 0.0, 0.1, 0.2 , 0.3, 0.4 ],\n",
        " \"colsample_bytree\" : [ 0.3, 0.4, 0.5 , 0.7 ]\n",
        "    \n",
        "}"
      ],
      "execution_count": 333,
      "outputs": []
    },
    {
      "cell_type": "code",
      "metadata": {
        "id": "40_RVtHtcu83"
      },
      "source": [
        "random_search=RandomizedSearchCV(classifier,param_distributions=params,n_iter=5,scoring='roc_auc',n_jobs=-1,cv=5,verbose=3)"
      ],
      "execution_count": 334,
      "outputs": []
    },
    {
      "cell_type": "code",
      "metadata": {
        "id": "rBXauhgfeCne",
        "outputId": "755f8c7b-9b94-47f7-c0ca-f1a3c4246892",
        "colab": {
          "base_uri": "https://localhost:8080/",
          "height": 492
        }
      },
      "source": [
        "random_search.fit(X_train,y_train)"
      ],
      "execution_count": 335,
      "outputs": [
        {
          "output_type": "stream",
          "text": [
            "Fitting 5 folds for each of 5 candidates, totalling 25 fits\n"
          ],
          "name": "stdout"
        },
        {
          "output_type": "stream",
          "text": [
            "[Parallel(n_jobs=-1)]: Using backend LokyBackend with 2 concurrent workers.\n",
            "[Parallel(n_jobs=-1)]: Done  25 out of  25 | elapsed:   10.9s finished\n"
          ],
          "name": "stderr"
        },
        {
          "output_type": "execute_result",
          "data": {
            "text/plain": [
              "RandomizedSearchCV(cv=5, error_score=nan,\n",
              "                   estimator=XGBClassifier(base_score=0.5, booster='gbtree',\n",
              "                                           colsample_bylevel=1,\n",
              "                                           colsample_bynode=1,\n",
              "                                           colsample_bytree=1, gamma=0,\n",
              "                                           learning_rate=0.1, max_delta_step=0,\n",
              "                                           max_depth=3, min_child_weight=1,\n",
              "                                           missing=None, n_estimators=100,\n",
              "                                           n_jobs=1, nthread=None,\n",
              "                                           objective='binary:logistic',\n",
              "                                           random_state=0, reg_alpha=0,\n",
              "                                           reg_lambda=1, sc...\n",
              "                                           verbosity=1),\n",
              "                   iid='deprecated', n_iter=5, n_jobs=-1,\n",
              "                   param_distributions={'colsample_bytree': [0.3, 0.4, 0.5,\n",
              "                                                             0.7],\n",
              "                                        'gamma': [0.0, 0.1, 0.2, 0.3, 0.4],\n",
              "                                        'learning_rate': [0.05, 0.1, 0.15, 0.2,\n",
              "                                                          0.25, 0.3],\n",
              "                                        'max_depth': [3, 4, 5, 6, 8, 10, 12,\n",
              "                                                      15],\n",
              "                                        'min_child_weight': [1, 3, 5, 7]},\n",
              "                   pre_dispatch='2*n_jobs', random_state=None, refit=True,\n",
              "                   return_train_score=False, scoring='roc_auc', verbose=3)"
            ]
          },
          "metadata": {
            "tags": []
          },
          "execution_count": 335
        }
      ]
    },
    {
      "cell_type": "code",
      "metadata": {
        "id": "g4eWj2rwekaA",
        "outputId": "48ac9c57-e693-4b98-e3fe-b8c539df88dd",
        "colab": {
          "base_uri": "https://localhost:8080/",
          "height": 105
        }
      },
      "source": [
        "random_search.best_params_"
      ],
      "execution_count": 336,
      "outputs": [
        {
          "output_type": "execute_result",
          "data": {
            "text/plain": [
              "{'colsample_bytree': 0.4,\n",
              " 'gamma': 0.4,\n",
              " 'learning_rate': 0.1,\n",
              " 'max_depth': 12,\n",
              " 'min_child_weight': 1}"
            ]
          },
          "metadata": {
            "tags": []
          },
          "execution_count": 336
        }
      ]
    },
    {
      "cell_type": "code",
      "metadata": {
        "id": "WIKm0z2rehH9",
        "outputId": "3d1a433f-55b6-49d2-b11e-2071dc05c5d0",
        "colab": {
          "base_uri": "https://localhost:8080/",
          "height": 140
        }
      },
      "source": [
        "random_search.best_estimator_"
      ],
      "execution_count": 337,
      "outputs": [
        {
          "output_type": "execute_result",
          "data": {
            "text/plain": [
              "XGBClassifier(base_score=0.5, booster='gbtree', colsample_bylevel=1,\n",
              "              colsample_bynode=1, colsample_bytree=0.4, gamma=0.4,\n",
              "              learning_rate=0.1, max_delta_step=0, max_depth=12,\n",
              "              min_child_weight=1, missing=None, n_estimators=100, n_jobs=1,\n",
              "              nthread=None, objective='binary:logistic', random_state=0,\n",
              "              reg_alpha=0, reg_lambda=1, scale_pos_weight=1, seed=None,\n",
              "              silent=None, subsample=1, verbosity=1)"
            ]
          },
          "metadata": {
            "tags": []
          },
          "execution_count": 337
        }
      ]
    },
    {
      "cell_type": "markdown",
      "metadata": {
        "id": "LU2o8yCvfV2d"
      },
      "source": [
        "Copying the above parameters which was classified to be best for the given dataset"
      ]
    },
    {
      "cell_type": "code",
      "metadata": {
        "id": "SDkb9BL1enFX"
      },
      "source": [
        "classifier_xgb=xgboost.XGBClassifier(base_score=0.5, booster='gbtree', colsample_bylevel=1,\n",
        "              colsample_bynode=1, colsample_bytree=0.3, gamma=0.4,\n",
        "              learning_rate=0.15, max_delta_step=0, max_depth=15,\n",
        "              min_child_weight=3, missing=None, n_estimators=100, n_jobs=1,\n",
        "              nthread=None, objective='binary:logistic', random_state=0,\n",
        "              reg_alpha=0, reg_lambda=1, scale_pos_weight=1, seed=None,\n",
        "              silent=None, subsample=1, verbosity=1)"
      ],
      "execution_count": 338,
      "outputs": []
    },
    {
      "cell_type": "markdown",
      "metadata": {
        "id": "TbYHY8r-r2qF"
      },
      "source": [
        "## Predictions"
      ]
    },
    {
      "cell_type": "code",
      "metadata": {
        "id": "rFduyWKkhvvT",
        "outputId": "8db7e282-2675-4ff4-ccd4-eaa51cefb268",
        "colab": {
          "base_uri": "https://localhost:8080/",
          "height": 140
        }
      },
      "source": [
        "classifier_xgb.fit(X_train, y_train)"
      ],
      "execution_count": 339,
      "outputs": [
        {
          "output_type": "execute_result",
          "data": {
            "text/plain": [
              "XGBClassifier(base_score=0.5, booster='gbtree', colsample_bylevel=1,\n",
              "              colsample_bynode=1, colsample_bytree=0.3, gamma=0.4,\n",
              "              learning_rate=0.15, max_delta_step=0, max_depth=15,\n",
              "              min_child_weight=3, missing=None, n_estimators=100, n_jobs=1,\n",
              "              nthread=None, objective='binary:logistic', random_state=0,\n",
              "              reg_alpha=0, reg_lambda=1, scale_pos_weight=1, seed=None,\n",
              "              silent=None, subsample=1, verbosity=1)"
            ]
          },
          "metadata": {
            "tags": []
          },
          "execution_count": 339
        }
      ]
    },
    {
      "cell_type": "code",
      "metadata": {
        "id": "GQ-Oe8bXzpZJ",
        "outputId": "17a9c23a-a69b-4ff9-fc2b-5d09e12fece9",
        "colab": {
          "base_uri": "https://localhost:8080/",
          "height": 402
        }
      },
      "source": [
        "ytrain_pred = classifier_xgb.predict(X_train)\n",
        "\n",
        "print('Performance Metrics :')\n",
        "print('Accuracy: ',accuracy_score(y_train, ytrain_pred))\n",
        "print('Precision: ',precision_score(y_train, ytrain_pred))\n",
        "print('F1-Score: ',f1_score(y_train, ytrain_pred))\n",
        "print('Mean Squared Error:', mean_squared_error(y_train, ytrain_pred ))\n",
        "print('Root Mean Squared Error:', np.sqrt(mean_squared_error(y_train, ytrain_pred )))\n",
        "\n",
        "plot_confusion_matrix(classifier_xgb,X_train, y_train, values_format='d')"
      ],
      "execution_count": 340,
      "outputs": [
        {
          "output_type": "stream",
          "text": [
            "Performance Metrics :\n",
            "Accuracy:  0.9961605584642234\n",
            "Precision:  0.9923796328368548\n",
            "F1-Score:  0.9961752433936022\n",
            "Mean Squared Error: 0.0038394415357766143\n",
            "Root Mean Squared Error: 0.06196322728664651\n"
          ],
          "name": "stdout"
        },
        {
          "output_type": "execute_result",
          "data": {
            "text/plain": [
              "<sklearn.metrics._plot.confusion_matrix.ConfusionMatrixDisplay at 0x7f9526bdf240>"
            ]
          },
          "metadata": {
            "tags": []
          },
          "execution_count": 340
        },
        {
          "output_type": "display_data",
          "data": {
            "image/png": "[encoded data removed]",
            "text/plain": [
              "<Figure size 432x288 with 2 Axes>"
            ]
          },
          "metadata": {
            "tags": [],
            "needs_background": "light"
          }
        }
      ]
    },
    {
      "cell_type": "code",
      "metadata": {
        "id": "pFCvJO_H6gB-",
        "outputId": "144c212d-6248-449a-a7ea-e0c863448f5e",
        "colab": {
          "base_uri": "https://localhost:8080/",
          "height": 402
        }
      },
      "source": [
        "y_test_pred = classifier_xgb.predict(X_test)\n",
        "\n",
        "print('Performance Metrics :')\n",
        "print('Accuracy: ',accuracy_score(y_test, y_test_pred))\n",
        "print('Precision: ',precision_score(y_test, y_test_pred))\n",
        "print('F1-Score: ',f1_score(y_test, y_test_pred,labels=np.unique(y_test_pred)))\n",
        "print('Mean Squared Error:', mean_squared_error(y_test, y_test_pred ))\n",
        "print('Root Mean Squared Error:', np.sqrt(mean_squared_error(y_test, y_test_pred )))\n",
        "\n",
        "plot_confusion_matrix(classifier_xgb,X_test, y_test, values_format='d')"
      ],
      "execution_count": 341,
      "outputs": [
        {
          "output_type": "stream",
          "text": [
            "Performance Metrics :\n",
            "Accuracy:  0.8986058301647655\n",
            "Precision:  0.4\n",
            "F1-Score:  0.3548387096774193\n",
            "Mean Squared Error: 0.10139416983523447\n",
            "Root Mean Squared Error: 0.3184245119886886\n"
          ],
          "name": "stdout"
        },
        {
          "output_type": "execute_result",
          "data": {
            "text/plain": [
              "<sklearn.metrics._plot.confusion_matrix.ConfusionMatrixDisplay at 0x7f9526d30748>"
            ]
          },
          "metadata": {
            "tags": []
          },
          "execution_count": 341
        },
        {
          "output_type": "display_data",
          "data": {
            "image/png": "[encoded data removed]",
            "text/plain": [
              "<Figure size 432x288 with 2 Axes>"
            ]
          },
          "metadata": {
            "tags": [],
            "needs_background": "light"
          }
        }
      ]
    },
    {
      "cell_type": "code",
      "metadata": {
        "id": "N1TxcLpprg1e",
        "outputId": "f248ff14-71a0-4e79-f890-a63dcffde4b5",
        "colab": {
          "base_uri": "https://localhost:8080/",
          "height": 52
        }
      },
      "source": [
        "print('Train Accuracy : ',accuracy_score(y_train, ytrain_pred))\n",
        "print('Test Accuracy : ',accuracy_score(y_test, ytest_pred))"
      ],
      "execution_count": 342,
      "outputs": [
        {
          "output_type": "stream",
          "text": [
            "Train Accuracy :  0.9961605584642234\n",
            "Test Accuracy :  0.8986058301647655\n"
          ],
          "name": "stdout"
        }
      ]
    },
    {
      "cell_type": "markdown",
      "metadata": {
        "id": "1EZtVvh0taT8"
      },
      "source": [
        "## Feature Importance Analysis"
      ]
    },
    {
      "cell_type": "code",
      "metadata": {
        "id": "k4AZ88KZfjJ8",
        "outputId": "a430ec72-b1c7-41f8-b744-b210f2d45891",
        "colab": {
          "base_uri": "https://localhost:8080/",
          "height": 1000
        }
      },
      "source": [
        "import graphviz\n",
        "xgboost.to_graphviz(classifier_xgb, num_trees=xgb_model.best_iteration)"
      ],
      "execution_count": 350,
      "outputs": [
        {
          "output_type": "execute_result",
          "data": {
            "text/plain": [
              "<graphviz.dot.Digraph at 0x7f9527370be0>"
            ],
            "image/svg+xml": "<?xml version=\"1.0\" encoding=\"UTF-8\" standalone=\"no\"?>\n<!DOCTYPE svg PUBLIC \"-//W3C//DTD SVG 1.1//EN\"\n \"http://www.w3.org/Graphics/SVG/1.1/DTD/svg11.dtd\">\n<!-- Generated by graphviz version 2.40.1 (20161225.0304)\n -->\n<!-- Title: %3 Pages: 1 -->\n<svg width=\"2086pt\" height=\"827pt\"\n viewBox=\"0.00 0.00 2085.73 827.00\" xmlns=\"http://www.w3.org/2000/svg\" xmlns:xlink=\"http://www.w3.org/1999/xlink\">\n<g id=\"graph0\" class=\"graph\" transform=\"scale(1 1) rotate(0) translate(4 823)\">\n<title>%3</title>\n<polygon fill=\"#ffffff\" stroke=\"transparent\" points=\"-4,4 -4,-823 2081.7341,-823 2081.7341,4 -4,4\"/>\n<!-- 0 -->\n<g id=\"node1\" class=\"node\">\n<title>0</title>\n<ellipse fill=\"none\" stroke=\"#000000\" cx=\"1086.342\" cy=\"-801\" rx=\"134.5761\" ry=\"18\"/>\n<text text-anchor=\"middle\" x=\"1086.342\" y=\"-797.3\" font-family=\"Times,serif\" font-size=\"14.00\" fill=\"#000000\">average_return_days&lt;2.5916667</text>\n</g>\n<!-- 1 -->\n<g id=\"node2\" class=\"node\">\n<title>1</title>\n<ellipse fill=\"none\" stroke=\"#000000\" cx=\"864.342\" cy=\"-714\" rx=\"139.9756\" ry=\"18\"/>\n<text text-anchor=\"middle\" x=\"864.342\" y=\"-710.3\" font-family=\"Times,serif\" font-size=\"14.00\" fill=\"#000000\">average_return_days&lt;1.80909085</text>\n</g>\n<!-- 0&#45;&gt;1 -->\n<g id=\"edge1\" class=\"edge\">\n<title>0&#45;&gt;1</title>\n<path fill=\"none\" stroke=\"#0000ff\" d=\"M1042.7468,-783.9154C1006.8929,-769.8645 955.9385,-749.8959 917.6587,-734.8944\"/>\n<polygon fill=\"#0000ff\" stroke=\"#0000ff\" points=\"918.8042,-731.5842 908.2165,-731.1941 916.25,-738.1016 918.8042,-731.5842\"/>\n<text text-anchor=\"middle\" x=\"1024.842\" y=\"-753.8\" font-family=\"Times,serif\" font-size=\"14.00\" fill=\"#000000\">yes, missing</text>\n</g>\n<!-- 2 -->\n<g id=\"node3\" class=\"node\">\n<title>2</title>\n<ellipse fill=\"none\" stroke=\"#000000\" cx=\"1231.342\" cy=\"-714\" rx=\"128.8774\" ry=\"18\"/>\n<text text-anchor=\"middle\" x=\"1231.342\" y=\"-710.3\" font-family=\"Times,serif\" font-size=\"14.00\" fill=\"#000000\">avg_sms_replies&lt;0.258333325</text>\n</g>\n<!-- 0&#45;&gt;2 -->\n<g id=\"edge2\" class=\"edge\">\n<title>0&#45;&gt;2</title>\n<path fill=\"none\" stroke=\"#ff0000\" d=\"M1115.6849,-783.3943C1138.0902,-769.9511 1169.1415,-751.3203 1193.4292,-736.7477\"/>\n<polygon fill=\"#ff0000\" stroke=\"#ff0000\" points=\"1195.2685,-739.7258 1202.0427,-731.5796 1191.667,-733.7233 1195.2685,-739.7258\"/>\n<text text-anchor=\"middle\" x=\"1176.342\" y=\"-753.8\" font-family=\"Times,serif\" font-size=\"14.00\" fill=\"#000000\">no</text>\n</g>\n<!-- 3 -->\n<g id=\"node4\" class=\"node\">\n<title>3</title>\n<ellipse fill=\"none\" stroke=\"#000000\" cx=\"591.342\" cy=\"-627\" rx=\"122.3786\" ry=\"18\"/>\n<text text-anchor=\"middle\" x=\"591.342\" y=\"-623.3\" font-family=\"Times,serif\" font-size=\"14.00\" fill=\"#000000\">avg_call_replies&lt;4.18803406</text>\n</g>\n<!-- 1&#45;&gt;3 -->\n<g id=\"edge3\" class=\"edge\">\n<title>1&#45;&gt;3</title>\n<path fill=\"none\" stroke=\"#0000ff\" d=\"M811.7048,-697.2255C766.1886,-682.7204 700.3607,-661.7422 652.5125,-646.4939\"/>\n<polygon fill=\"#0000ff\" stroke=\"#0000ff\" points=\"653.4823,-643.1296 642.8917,-643.4279 651.3568,-649.7991 653.4823,-643.1296\"/>\n<text text-anchor=\"middle\" x=\"779.842\" y=\"-666.8\" font-family=\"Times,serif\" font-size=\"14.00\" fill=\"#000000\">yes, missing</text>\n</g>\n<!-- 4 -->\n<g id=\"node5\" class=\"node\">\n<title>4</title>\n<ellipse fill=\"none\" stroke=\"#000000\" cx=\"864.342\" cy=\"-627\" rx=\"88.2844\" ry=\"18\"/>\n<text text-anchor=\"middle\" x=\"864.342\" y=\"-623.3\" font-family=\"Times,serif\" font-size=\"14.00\" fill=\"#000000\">leaf=&#45;0.0518424399</text>\n</g>\n<!-- 1&#45;&gt;4 -->\n<g id=\"edge4\" class=\"edge\">\n<title>1&#45;&gt;4</title>\n<path fill=\"none\" stroke=\"#ff0000\" d=\"M864.342,-695.9735C864.342,-684.1918 864.342,-668.5607 864.342,-655.1581\"/>\n<polygon fill=\"#ff0000\" stroke=\"#ff0000\" points=\"867.8421,-655.0033 864.342,-645.0034 860.8421,-655.0034 867.8421,-655.0033\"/>\n<text text-anchor=\"middle\" x=\"872.342\" y=\"-666.8\" font-family=\"Times,serif\" font-size=\"14.00\" fill=\"#000000\">no</text>\n</g>\n<!-- 5 -->\n<g id=\"node26\" class=\"node\">\n<title>5</title>\n<ellipse fill=\"none\" stroke=\"#000000\" cx=\"1231.342\" cy=\"-627\" rx=\"128.8774\" ry=\"18\"/>\n<text text-anchor=\"middle\" x=\"1231.342\" y=\"-623.3\" font-family=\"Times,serif\" font-size=\"14.00\" fill=\"#000000\">avg_sms_replies&lt;0.160256416</text>\n</g>\n<!-- 2&#45;&gt;5 -->\n<g id=\"edge25\" class=\"edge\">\n<title>2&#45;&gt;5</title>\n<path fill=\"none\" stroke=\"#0000ff\" d=\"M1231.342,-695.9735C1231.342,-684.1918 1231.342,-668.5607 1231.342,-655.1581\"/>\n<polygon fill=\"#0000ff\" stroke=\"#0000ff\" points=\"1234.8421,-655.0033 1231.342,-645.0034 1227.8421,-655.0034 1234.8421,-655.0033\"/>\n<text text-anchor=\"middle\" x=\"1266.842\" y=\"-666.8\" font-family=\"Times,serif\" font-size=\"14.00\" fill=\"#000000\">yes, missing</text>\n</g>\n<!-- 6 -->\n<g id=\"node27\" class=\"node\">\n<title>6</title>\n<ellipse fill=\"none\" stroke=\"#000000\" cx=\"1466.342\" cy=\"-627\" rx=\"88.2844\" ry=\"18\"/>\n<text text-anchor=\"middle\" x=\"1466.342\" y=\"-623.3\" font-family=\"Times,serif\" font-size=\"14.00\" fill=\"#000000\">leaf=&#45;0.0456971824</text>\n</g>\n<!-- 2&#45;&gt;6 -->\n<g id=\"edge26\" class=\"edge\">\n<title>2&#45;&gt;6</title>\n<path fill=\"none\" stroke=\"#ff0000\" d=\"M1276.931,-697.1224C1316.2259,-682.5749 1372.9552,-661.573 1414.0778,-646.3489\"/>\n<polygon fill=\"#ff0000\" stroke=\"#ff0000\" points=\"1415.4873,-649.5593 1423.6501,-642.8051 1413.0569,-642.9947 1415.4873,-649.5593\"/>\n<text text-anchor=\"middle\" x=\"1371.342\" y=\"-666.8\" font-family=\"Times,serif\" font-size=\"14.00\" fill=\"#000000\">no</text>\n</g>\n<!-- 7 -->\n<g id=\"node6\" class=\"node\">\n<title>7</title>\n<ellipse fill=\"none\" stroke=\"#000000\" cx=\"326.342\" cy=\"-540\" rx=\"102.8821\" ry=\"18\"/>\n<text text-anchor=\"middle\" x=\"326.342\" y=\"-536.3\" font-family=\"Times,serif\" font-size=\"14.00\" fill=\"#000000\">avg_call_replies&lt;0.0625</text>\n</g>\n<!-- 3&#45;&gt;7 -->\n<g id=\"edge5\" class=\"edge\">\n<title>3&#45;&gt;7</title>\n<path fill=\"none\" stroke=\"#0000ff\" d=\"M541.186,-610.5337C496.6383,-595.9086 431.5166,-574.529 384.6585,-559.1454\"/>\n<polygon fill=\"#0000ff\" stroke=\"#0000ff\" points=\"385.5435,-555.7522 374.9507,-555.9583 383.36,-562.403 385.5435,-555.7522\"/>\n<text text-anchor=\"middle\" x=\"510.842\" y=\"-579.8\" font-family=\"Times,serif\" font-size=\"14.00\" fill=\"#000000\">yes, missing</text>\n</g>\n<!-- 8 -->\n<g id=\"node7\" class=\"node\">\n<title>8</title>\n<ellipse fill=\"none\" stroke=\"#000000\" cx=\"591.342\" cy=\"-540\" rx=\"122.3786\" ry=\"18\"/>\n<text text-anchor=\"middle\" x=\"591.342\" y=\"-536.3\" font-family=\"Times,serif\" font-size=\"14.00\" fill=\"#000000\">avg_call_replies&lt;4.52272701</text>\n</g>\n<!-- 3&#45;&gt;8 -->\n<g id=\"edge6\" class=\"edge\">\n<title>3&#45;&gt;8</title>\n<path fill=\"none\" stroke=\"#ff0000\" d=\"M591.342,-608.9735C591.342,-597.1918 591.342,-581.5607 591.342,-568.1581\"/>\n<polygon fill=\"#ff0000\" stroke=\"#ff0000\" points=\"594.8421,-568.0033 591.342,-558.0034 587.8421,-568.0034 594.8421,-568.0033\"/>\n<text text-anchor=\"middle\" x=\"599.342\" y=\"-579.8\" font-family=\"Times,serif\" font-size=\"14.00\" fill=\"#000000\">no</text>\n</g>\n<!-- 11 -->\n<g id=\"node8\" class=\"node\">\n<title>11</title>\n<ellipse fill=\"none\" stroke=\"#000000\" cx=\"90.342\" cy=\"-453\" rx=\"90.1842\" ry=\"18\"/>\n<text text-anchor=\"middle\" x=\"90.342\" y=\"-449.3\" font-family=\"Times,serif\" font-size=\"14.00\" fill=\"#000000\">leaf=0.00379797397</text>\n</g>\n<!-- 7&#45;&gt;11 -->\n<g id=\"edge7\" class=\"edge\">\n<title>7&#45;&gt;11</title>\n<path fill=\"none\" stroke=\"#0000ff\" d=\"M282.229,-523.738C242.7461,-509.1829 184.7959,-487.8199 142.919,-472.3822\"/>\n<polygon fill=\"#0000ff\" stroke=\"#0000ff\" points=\"144.0354,-469.0636 133.442,-468.8886 141.6141,-475.6315 144.0354,-469.0636\"/>\n<text text-anchor=\"middle\" x=\"258.842\" y=\"-492.8\" font-family=\"Times,serif\" font-size=\"14.00\" fill=\"#000000\">yes, missing</text>\n</g>\n<!-- 12 -->\n<g id=\"node9\" class=\"node\">\n<title>12</title>\n<ellipse fill=\"none\" stroke=\"#000000\" cx=\"326.342\" cy=\"-453\" rx=\"127.2775\" ry=\"18\"/>\n<text text-anchor=\"middle\" x=\"326.342\" y=\"-449.3\" font-family=\"Times,serif\" font-size=\"14.00\" fill=\"#000000\">avg_call_replies&lt;0.708333373</text>\n</g>\n<!-- 7&#45;&gt;12 -->\n<g id=\"edge8\" class=\"edge\">\n<title>7&#45;&gt;12</title>\n<path fill=\"none\" stroke=\"#ff0000\" d=\"M326.342,-521.9735C326.342,-510.1918 326.342,-494.5607 326.342,-481.1581\"/>\n<polygon fill=\"#ff0000\" stroke=\"#ff0000\" points=\"329.8421,-481.0033 326.342,-471.0034 322.8421,-481.0034 329.8421,-481.0033\"/>\n<text text-anchor=\"middle\" x=\"334.342\" y=\"-492.8\" font-family=\"Times,serif\" font-size=\"14.00\" fill=\"#000000\">no</text>\n</g>\n<!-- 13 -->\n<g id=\"node12\" class=\"node\">\n<title>13</title>\n<ellipse fill=\"none\" stroke=\"#000000\" cx=\"558.342\" cy=\"-453\" rx=\"85.2851\" ry=\"18\"/>\n<text text-anchor=\"middle\" x=\"558.342\" y=\"-449.3\" font-family=\"Times,serif\" font-size=\"14.00\" fill=\"#000000\">leaf=0.0509565584</text>\n</g>\n<!-- 8&#45;&gt;13 -->\n<g id=\"edge11\" class=\"edge\">\n<title>8&#45;&gt;13</title>\n<path fill=\"none\" stroke=\"#0000ff\" d=\"M584.5044,-521.9735C579.9469,-509.9585 573.871,-493.9401 568.7216,-480.3646\"/>\n<polygon fill=\"#0000ff\" stroke=\"#0000ff\" points=\"571.9899,-479.112 565.1708,-471.0034 565.445,-481.5947 571.9899,-479.112\"/>\n<text text-anchor=\"middle\" x=\"612.842\" y=\"-492.8\" font-family=\"Times,serif\" font-size=\"14.00\" fill=\"#000000\">yes, missing</text>\n</g>\n<!-- 14 -->\n<g id=\"node13\" class=\"node\">\n<title>14</title>\n<ellipse fill=\"none\" stroke=\"#000000\" cx=\"783.342\" cy=\"-453\" rx=\"122.3786\" ry=\"18\"/>\n<text text-anchor=\"middle\" x=\"783.342\" y=\"-449.3\" font-family=\"Times,serif\" font-size=\"14.00\" fill=\"#000000\">avg_call_replies&lt;58.2923088</text>\n</g>\n<!-- 8&#45;&gt;14 -->\n<g id=\"edge12\" class=\"edge\">\n<title>8&#45;&gt;14</title>\n<path fill=\"none\" stroke=\"#ff0000\" d=\"M629.275,-522.8116C659.9111,-508.9296 703.1849,-489.3212 736.0738,-474.4184\"/>\n<polygon fill=\"#ff0000\" stroke=\"#ff0000\" points=\"737.8238,-477.468 745.4878,-470.1527 734.9346,-471.0921 737.8238,-477.468\"/>\n<text text-anchor=\"middle\" x=\"707.342\" y=\"-492.8\" font-family=\"Times,serif\" font-size=\"14.00\" fill=\"#000000\">no</text>\n</g>\n<!-- 19 -->\n<g id=\"node10\" class=\"node\">\n<title>19</title>\n<ellipse fill=\"none\" stroke=\"#000000\" cx=\"131.342\" cy=\"-366\" rx=\"88.2844\" ry=\"18\"/>\n<text text-anchor=\"middle\" x=\"131.342\" y=\"-362.3\" font-family=\"Times,serif\" font-size=\"14.00\" fill=\"#000000\">leaf=&#45;0.0734021366</text>\n</g>\n<!-- 12&#45;&gt;19 -->\n<g id=\"edge9\" class=\"edge\">\n<title>12&#45;&gt;19</title>\n<path fill=\"none\" stroke=\"#0000ff\" d=\"M287.8163,-435.8116C256.0607,-421.6437 210.9358,-401.5111 177.2985,-386.5037\"/>\n<polygon fill=\"#0000ff\" stroke=\"#0000ff\" points=\"178.6947,-383.2941 168.1363,-382.4159 175.8426,-389.6867 178.6947,-383.2941\"/>\n<text text-anchor=\"middle\" x=\"276.842\" y=\"-405.8\" font-family=\"Times,serif\" font-size=\"14.00\" fill=\"#000000\">yes, missing</text>\n</g>\n<!-- 20 -->\n<g id=\"node11\" class=\"node\">\n<title>20</title>\n<ellipse fill=\"none\" stroke=\"#000000\" cx=\"326.342\" cy=\"-366\" rx=\"88.2844\" ry=\"18\"/>\n<text text-anchor=\"middle\" x=\"326.342\" y=\"-362.3\" font-family=\"Times,serif\" font-size=\"14.00\" fill=\"#000000\">leaf=&#45;0.0146102076</text>\n</g>\n<!-- 12&#45;&gt;20 -->\n<g id=\"edge10\" class=\"edge\">\n<title>12&#45;&gt;20</title>\n<path fill=\"none\" stroke=\"#ff0000\" d=\"M326.342,-434.9735C326.342,-423.1918 326.342,-407.5607 326.342,-394.1581\"/>\n<polygon fill=\"#ff0000\" stroke=\"#ff0000\" points=\"329.8421,-394.0033 326.342,-384.0034 322.8421,-394.0034 329.8421,-394.0033\"/>\n<text text-anchor=\"middle\" x=\"334.342\" y=\"-405.8\" font-family=\"Times,serif\" font-size=\"14.00\" fill=\"#000000\">no</text>\n</g>\n<!-- 21 -->\n<g id=\"node14\" class=\"node\">\n<title>21</title>\n<ellipse fill=\"none\" stroke=\"#000000\" cx=\"555.342\" cy=\"-366\" rx=\"122.3786\" ry=\"18\"/>\n<text text-anchor=\"middle\" x=\"555.342\" y=\"-362.3\" font-family=\"Times,serif\" font-size=\"14.00\" fill=\"#000000\">avg_call_replies&lt;49.0769234</text>\n</g>\n<!-- 14&#45;&gt;21 -->\n<g id=\"edge13\" class=\"edge\">\n<title>14&#45;&gt;21</title>\n<path fill=\"none\" stroke=\"#0000ff\" d=\"M739.1109,-436.1224C701.9044,-421.9251 648.5874,-401.5805 608.957,-386.4583\"/>\n<polygon fill=\"#0000ff\" stroke=\"#0000ff\" points=\"610.0407,-383.1258 599.4499,-382.8307 607.5451,-389.6658 610.0407,-383.1258\"/>\n<text text-anchor=\"middle\" x=\"718.842\" y=\"-405.8\" font-family=\"Times,serif\" font-size=\"14.00\" fill=\"#000000\">yes, missing</text>\n</g>\n<!-- 22 -->\n<g id=\"node15\" class=\"node\">\n<title>22</title>\n<ellipse fill=\"none\" stroke=\"#000000\" cx=\"784.342\" cy=\"-366\" rx=\"88.2844\" ry=\"18\"/>\n<text text-anchor=\"middle\" x=\"784.342\" y=\"-362.3\" font-family=\"Times,serif\" font-size=\"14.00\" fill=\"#000000\">leaf=&#45;0.0391423404</text>\n</g>\n<!-- 14&#45;&gt;22 -->\n<g id=\"edge14\" class=\"edge\">\n<title>14&#45;&gt;22</title>\n<path fill=\"none\" stroke=\"#ff0000\" d=\"M783.5492,-434.9735C783.6846,-423.1918 783.8643,-407.5607 784.0183,-394.1581\"/>\n<polygon fill=\"#ff0000\" stroke=\"#ff0000\" points=\"787.5198,-394.043 784.135,-384.0034 780.5202,-393.9624 787.5198,-394.043\"/>\n<text text-anchor=\"middle\" x=\"792.342\" y=\"-405.8\" font-family=\"Times,serif\" font-size=\"14.00\" fill=\"#000000\">no</text>\n</g>\n<!-- 29 -->\n<g id=\"node16\" class=\"node\">\n<title>29</title>\n<ellipse fill=\"none\" stroke=\"#000000\" cx=\"359.342\" cy=\"-279\" rx=\"122.3786\" ry=\"18\"/>\n<text text-anchor=\"middle\" x=\"359.342\" y=\"-275.3\" font-family=\"Times,serif\" font-size=\"14.00\" fill=\"#000000\">avg_call_replies&lt;13.3923073</text>\n</g>\n<!-- 21&#45;&gt;29 -->\n<g id=\"edge15\" class=\"edge\">\n<title>21&#45;&gt;29</title>\n<path fill=\"none\" stroke=\"#0000ff\" d=\"M516.6187,-348.8116C485.2101,-334.8701 440.7896,-315.1528 407.1632,-300.2268\"/>\n<polygon fill=\"#0000ff\" stroke=\"#0000ff\" points=\"408.5449,-297.0108 397.9848,-296.1527 405.7049,-303.4088 408.5449,-297.0108\"/>\n<text text-anchor=\"middle\" x=\"504.842\" y=\"-318.8\" font-family=\"Times,serif\" font-size=\"14.00\" fill=\"#000000\">yes, missing</text>\n</g>\n<!-- 30 -->\n<g id=\"node17\" class=\"node\">\n<title>30</title>\n<ellipse fill=\"none\" stroke=\"#000000\" cx=\"584.342\" cy=\"-279\" rx=\"85.2851\" ry=\"18\"/>\n<text text-anchor=\"middle\" x=\"584.342\" y=\"-275.3\" font-family=\"Times,serif\" font-size=\"14.00\" fill=\"#000000\">leaf=0.0628703684</text>\n</g>\n<!-- 21&#45;&gt;30 -->\n<g id=\"edge16\" class=\"edge\">\n<title>21&#45;&gt;30</title>\n<path fill=\"none\" stroke=\"#ff0000\" d=\"M561.3508,-347.9735C565.3169,-336.0751 570.5917,-320.2508 575.0884,-306.7606\"/>\n<polygon fill=\"#ff0000\" stroke=\"#ff0000\" points=\"578.4989,-307.597 578.3409,-297.0034 571.8581,-305.3834 578.4989,-307.597\"/>\n<text text-anchor=\"middle\" x=\"580.342\" y=\"-318.8\" font-family=\"Times,serif\" font-size=\"14.00\" fill=\"#000000\">no</text>\n</g>\n<!-- 39 -->\n<g id=\"node18\" class=\"node\">\n<title>39</title>\n<ellipse fill=\"none\" stroke=\"#000000\" cx=\"277.342\" cy=\"-192\" rx=\"122.3786\" ry=\"18\"/>\n<text text-anchor=\"middle\" x=\"277.342\" y=\"-188.3\" font-family=\"Times,serif\" font-size=\"14.00\" fill=\"#000000\">avg_call_replies&lt;5.64583302</text>\n</g>\n<!-- 29&#45;&gt;39 -->\n<g id=\"edge17\" class=\"edge\">\n<title>29&#45;&gt;39</title>\n<path fill=\"none\" stroke=\"#0000ff\" d=\"M342.3515,-260.9735C330.4772,-248.3752 314.4545,-231.3755 301.2874,-217.4055\"/>\n<polygon fill=\"#0000ff\" stroke=\"#0000ff\" points=\"303.7166,-214.8799 294.3107,-210.0034 298.6226,-219.6811 303.7166,-214.8799\"/>\n<text text-anchor=\"middle\" x=\"358.842\" y=\"-231.8\" font-family=\"Times,serif\" font-size=\"14.00\" fill=\"#000000\">yes, missing</text>\n</g>\n<!-- 40 -->\n<g id=\"node19\" class=\"node\">\n<title>40</title>\n<ellipse fill=\"none\" stroke=\"#000000\" cx=\"551.342\" cy=\"-192\" rx=\"133.7763\" ry=\"18\"/>\n<text text-anchor=\"middle\" x=\"551.342\" y=\"-188.3\" font-family=\"Times,serif\" font-size=\"14.00\" fill=\"#000000\">avg_sms_replies&lt;0.0801282078</text>\n</g>\n<!-- 29&#45;&gt;40 -->\n<g id=\"edge18\" class=\"edge\">\n<title>29&#45;&gt;40</title>\n<path fill=\"none\" stroke=\"#ff0000\" d=\"M397.275,-261.8116C427.8116,-247.9747 470.904,-228.4484 503.7532,-213.5637\"/>\n<polygon fill=\"#ff0000\" stroke=\"#ff0000\" points=\"505.4957,-216.6167 513.1597,-209.3014 502.6065,-210.2407 505.4957,-216.6167\"/>\n<text text-anchor=\"middle\" x=\"475.342\" y=\"-231.8\" font-family=\"Times,serif\" font-size=\"14.00\" fill=\"#000000\">no</text>\n</g>\n<!-- 51 -->\n<g id=\"node20\" class=\"node\">\n<title>51</title>\n<ellipse fill=\"none\" stroke=\"#000000\" cx=\"90.342\" cy=\"-105\" rx=\"88.2844\" ry=\"18\"/>\n<text text-anchor=\"middle\" x=\"90.342\" y=\"-101.3\" font-family=\"Times,serif\" font-size=\"14.00\" fill=\"#000000\">leaf=&#45;0.0258463938</text>\n</g>\n<!-- 39&#45;&gt;51 -->\n<g id=\"edge19\" class=\"edge\">\n<title>39&#45;&gt;51</title>\n<path fill=\"none\" stroke=\"#0000ff\" d=\"M240.3968,-174.8116C210.171,-160.7493 167.3148,-140.8109 135.1363,-125.8402\"/>\n<polygon fill=\"#0000ff\" stroke=\"#0000ff\" points=\"136.4848,-122.6073 125.9416,-121.5624 133.532,-128.9541 136.4848,-122.6073\"/>\n<text text-anchor=\"middle\" x=\"230.842\" y=\"-144.8\" font-family=\"Times,serif\" font-size=\"14.00\" fill=\"#000000\">yes, missing</text>\n</g>\n<!-- 52 -->\n<g id=\"node21\" class=\"node\">\n<title>52</title>\n<ellipse fill=\"none\" stroke=\"#000000\" cx=\"282.342\" cy=\"-105\" rx=\"85.2851\" ry=\"18\"/>\n<text text-anchor=\"middle\" x=\"282.342\" y=\"-101.3\" font-family=\"Times,serif\" font-size=\"14.00\" fill=\"#000000\">leaf=0.0178856049</text>\n</g>\n<!-- 39&#45;&gt;52 -->\n<g id=\"edge20\" class=\"edge\">\n<title>39&#45;&gt;52</title>\n<path fill=\"none\" stroke=\"#ff0000\" d=\"M278.378,-173.9735C279.0551,-162.1918 279.9534,-146.5607 280.7237,-133.1581\"/>\n<polygon fill=\"#ff0000\" stroke=\"#ff0000\" points=\"284.2277,-133.1877 281.3073,-123.0034 277.2392,-132.786 284.2277,-133.1877\"/>\n<text text-anchor=\"middle\" x=\"288.342\" y=\"-144.8\" font-family=\"Times,serif\" font-size=\"14.00\" fill=\"#000000\">no</text>\n</g>\n<!-- 53 -->\n<g id=\"node22\" class=\"node\">\n<title>53</title>\n<ellipse fill=\"none\" stroke=\"#000000\" cx=\"529.342\" cy=\"-105\" rx=\"134.5761\" ry=\"18\"/>\n<text text-anchor=\"middle\" x=\"529.342\" y=\"-101.3\" font-family=\"Times,serif\" font-size=\"14.00\" fill=\"#000000\">average_return_days&lt;1.1291666</text>\n</g>\n<!-- 40&#45;&gt;53 -->\n<g id=\"edge21\" class=\"edge\">\n<title>40&#45;&gt;53</title>\n<path fill=\"none\" stroke=\"#0000ff\" d=\"M546.7836,-173.9735C543.7748,-162.0751 539.7732,-146.2508 536.3619,-132.7606\"/>\n<polygon fill=\"#0000ff\" stroke=\"#0000ff\" points=\"539.7394,-131.8401 533.8946,-123.0034 532.953,-133.5563 539.7394,-131.8401\"/>\n<text text-anchor=\"middle\" x=\"577.842\" y=\"-144.8\" font-family=\"Times,serif\" font-size=\"14.00\" fill=\"#000000\">yes, missing</text>\n</g>\n<!-- 54 -->\n<g id=\"node23\" class=\"node\">\n<title>54</title>\n<ellipse fill=\"none\" stroke=\"#000000\" cx=\"767.342\" cy=\"-105\" rx=\"85.2851\" ry=\"18\"/>\n<text text-anchor=\"middle\" x=\"767.342\" y=\"-101.3\" font-family=\"Times,serif\" font-size=\"14.00\" fill=\"#000000\">leaf=0.0124289626</text>\n</g>\n<!-- 40&#45;&gt;54 -->\n<g id=\"edge22\" class=\"edge\">\n<title>40&#45;&gt;54</title>\n<path fill=\"none\" stroke=\"#ff0000\" d=\"M593.7589,-174.9154C629.3983,-160.5607 680.3723,-140.0295 717.8651,-124.9282\"/>\n<polygon fill=\"#ff0000\" stroke=\"#ff0000\" points=\"719.6047,-128.0008 727.5729,-121.0181 716.9894,-121.5077 719.6047,-128.0008\"/>\n<text text-anchor=\"middle\" x=\"680.342\" y=\"-144.8\" font-family=\"Times,serif\" font-size=\"14.00\" fill=\"#000000\">no</text>\n</g>\n<!-- 63 -->\n<g id=\"node24\" class=\"node\">\n<title>63</title>\n<ellipse fill=\"none\" stroke=\"#000000\" cx=\"433.342\" cy=\"-18\" rx=\"88.2844\" ry=\"18\"/>\n<text text-anchor=\"middle\" x=\"433.342\" y=\"-14.3\" font-family=\"Times,serif\" font-size=\"14.00\" fill=\"#000000\">leaf=&#45;0.0471754149</text>\n</g>\n<!-- 53&#45;&gt;63 -->\n<g id=\"edge23\" class=\"edge\">\n<title>53&#45;&gt;63</title>\n<path fill=\"none\" stroke=\"#0000ff\" d=\"M509.4507,-86.9735C495.3269,-74.1738 476.1897,-56.8308 460.6389,-42.7379\"/>\n<polygon fill=\"#0000ff\" stroke=\"#0000ff\" points=\"462.6395,-39.8275 452.8793,-35.7057 457.9389,-45.0144 462.6395,-39.8275\"/>\n<text text-anchor=\"middle\" x=\"522.842\" y=\"-57.8\" font-family=\"Times,serif\" font-size=\"14.00\" fill=\"#000000\">yes, missing</text>\n</g>\n<!-- 64 -->\n<g id=\"node25\" class=\"node\">\n<title>64</title>\n<ellipse fill=\"none\" stroke=\"#000000\" cx=\"625.342\" cy=\"-18\" rx=\"85.2851\" ry=\"18\"/>\n<text text-anchor=\"middle\" x=\"625.342\" y=\"-14.3\" font-family=\"Times,serif\" font-size=\"14.00\" fill=\"#000000\">leaf=0.0138552962</text>\n</g>\n<!-- 53&#45;&gt;64 -->\n<g id=\"edge24\" class=\"edge\">\n<title>53&#45;&gt;64</title>\n<path fill=\"none\" stroke=\"#ff0000\" d=\"M549.2332,-86.9735C563.3571,-74.1738 582.4942,-56.8308 598.045,-42.7379\"/>\n<polygon fill=\"#ff0000\" stroke=\"#ff0000\" points=\"600.7451,-45.0144 605.8047,-35.7057 596.0444,-39.8275 600.7451,-45.0144\"/>\n<text text-anchor=\"middle\" x=\"591.342\" y=\"-57.8\" font-family=\"Times,serif\" font-size=\"14.00\" fill=\"#000000\">no</text>\n</g>\n<!-- 9 -->\n<g id=\"node28\" class=\"node\">\n<title>9</title>\n<ellipse fill=\"none\" stroke=\"#000000\" cx=\"1231.342\" cy=\"-540\" rx=\"122.3786\" ry=\"18\"/>\n<text text-anchor=\"middle\" x=\"1231.342\" y=\"-536.3\" font-family=\"Times,serif\" font-size=\"14.00\" fill=\"#000000\">avg_call_replies&lt;2.61249995</text>\n</g>\n<!-- 5&#45;&gt;9 -->\n<g id=\"edge27\" class=\"edge\">\n<title>5&#45;&gt;9</title>\n<path fill=\"none\" stroke=\"#0000ff\" d=\"M1231.342,-608.9735C1231.342,-597.1918 1231.342,-581.5607 1231.342,-568.1581\"/>\n<polygon fill=\"#0000ff\" stroke=\"#0000ff\" points=\"1234.8421,-568.0033 1231.342,-558.0034 1227.8421,-568.0034 1234.8421,-568.0033\"/>\n<text text-anchor=\"middle\" x=\"1266.842\" y=\"-579.8\" font-family=\"Times,serif\" font-size=\"14.00\" fill=\"#000000\">yes, missing</text>\n</g>\n<!-- 10 -->\n<g id=\"node29\" class=\"node\">\n<title>10</title>\n<ellipse fill=\"none\" stroke=\"#000000\" cx=\"1456.342\" cy=\"-540\" rx=\"85.2851\" ry=\"18\"/>\n<text text-anchor=\"middle\" x=\"1456.342\" y=\"-536.3\" font-family=\"Times,serif\" font-size=\"14.00\" fill=\"#000000\">leaf=0.0453708693</text>\n</g>\n<!-- 5&#45;&gt;10 -->\n<g id=\"edge28\" class=\"edge\">\n<title>5&#45;&gt;10</title>\n<path fill=\"none\" stroke=\"#ff0000\" d=\"M1275.2584,-610.019C1312.6319,-595.5679 1366.3352,-574.8026 1405.5517,-559.6389\"/>\n<polygon fill=\"#ff0000\" stroke=\"#ff0000\" points=\"1407.1264,-562.7826 1415.1911,-555.9117 1404.6018,-556.2537 1407.1264,-562.7826\"/>\n<text text-anchor=\"middle\" x=\"1365.342\" y=\"-579.8\" font-family=\"Times,serif\" font-size=\"14.00\" fill=\"#000000\">no</text>\n</g>\n<!-- 15 -->\n<g id=\"node30\" class=\"node\">\n<title>15</title>\n<ellipse fill=\"none\" stroke=\"#000000\" cx=\"1231.342\" cy=\"-453\" rx=\"139.9756\" ry=\"18\"/>\n<text text-anchor=\"middle\" x=\"1231.342\" y=\"-449.3\" font-family=\"Times,serif\" font-size=\"14.00\" fill=\"#000000\">average_return_days&lt;29.6071434</text>\n</g>\n<!-- 9&#45;&gt;15 -->\n<g id=\"edge29\" class=\"edge\">\n<title>9&#45;&gt;15</title>\n<path fill=\"none\" stroke=\"#0000ff\" d=\"M1231.342,-521.9735C1231.342,-510.1918 1231.342,-494.5607 1231.342,-481.1581\"/>\n<polygon fill=\"#0000ff\" stroke=\"#0000ff\" points=\"1234.8421,-481.0033 1231.342,-471.0034 1227.8421,-481.0034 1234.8421,-481.0033\"/>\n<text text-anchor=\"middle\" x=\"1266.842\" y=\"-492.8\" font-family=\"Times,serif\" font-size=\"14.00\" fill=\"#000000\">yes, missing</text>\n</g>\n<!-- 16 -->\n<g id=\"node31\" class=\"node\">\n<title>16</title>\n<ellipse fill=\"none\" stroke=\"#000000\" cx=\"1522.342\" cy=\"-453\" rx=\"122.3786\" ry=\"18\"/>\n<text text-anchor=\"middle\" x=\"1522.342\" y=\"-449.3\" font-family=\"Times,serif\" font-size=\"14.00\" fill=\"#000000\">avg_call_replies&lt;17.1833344</text>\n</g>\n<!-- 9&#45;&gt;16 -->\n<g id=\"edge30\" class=\"edge\">\n<title>9&#45;&gt;16</title>\n<path fill=\"none\" stroke=\"#ff0000\" d=\"M1285.3949,-523.8399C1334.3439,-509.2056 1406.5144,-487.6289 1458.3321,-472.137\"/>\n<polygon fill=\"#ff0000\" stroke=\"#ff0000\" points=\"1459.5072,-475.4388 1468.0856,-469.221 1457.5021,-468.7321 1459.5072,-475.4388\"/>\n<text text-anchor=\"middle\" x=\"1402.342\" y=\"-492.8\" font-family=\"Times,serif\" font-size=\"14.00\" fill=\"#000000\">no</text>\n</g>\n<!-- 23 -->\n<g id=\"node32\" class=\"node\">\n<title>23</title>\n<ellipse fill=\"none\" stroke=\"#000000\" cx=\"1030.342\" cy=\"-366\" rx=\"139.9756\" ry=\"18\"/>\n<text text-anchor=\"middle\" x=\"1030.342\" y=\"-362.3\" font-family=\"Times,serif\" font-size=\"14.00\" fill=\"#000000\">average_return_days&lt;13.2214289</text>\n</g>\n<!-- 15&#45;&gt;23 -->\n<g id=\"edge31\" class=\"edge\">\n<title>15&#45;&gt;23</title>\n<path fill=\"none\" stroke=\"#0000ff\" d=\"M1191.1497,-435.6033C1159.1057,-421.7336 1114.0815,-402.2455 1079.8223,-387.4168\"/>\n<polygon fill=\"#0000ff\" stroke=\"#0000ff\" points=\"1081.0321,-384.1268 1070.4646,-383.3665 1078.2515,-390.5508 1081.0321,-384.1268\"/>\n<text text-anchor=\"middle\" x=\"1178.842\" y=\"-405.8\" font-family=\"Times,serif\" font-size=\"14.00\" fill=\"#000000\">yes, missing</text>\n</g>\n<!-- 24 -->\n<g id=\"node33\" class=\"node\">\n<title>24</title>\n<ellipse fill=\"none\" stroke=\"#000000\" cx=\"1276.342\" cy=\"-366\" rx=\"88.2844\" ry=\"18\"/>\n<text text-anchor=\"middle\" x=\"1276.342\" y=\"-362.3\" font-family=\"Times,serif\" font-size=\"14.00\" fill=\"#000000\">leaf=&#45;0.0397373699</text>\n</g>\n<!-- 15&#45;&gt;24 -->\n<g id=\"edge32\" class=\"edge\">\n<title>15&#45;&gt;24</title>\n<path fill=\"none\" stroke=\"#ff0000\" d=\"M1240.666,-434.9735C1246.941,-422.8418 1255.3272,-406.6287 1262.3921,-392.9698\"/>\n<polygon fill=\"#ff0000\" stroke=\"#ff0000\" points=\"1265.5444,-394.4935 1267.0299,-384.0034 1259.3269,-391.2776 1265.5444,-394.4935\"/>\n<text text-anchor=\"middle\" x=\"1265.342\" y=\"-405.8\" font-family=\"Times,serif\" font-size=\"14.00\" fill=\"#000000\">no</text>\n</g>\n<!-- 25 -->\n<g id=\"node38\" class=\"node\">\n<title>25</title>\n<ellipse fill=\"none\" stroke=\"#000000\" cx=\"1522.342\" cy=\"-366\" rx=\"139.9756\" ry=\"18\"/>\n<text text-anchor=\"middle\" x=\"1522.342\" y=\"-362.3\" font-family=\"Times,serif\" font-size=\"14.00\" fill=\"#000000\">average_return_days&lt;3.41428566</text>\n</g>\n<!-- 16&#45;&gt;25 -->\n<g id=\"edge37\" class=\"edge\">\n<title>16&#45;&gt;25</title>\n<path fill=\"none\" stroke=\"#0000ff\" d=\"M1522.342,-434.9735C1522.342,-423.1918 1522.342,-407.5607 1522.342,-394.1581\"/>\n<polygon fill=\"#0000ff\" stroke=\"#0000ff\" points=\"1525.8421,-394.0033 1522.342,-384.0034 1518.8421,-394.0034 1525.8421,-394.0033\"/>\n<text text-anchor=\"middle\" x=\"1557.842\" y=\"-405.8\" font-family=\"Times,serif\" font-size=\"14.00\" fill=\"#000000\">yes, missing</text>\n</g>\n<!-- 26 -->\n<g id=\"node39\" class=\"node\">\n<title>26</title>\n<ellipse fill=\"none\" stroke=\"#000000\" cx=\"1802.342\" cy=\"-366\" rx=\"122.3786\" ry=\"18\"/>\n<text text-anchor=\"middle\" x=\"1802.342\" y=\"-362.3\" font-family=\"Times,serif\" font-size=\"14.00\" fill=\"#000000\">avg_call_replies&lt;35.8295441</text>\n</g>\n<!-- 16&#45;&gt;26 -->\n<g id=\"edge38\" class=\"edge\">\n<title>16&#45;&gt;26</title>\n<path fill=\"none\" stroke=\"#ff0000\" d=\"M1575.0078,-436.636C1621.9387,-422.0539 1690.6699,-400.6981 1740.2613,-385.2894\"/>\n<polygon fill=\"#ff0000\" stroke=\"#ff0000\" points=\"1741.4012,-388.6003 1749.9123,-382.2907 1739.3241,-381.9156 1741.4012,-388.6003\"/>\n<text text-anchor=\"middle\" x=\"1686.342\" y=\"-405.8\" font-family=\"Times,serif\" font-size=\"14.00\" fill=\"#000000\">no</text>\n</g>\n<!-- 31 -->\n<g id=\"node34\" class=\"node\">\n<title>31</title>\n<ellipse fill=\"none\" stroke=\"#000000\" cx=\"846.342\" cy=\"-279\" rx=\"139.9756\" ry=\"18\"/>\n<text text-anchor=\"middle\" x=\"846.342\" y=\"-275.3\" font-family=\"Times,serif\" font-size=\"14.00\" fill=\"#000000\">average_return_days&lt;9.28846169</text>\n</g>\n<!-- 23&#45;&gt;31 -->\n<g id=\"edge33\" class=\"edge\">\n<title>23&#45;&gt;31</title>\n<path fill=\"none\" stroke=\"#0000ff\" d=\"M993.5491,-348.6033C964.561,-334.897 923.969,-315.7041 892.7504,-300.9431\"/>\n<polygon fill=\"#0000ff\" stroke=\"#0000ff\" points=\"893.9225,-297.6258 883.386,-296.5154 890.9303,-303.9541 893.9225,-297.6258\"/>\n<text text-anchor=\"middle\" x=\"985.842\" y=\"-318.8\" font-family=\"Times,serif\" font-size=\"14.00\" fill=\"#000000\">yes, missing</text>\n</g>\n<!-- 32 -->\n<g id=\"node35\" class=\"node\">\n<title>32</title>\n<ellipse fill=\"none\" stroke=\"#000000\" cx=\"1084.342\" cy=\"-279\" rx=\"80.6858\" ry=\"18\"/>\n<text text-anchor=\"middle\" x=\"1084.342\" y=\"-275.3\" font-family=\"Times,serif\" font-size=\"14.00\" fill=\"#000000\">leaf=0.062604636</text>\n</g>\n<!-- 23&#45;&gt;32 -->\n<g id=\"edge34\" class=\"edge\">\n<title>23&#45;&gt;32</title>\n<path fill=\"none\" stroke=\"#ff0000\" d=\"M1041.5308,-347.9735C1049.1333,-335.7252 1059.3179,-319.3165 1067.8462,-305.5766\"/>\n<polygon fill=\"#ff0000\" stroke=\"#ff0000\" points=\"1070.8676,-307.3456 1073.1675,-297.0034 1064.9201,-303.654 1070.8676,-307.3456\"/>\n<text text-anchor=\"middle\" x=\"1069.342\" y=\"-318.8\" font-family=\"Times,serif\" font-size=\"14.00\" fill=\"#000000\">no</text>\n</g>\n<!-- 41 -->\n<g id=\"node36\" class=\"node\">\n<title>41</title>\n<ellipse fill=\"none\" stroke=\"#000000\" cx=\"804.342\" cy=\"-192\" rx=\"79.8859\" ry=\"18\"/>\n<text text-anchor=\"middle\" x=\"804.342\" y=\"-188.3\" font-family=\"Times,serif\" font-size=\"14.00\" fill=\"#000000\">leaf=0.019119814</text>\n</g>\n<!-- 31&#45;&gt;41 -->\n<g id=\"edge35\" class=\"edge\">\n<title>31&#45;&gt;41</title>\n<path fill=\"none\" stroke=\"#0000ff\" d=\"M837.6396,-260.9735C831.8392,-248.9585 824.1062,-232.9401 817.5525,-219.3646\"/>\n<polygon fill=\"#0000ff\" stroke=\"#0000ff\" points=\"820.5327,-217.4872 813.0333,-210.0034 814.2289,-220.5305 820.5327,-217.4872\"/>\n<text text-anchor=\"middle\" x=\"863.842\" y=\"-231.8\" font-family=\"Times,serif\" font-size=\"14.00\" fill=\"#000000\">yes, missing</text>\n</g>\n<!-- 42 -->\n<g id=\"node37\" class=\"node\">\n<title>42</title>\n<ellipse fill=\"none\" stroke=\"#000000\" cx=\"990.342\" cy=\"-192\" rx=\"88.2844\" ry=\"18\"/>\n<text text-anchor=\"middle\" x=\"990.342\" y=\"-188.3\" font-family=\"Times,serif\" font-size=\"14.00\" fill=\"#000000\">leaf=&#45;0.0418651998</text>\n</g>\n<!-- 31&#45;&gt;42 -->\n<g id=\"edge36\" class=\"edge\">\n<title>31&#45;&gt;42</title>\n<path fill=\"none\" stroke=\"#ff0000\" d=\"M875.4825,-261.3943C897.8797,-247.8626 928.9766,-229.0749 953.1658,-214.4606\"/>\n<polygon fill=\"#ff0000\" stroke=\"#ff0000\" points=\"954.987,-217.4496 961.7362,-209.2827 951.3671,-211.4582 954.987,-217.4496\"/>\n<text text-anchor=\"middle\" x=\"935.342\" y=\"-231.8\" font-family=\"Times,serif\" font-size=\"14.00\" fill=\"#000000\">no</text>\n</g>\n<!-- 33 -->\n<g id=\"node40\" class=\"node\">\n<title>33</title>\n<ellipse fill=\"none\" stroke=\"#000000\" cx=\"1302.342\" cy=\"-279\" rx=\"85.2851\" ry=\"18\"/>\n<text text-anchor=\"middle\" x=\"1302.342\" y=\"-275.3\" font-family=\"Times,serif\" font-size=\"14.00\" fill=\"#000000\">leaf=0.0363581032</text>\n</g>\n<!-- 25&#45;&gt;33 -->\n<g id=\"edge39\" class=\"edge\">\n<title>25&#45;&gt;33</title>\n<path fill=\"none\" stroke=\"#0000ff\" d=\"M1478.8771,-348.8116C1442.3977,-334.3857 1390.2806,-313.7757 1352.1298,-298.6888\"/>\n<polygon fill=\"#0000ff\" stroke=\"#0000ff\" points=\"1353.3358,-295.4021 1342.7494,-294.9793 1350.7616,-301.9115 1353.3358,-295.4021\"/>\n<text text-anchor=\"middle\" x=\"1461.842\" y=\"-318.8\" font-family=\"Times,serif\" font-size=\"14.00\" fill=\"#000000\">yes, missing</text>\n</g>\n<!-- 34 -->\n<g id=\"node41\" class=\"node\">\n<title>34</title>\n<ellipse fill=\"none\" stroke=\"#000000\" cx=\"1545.342\" cy=\"-279\" rx=\"139.9756\" ry=\"18\"/>\n<text text-anchor=\"middle\" x=\"1545.342\" y=\"-275.3\" font-family=\"Times,serif\" font-size=\"14.00\" fill=\"#000000\">average_return_days&lt;8.47727203</text>\n</g>\n<!-- 25&#45;&gt;34 -->\n<g id=\"edge40\" class=\"edge\">\n<title>25&#45;&gt;34</title>\n<path fill=\"none\" stroke=\"#ff0000\" d=\"M1527.1076,-347.9735C1530.2532,-336.0751 1534.4366,-320.2508 1538.003,-306.7606\"/>\n<polygon fill=\"#ff0000\" stroke=\"#ff0000\" points=\"1541.4103,-307.5658 1540.5825,-297.0034 1534.6428,-305.7766 1541.4103,-307.5658\"/>\n<text text-anchor=\"middle\" x=\"1542.342\" y=\"-318.8\" font-family=\"Times,serif\" font-size=\"14.00\" fill=\"#000000\">no</text>\n</g>\n<!-- 35 -->\n<g id=\"node48\" class=\"node\">\n<title>35</title>\n<ellipse fill=\"none\" stroke=\"#000000\" cx=\"1797.342\" cy=\"-279\" rx=\"85.2851\" ry=\"18\"/>\n<text text-anchor=\"middle\" x=\"1797.342\" y=\"-275.3\" font-family=\"Times,serif\" font-size=\"14.00\" fill=\"#000000\">leaf=0.0405472331</text>\n</g>\n<!-- 26&#45;&gt;35 -->\n<g id=\"edge47\" class=\"edge\">\n<title>26&#45;&gt;35</title>\n<path fill=\"none\" stroke=\"#0000ff\" d=\"M1801.306,-347.9735C1800.6289,-336.1918 1799.7305,-320.5607 1798.9603,-307.1581\"/>\n<polygon fill=\"#0000ff\" stroke=\"#0000ff\" points=\"1802.4448,-306.786 1798.3767,-297.0034 1795.4563,-307.1877 1802.4448,-306.786\"/>\n<text text-anchor=\"middle\" x=\"1834.842\" y=\"-318.8\" font-family=\"Times,serif\" font-size=\"14.00\" fill=\"#000000\">yes, missing</text>\n</g>\n<!-- 36 -->\n<g id=\"node49\" class=\"node\">\n<title>36</title>\n<ellipse fill=\"none\" stroke=\"#000000\" cx=\"1989.342\" cy=\"-279\" rx=\"88.2844\" ry=\"18\"/>\n<text text-anchor=\"middle\" x=\"1989.342\" y=\"-275.3\" font-family=\"Times,serif\" font-size=\"14.00\" fill=\"#000000\">leaf=&#45;0.0192422122</text>\n</g>\n<!-- 26&#45;&gt;36 -->\n<g id=\"edge48\" class=\"edge\">\n<title>26&#45;&gt;36</title>\n<path fill=\"none\" stroke=\"#ff0000\" d=\"M1839.2872,-348.8116C1869.5129,-334.7493 1912.3691,-314.8109 1944.5476,-299.8402\"/>\n<polygon fill=\"#ff0000\" stroke=\"#ff0000\" points=\"1946.1519,-302.9541 1953.7423,-295.5624 1943.1991,-296.6073 1946.1519,-302.9541\"/>\n<text text-anchor=\"middle\" x=\"1914.342\" y=\"-318.8\" font-family=\"Times,serif\" font-size=\"14.00\" fill=\"#000000\">no</text>\n</g>\n<!-- 45 -->\n<g id=\"node42\" class=\"node\">\n<title>45</title>\n<ellipse fill=\"none\" stroke=\"#000000\" cx=\"1464.342\" cy=\"-192\" rx=\"87.9851\" ry=\"18\"/>\n<text text-anchor=\"middle\" x=\"1464.342\" y=\"-188.3\" font-family=\"Times,serif\" font-size=\"14.00\" fill=\"#000000\">leaf=&#45;0.0511215068</text>\n</g>\n<!-- 34&#45;&gt;45 -->\n<g id=\"edge41\" class=\"edge\">\n<title>34&#45;&gt;45</title>\n<path fill=\"none\" stroke=\"#0000ff\" d=\"M1528.5587,-260.9735C1516.7511,-248.2912 1500.7907,-231.1486 1487.7357,-217.1265\"/>\n<polygon fill=\"#0000ff\" stroke=\"#0000ff\" points=\"1490.2024,-214.6397 1480.8266,-209.7057 1485.0792,-219.4096 1490.2024,-214.6397\"/>\n<text text-anchor=\"middle\" x=\"1544.842\" y=\"-231.8\" font-family=\"Times,serif\" font-size=\"14.00\" fill=\"#000000\">yes, missing</text>\n</g>\n<!-- 46 -->\n<g id=\"node43\" class=\"node\">\n<title>46</title>\n<ellipse fill=\"none\" stroke=\"#000000\" cx=\"1692.342\" cy=\"-192\" rx=\"122.3786\" ry=\"18\"/>\n<text text-anchor=\"middle\" x=\"1692.342\" y=\"-188.3\" font-family=\"Times,serif\" font-size=\"14.00\" fill=\"#000000\">avg_call_replies&lt;4.64583302</text>\n</g>\n<!-- 34&#45;&gt;46 -->\n<g id=\"edge42\" class=\"edge\">\n<title>34&#45;&gt;46</title>\n<path fill=\"none\" stroke=\"#ff0000\" d=\"M1575.0896,-261.3943C1597.804,-247.9511 1629.2835,-229.3203 1653.9062,-214.7477\"/>\n<polygon fill=\"#ff0000\" stroke=\"#ff0000\" points=\"1655.8154,-217.6848 1662.6386,-209.5796 1652.2502,-211.6608 1655.8154,-217.6848\"/>\n<text text-anchor=\"middle\" x=\"1635.342\" y=\"-231.8\" font-family=\"Times,serif\" font-size=\"14.00\" fill=\"#000000\">no</text>\n</g>\n<!-- 57 -->\n<g id=\"node44\" class=\"node\">\n<title>57</title>\n<ellipse fill=\"none\" stroke=\"#000000\" cx=\"1612.342\" cy=\"-105\" rx=\"88.2844\" ry=\"18\"/>\n<text text-anchor=\"middle\" x=\"1612.342\" y=\"-101.3\" font-family=\"Times,serif\" font-size=\"14.00\" fill=\"#000000\">leaf=&#45;0.0333200879</text>\n</g>\n<!-- 46&#45;&gt;57 -->\n<g id=\"edge43\" class=\"edge\">\n<title>46&#45;&gt;57</title>\n<path fill=\"none\" stroke=\"#0000ff\" d=\"M1675.7659,-173.9735C1664.104,-161.2912 1648.3407,-144.1486 1635.4469,-130.1265\"/>\n<polygon fill=\"#0000ff\" stroke=\"#0000ff\" points=\"1637.9682,-127.6976 1628.6231,-122.7057 1632.8155,-132.4358 1637.9682,-127.6976\"/>\n<text text-anchor=\"middle\" x=\"1691.842\" y=\"-144.8\" font-family=\"Times,serif\" font-size=\"14.00\" fill=\"#000000\">yes, missing</text>\n</g>\n<!-- 58 -->\n<g id=\"node45\" class=\"node\">\n<title>58</title>\n<ellipse fill=\"none\" stroke=\"#000000\" cx=\"1836.342\" cy=\"-105\" rx=\"117.7793\" ry=\"18\"/>\n<text text-anchor=\"middle\" x=\"1836.342\" y=\"-101.3\" font-family=\"Times,serif\" font-size=\"14.00\" fill=\"#000000\">avg_call_replies&lt;5.1833334</text>\n</g>\n<!-- 46&#45;&gt;58 -->\n<g id=\"edge44\" class=\"edge\">\n<title>46&#45;&gt;58</title>\n<path fill=\"none\" stroke=\"#ff0000\" d=\"M1721.4825,-174.3943C1743.6357,-161.01 1774.3001,-142.4836 1798.3729,-127.9397\"/>\n<polygon fill=\"#ff0000\" stroke=\"#ff0000\" points=\"1800.4955,-130.7465 1807.2448,-122.5796 1796.8757,-124.7551 1800.4955,-130.7465\"/>\n<text text-anchor=\"middle\" x=\"1780.342\" y=\"-144.8\" font-family=\"Times,serif\" font-size=\"14.00\" fill=\"#000000\">no</text>\n</g>\n<!-- 69 -->\n<g id=\"node46\" class=\"node\">\n<title>69</title>\n<ellipse fill=\"none\" stroke=\"#000000\" cx=\"1742.342\" cy=\"-18\" rx=\"80.6858\" ry=\"18\"/>\n<text text-anchor=\"middle\" x=\"1742.342\" y=\"-14.3\" font-family=\"Times,serif\" font-size=\"14.00\" fill=\"#000000\">leaf=0.068516545</text>\n</g>\n<!-- 58&#45;&gt;69 -->\n<g id=\"edge45\" class=\"edge\">\n<title>58&#45;&gt;69</title>\n<path fill=\"none\" stroke=\"#0000ff\" d=\"M1816.8651,-86.9735C1803.0355,-74.1738 1784.2971,-56.8308 1769.0702,-42.7379\"/>\n<polygon fill=\"#0000ff\" stroke=\"#0000ff\" points=\"1771.1887,-39.9296 1761.4723,-35.7057 1766.434,-45.0669 1771.1887,-39.9296\"/>\n<text text-anchor=\"middle\" x=\"1829.842\" y=\"-57.8\" font-family=\"Times,serif\" font-size=\"14.00\" fill=\"#000000\">yes, missing</text>\n</g>\n<!-- 70 -->\n<g id=\"node47\" class=\"node\">\n<title>70</title>\n<ellipse fill=\"none\" stroke=\"#000000\" cx=\"1929.342\" cy=\"-18\" rx=\"88.2844\" ry=\"18\"/>\n<text text-anchor=\"middle\" x=\"1929.342\" y=\"-14.3\" font-family=\"Times,serif\" font-size=\"14.00\" fill=\"#000000\">leaf=&#45;0.0172062758</text>\n</g>\n<!-- 58&#45;&gt;70 -->\n<g id=\"edge46\" class=\"edge\">\n<title>58&#45;&gt;70</title>\n<path fill=\"none\" stroke=\"#ff0000\" d=\"M1855.6116,-86.9735C1869.2941,-74.1738 1887.8332,-56.8308 1902.8981,-42.7379\"/>\n<polygon fill=\"#ff0000\" stroke=\"#ff0000\" points=\"1905.5035,-45.0933 1910.4152,-35.7057 1900.7214,-39.9813 1905.5035,-45.0933\"/>\n<text text-anchor=\"middle\" x=\"1896.342\" y=\"-57.8\" font-family=\"Times,serif\" font-size=\"14.00\" fill=\"#000000\">no</text>\n</g>\n</g>\n</svg>\n"
          },
          "metadata": {
            "tags": []
          },
          "execution_count": 350
        }
      ]
    },
    {
      "cell_type": "code",
      "metadata": {
        "id": "m6rdWnGgOe-s",
        "outputId": "87600d74-2562-474a-93a1-2a3ee15bc025",
        "colab": {
          "base_uri": "https://localhost:8080/",
          "height": 313
        }
      },
      "source": [
        "xgboost.plot_importance(classifier_xgb)"
      ],
      "execution_count": 351,
      "outputs": [
        {
          "output_type": "execute_result",
          "data": {
            "text/plain": [
              "<matplotlib.axes._subplots.AxesSubplot at 0x7f952684edd8>"
            ]
          },
          "metadata": {
            "tags": []
          },
          "execution_count": 351
        },
        {
          "output_type": "display_data",
          "data": {
            "image/png": "[encoded data removed]",
            "text/plain": [
              "<Figure size 432x288 with 1 Axes>"
            ]
          },
          "metadata": {
            "tags": [],
            "needs_background": "light"
          }
        }
      ]
    },
    {
      "cell_type": "markdown",
      "metadata": {
        "id": "aYTJixO6PJw4"
      },
      "source": [
        "## By Using SHAP values "
      ]
    },
    {
      "cell_type": "code",
      "metadata": {
        "id": "idJbfWYePVC5",
        "outputId": "cd249b2b-7a37-4deb-ad29-3271a1fdc48c",
        "colab": {
          "base_uri": "https://localhost:8080/",
          "height": 263
        }
      },
      "source": [
        "pip install shap"
      ],
      "execution_count": 345,
      "outputs": [
        {
          "output_type": "stream",
          "text": [
            "Requirement already satisfied: shap in /usr/local/lib/python3.6/dist-packages (0.36.0)\n",
            "Requirement already satisfied: slicer in /usr/local/lib/python3.6/dist-packages (from shap) (0.0.4)\n",
            "Requirement already satisfied: tqdm>4.25.0 in /usr/local/lib/python3.6/dist-packages (from shap) (4.41.1)\n",
            "Requirement already satisfied: numpy in /usr/local/lib/python3.6/dist-packages (from shap) (1.18.5)\n",
            "Requirement already satisfied: numba in /usr/local/lib/python3.6/dist-packages (from shap) (0.48.0)\n",
            "Requirement already satisfied: scipy in /usr/local/lib/python3.6/dist-packages (from shap) (1.4.1)\n",
            "Requirement already satisfied: scikit-learn in /usr/local/lib/python3.6/dist-packages (from shap) (0.22.2.post1)\n",
            "Requirement already satisfied: pandas in /usr/local/lib/python3.6/dist-packages (from shap) (1.1.3)\n",
            "Requirement already satisfied: setuptools in /usr/local/lib/python3.6/dist-packages (from numba->shap) (50.3.0)\n",
            "Requirement already satisfied: llvmlite<0.32.0,>=0.31.0dev0 in /usr/local/lib/python3.6/dist-packages (from numba->shap) (0.31.0)\n",
            "Requirement already satisfied: joblib>=0.11 in /usr/local/lib/python3.6/dist-packages (from scikit-learn->shap) (0.17.0)\n",
            "Requirement already satisfied: pytz>=2017.2 in /usr/local/lib/python3.6/dist-packages (from pandas->shap) (2018.9)\n",
            "Requirement already satisfied: python-dateutil>=2.7.3 in /usr/local/lib/python3.6/dist-packages (from pandas->shap) (2.8.1)\n",
            "Requirement already satisfied: six>=1.5 in /usr/local/lib/python3.6/dist-packages (from python-dateutil>=2.7.3->pandas->shap) (1.15.0)\n"
          ],
          "name": "stdout"
        }
      ]
    },
    {
      "cell_type": "code",
      "metadata": {
        "id": "7ssAQRHcPLsX"
      },
      "source": [
        "import shap"
      ],
      "execution_count": 346,
      "outputs": []
    },
    {
      "cell_type": "code",
      "metadata": {
        "id": "JGYFAICvPWJh",
        "outputId": "6d83d797-ed67-4e86-d506-84dda4a579c0",
        "colab": {
          "base_uri": "https://localhost:8080/",
          "height": 262
        }
      },
      "source": [
        "explainer = shap.TreeExplainer(classifier_xgb)\n",
        "shap_values = explainer.shap_values(X_test)\n",
        "\n",
        "shap.force_plot(explainer.expected_value, shap_values[0,:], X_test.iloc[0,:],matplotlib=True)"
      ],
      "execution_count": 352,
      "outputs": [
        {
          "output_type": "display_data",
          "data": {
            "image/png": "[encoded data removed]",
            "text/plain": [
              "<Figure size 1440x216 with 1 Axes>"
            ]
          },
          "metadata": {
            "tags": [],
            "needs_background": "light"
          }
        }
      ]
    },
    {
      "cell_type": "code",
      "metadata": {
        "id": "lcYtz9kYM7AR",
        "outputId": "30860c77-4166-4e06-ad5e-879022382ebe",
        "colab": {
          "base_uri": "https://localhost:8080/",
          "height": 390
        }
      },
      "source": [
        "shap.summary_plot(shap_values, X_test)"
      ],
      "execution_count": 353,
      "outputs": [
        {
          "output_type": "display_data",
          "data": {
            "image/png": "[encoded data removed]",
            "text/plain": [
              "<Figure size 576x424.8 with 2 Axes>"
            ]
          },
          "metadata": {
            "tags": [],
            "needs_background": "light"
          }
        }
      ]
    },
    {
      "cell_type": "markdown",
      "metadata": {
        "id": "UttghX-V73Cw"
      },
      "source": [
        "Now the concluding remarks from this are:\n",
        "\n",
        "\n",
        "1.   Customer which has been a member from long time will continue, while the new customer are likely to leave\n",
        "2.   The impact of the ads is coming out to opposite of what they were meant for\n",
        "3.   This same scenario is with the email and calls\n",
        "4.   SMS replies seems to be better option among emails, calls and ads\n",
        "\n",
        "\n"
      ]
    },
    {
      "cell_type": "markdown",
      "metadata": {
        "id": "TLQX2eRT52fh"
      },
      "source": [
        "# 2. Using Deep Learning (Pytorch)"
      ]
    },
    {
      "cell_type": "markdown",
      "metadata": {
        "id": "ij12cOXe3gP0"
      },
      "source": [
        "## Preprocessing the Data"
      ]
    },
    {
      "cell_type": "code",
      "metadata": {
        "id": "PuZGXCDnM4fZ",
        "outputId": "2f603274-1e2c-4098-e1b6-ecb4484856a3",
        "colab": {
          "base_uri": "https://localhost:8080/",
          "height": 0
        }
      },
      "source": [
        "dataset = df[features]\n",
        "dataset['target'] = df['target']\n",
        "dataset"
      ],
      "execution_count": 118,
      "outputs": [
        {
          "output_type": "stream",
          "text": [
            "/usr/local/lib/python3.6/dist-packages/ipykernel_launcher.py:2: SettingWithCopyWarning: \n",
            "A value is trying to be set on a copy of a slice from a DataFrame.\n",
            "Try using .loc[row_indexer,col_indexer] = value instead\n",
            "\n",
            "See the caveats in the documentation: https://pandas.pydata.org/pandas-docs/stable/user_guide/indexing.html#returning-a-view-versus-a-copy\n",
            "  \n"
          ],
          "name": "stderr"
        },
        {
          "output_type": "execute_result",
          "data": {
            "text/html": [
              "<div>\n",
              "<style scoped>\n",
              "    .dataframe tbody tr th:only-of-type {\n",
              "        vertical-align: middle;\n",
              "    }\n",
              "\n",
              "    .dataframe tbody tr th {\n",
              "        vertical-align: top;\n",
              "    }\n",
              "\n",
              "    .dataframe thead th {\n",
              "        text-align: right;\n",
              "    }\n",
              "</style>\n",
              "<table border=\"1\" class=\"dataframe\">\n",
              "  <thead>\n",
              "    <tr style=\"text-align: right;\">\n",
              "      <th></th>\n",
              "      <th>average_return_days</th>\n",
              "      <th>customer_since_months</th>\n",
              "      <th>average_revenue</th>\n",
              "      <th>avg_used_vas_value</th>\n",
              "      <th>business_type</th>\n",
              "      <th>avg_wallet_bonus</th>\n",
              "      <th>avg_active_ads</th>\n",
              "      <th>avg_new_ads</th>\n",
              "      <th>avg_email_replies</th>\n",
              "      <th>avg_call_replies</th>\n",
              "      <th>avg_sms_replies</th>\n",
              "      <th>target</th>\n",
              "    </tr>\n",
              "  </thead>\n",
              "  <tbody>\n",
              "    <tr>\n",
              "      <th>0</th>\n",
              "      <td>1.500000</td>\n",
              "      <td>14</td>\n",
              "      <td>0.0</td>\n",
              "      <td>66.666667</td>\n",
              "      <td>0</td>\n",
              "      <td>300.0</td>\n",
              "      <td>79.333333</td>\n",
              "      <td>15.250000</td>\n",
              "      <td>32.416667</td>\n",
              "      <td>27.916667</td>\n",
              "      <td>0.250000</td>\n",
              "      <td>0</td>\n",
              "    </tr>\n",
              "    <tr>\n",
              "      <th>1</th>\n",
              "      <td>8.200000</td>\n",
              "      <td>10</td>\n",
              "      <td>0.0</td>\n",
              "      <td>114.000000</td>\n",
              "      <td>0</td>\n",
              "      <td>0.0</td>\n",
              "      <td>232.100000</td>\n",
              "      <td>18.300000</td>\n",
              "      <td>16.200000</td>\n",
              "      <td>13.800000</td>\n",
              "      <td>0.000000</td>\n",
              "      <td>0</td>\n",
              "    </tr>\n",
              "    <tr>\n",
              "      <th>2</th>\n",
              "      <td>1.533333</td>\n",
              "      <td>15</td>\n",
              "      <td>0.0</td>\n",
              "      <td>106.666667</td>\n",
              "      <td>0</td>\n",
              "      <td>150.0</td>\n",
              "      <td>55.083333</td>\n",
              "      <td>3.750000</td>\n",
              "      <td>20.250000</td>\n",
              "      <td>24.500000</td>\n",
              "      <td>0.000000</td>\n",
              "      <td>0</td>\n",
              "    </tr>\n",
              "    <tr>\n",
              "      <th>3</th>\n",
              "      <td>1.000000</td>\n",
              "      <td>14</td>\n",
              "      <td>0.0</td>\n",
              "      <td>176.153846</td>\n",
              "      <td>0</td>\n",
              "      <td>1481.0</td>\n",
              "      <td>409.538462</td>\n",
              "      <td>80.769231</td>\n",
              "      <td>87.461538</td>\n",
              "      <td>57.615385</td>\n",
              "      <td>0.000000</td>\n",
              "      <td>1</td>\n",
              "    </tr>\n",
              "    <tr>\n",
              "      <th>4</th>\n",
              "      <td>1.000000</td>\n",
              "      <td>18</td>\n",
              "      <td>0.0</td>\n",
              "      <td>109.230769</td>\n",
              "      <td>0</td>\n",
              "      <td>41.5</td>\n",
              "      <td>48.230769</td>\n",
              "      <td>1.692308</td>\n",
              "      <td>17.461538</td>\n",
              "      <td>25.769231</td>\n",
              "      <td>0.230769</td>\n",
              "      <td>0</td>\n",
              "    </tr>\n",
              "    <tr>\n",
              "      <th>...</th>\n",
              "      <td>...</td>\n",
              "      <td>...</td>\n",
              "      <td>...</td>\n",
              "      <td>...</td>\n",
              "      <td>...</td>\n",
              "      <td>...</td>\n",
              "      <td>...</td>\n",
              "      <td>...</td>\n",
              "      <td>...</td>\n",
              "      <td>...</td>\n",
              "      <td>...</td>\n",
              "      <td>...</td>\n",
              "    </tr>\n",
              "    <tr>\n",
              "      <th>4401</th>\n",
              "      <td>1.000000</td>\n",
              "      <td>1</td>\n",
              "      <td>0.0</td>\n",
              "      <td>0.000000</td>\n",
              "      <td>4</td>\n",
              "      <td>0.0</td>\n",
              "      <td>0.000000</td>\n",
              "      <td>0.000000</td>\n",
              "      <td>0.000000</td>\n",
              "      <td>0.000000</td>\n",
              "      <td>0.000000</td>\n",
              "      <td>0</td>\n",
              "    </tr>\n",
              "    <tr>\n",
              "      <th>4402</th>\n",
              "      <td>1.000000</td>\n",
              "      <td>4</td>\n",
              "      <td>0.0</td>\n",
              "      <td>0.000000</td>\n",
              "      <td>3</td>\n",
              "      <td>0.0</td>\n",
              "      <td>4.666667</td>\n",
              "      <td>2.000000</td>\n",
              "      <td>9.666667</td>\n",
              "      <td>14.666667</td>\n",
              "      <td>0.333333</td>\n",
              "      <td>0</td>\n",
              "    </tr>\n",
              "    <tr>\n",
              "      <th>4403</th>\n",
              "      <td>1.000000</td>\n",
              "      <td>2</td>\n",
              "      <td>0.0</td>\n",
              "      <td>0.000000</td>\n",
              "      <td>4</td>\n",
              "      <td>0.0</td>\n",
              "      <td>153.000000</td>\n",
              "      <td>76.500000</td>\n",
              "      <td>9.000000</td>\n",
              "      <td>11.500000</td>\n",
              "      <td>0.000000</td>\n",
              "      <td>0</td>\n",
              "    </tr>\n",
              "    <tr>\n",
              "      <th>4404</th>\n",
              "      <td>1.000000</td>\n",
              "      <td>2</td>\n",
              "      <td>0.0</td>\n",
              "      <td>0.000000</td>\n",
              "      <td>1</td>\n",
              "      <td>0.0</td>\n",
              "      <td>0.000000</td>\n",
              "      <td>0.000000</td>\n",
              "      <td>0.000000</td>\n",
              "      <td>0.000000</td>\n",
              "      <td>0.000000</td>\n",
              "      <td>0</td>\n",
              "    </tr>\n",
              "    <tr>\n",
              "      <th>4406</th>\n",
              "      <td>1.000000</td>\n",
              "      <td>4</td>\n",
              "      <td>0.0</td>\n",
              "      <td>0.000000</td>\n",
              "      <td>0</td>\n",
              "      <td>240.0</td>\n",
              "      <td>1.000000</td>\n",
              "      <td>1.000000</td>\n",
              "      <td>0.000000</td>\n",
              "      <td>0.000000</td>\n",
              "      <td>0.000000</td>\n",
              "      <td>0</td>\n",
              "    </tr>\n",
              "  </tbody>\n",
              "</table>\n",
              "<p>3943 rows × 12 columns</p>\n",
              "</div>"
            ],
            "text/plain": [
              "      average_return_days  customer_since_months  ...  avg_sms_replies  target\n",
              "0                1.500000                     14  ...         0.250000       0\n",
              "1                8.200000                     10  ...         0.000000       0\n",
              "2                1.533333                     15  ...         0.000000       0\n",
              "3                1.000000                     14  ...         0.000000       1\n",
              "4                1.000000                     18  ...         0.230769       0\n",
              "...                   ...                    ...  ...              ...     ...\n",
              "4401             1.000000                      1  ...         0.000000       0\n",
              "4402             1.000000                      4  ...         0.333333       0\n",
              "4403             1.000000                      2  ...         0.000000       0\n",
              "4404             1.000000                      2  ...         0.000000       0\n",
              "4406             1.000000                      4  ...         0.000000       0\n",
              "\n",
              "[3943 rows x 12 columns]"
            ]
          },
          "metadata": {
            "tags": []
          },
          "execution_count": 118
        }
      ]
    },
    {
      "cell_type": "code",
      "metadata": {
        "id": "fWIl50433gAc"
      },
      "source": [
        "from sklearn.preprocessing import MinMaxScaler"
      ],
      "execution_count": 119,
      "outputs": []
    },
    {
      "cell_type": "code",
      "metadata": {
        "id": "OM1-z49L36tA"
      },
      "source": [
        "def normalize(df,features):\n",
        "  mms = MinMaxScaler(feature_range=(-1,1))\n",
        "  data = pd.DataFrame(data = df[features], columns=features)\n",
        "  data[features] = mms.fit_transform(data[features])\n",
        "  return data"
      ],
      "execution_count": 120,
      "outputs": []
    },
    {
      "cell_type": "code",
      "metadata": {
        "id": "1iI_xRev4PsC",
        "outputId": "4051305c-4049-45d8-e2e5-aee43181b86a",
        "colab": {
          "base_uri": "https://localhost:8080/",
          "height": 0
        }
      },
      "source": [
        "data = normalize(dataset,features)\n",
        "data.head()"
      ],
      "execution_count": 121,
      "outputs": [
        {
          "output_type": "execute_result",
          "data": {
            "text/html": [
              "<div>\n",
              "<style scoped>\n",
              "    .dataframe tbody tr th:only-of-type {\n",
              "        vertical-align: middle;\n",
              "    }\n",
              "\n",
              "    .dataframe tbody tr th {\n",
              "        vertical-align: top;\n",
              "    }\n",
              "\n",
              "    .dataframe thead th {\n",
              "        text-align: right;\n",
              "    }\n",
              "</style>\n",
              "<table border=\"1\" class=\"dataframe\">\n",
              "  <thead>\n",
              "    <tr style=\"text-align: right;\">\n",
              "      <th></th>\n",
              "      <th>average_return_days</th>\n",
              "      <th>customer_since_months</th>\n",
              "      <th>average_revenue</th>\n",
              "      <th>avg_used_vas_value</th>\n",
              "      <th>business_type</th>\n",
              "      <th>avg_wallet_bonus</th>\n",
              "      <th>avg_active_ads</th>\n",
              "      <th>avg_new_ads</th>\n",
              "      <th>avg_email_replies</th>\n",
              "      <th>avg_call_replies</th>\n",
              "      <th>avg_sms_replies</th>\n",
              "    </tr>\n",
              "  </thead>\n",
              "  <tbody>\n",
              "    <tr>\n",
              "      <th>0</th>\n",
              "      <td>-0.941691</td>\n",
              "      <td>0.130435</td>\n",
              "      <td>-1.0</td>\n",
              "      <td>-0.814815</td>\n",
              "      <td>-1.0</td>\n",
              "      <td>-0.682827</td>\n",
              "      <td>-0.911269</td>\n",
              "      <td>-0.806349</td>\n",
              "      <td>-0.549046</td>\n",
              "      <td>-0.715471</td>\n",
              "      <td>-0.888889</td>\n",
              "    </tr>\n",
              "    <tr>\n",
              "      <th>1</th>\n",
              "      <td>-0.551020</td>\n",
              "      <td>-0.217391</td>\n",
              "      <td>-1.0</td>\n",
              "      <td>-0.683333</td>\n",
              "      <td>-1.0</td>\n",
              "      <td>-1.000000</td>\n",
              "      <td>-0.740407</td>\n",
              "      <td>-0.767619</td>\n",
              "      <td>-0.774639</td>\n",
              "      <td>-0.859349</td>\n",
              "      <td>-1.000000</td>\n",
              "    </tr>\n",
              "    <tr>\n",
              "      <th>2</th>\n",
              "      <td>-0.939747</td>\n",
              "      <td>0.217391</td>\n",
              "      <td>-1.0</td>\n",
              "      <td>-0.703704</td>\n",
              "      <td>-1.0</td>\n",
              "      <td>-0.841413</td>\n",
              "      <td>-0.938392</td>\n",
              "      <td>-0.952381</td>\n",
              "      <td>-0.718299</td>\n",
              "      <td>-0.750294</td>\n",
              "      <td>-1.000000</td>\n",
              "    </tr>\n",
              "    <tr>\n",
              "      <th>3</th>\n",
              "      <td>-0.970845</td>\n",
              "      <td>0.130435</td>\n",
              "      <td>-1.0</td>\n",
              "      <td>-0.510684</td>\n",
              "      <td>-1.0</td>\n",
              "      <td>0.565779</td>\n",
              "      <td>-0.541950</td>\n",
              "      <td>0.025641</td>\n",
              "      <td>0.216693</td>\n",
              "      <td>-0.412779</td>\n",
              "      <td>-1.000000</td>\n",
              "    </tr>\n",
              "    <tr>\n",
              "      <th>4</th>\n",
              "      <td>-0.970845</td>\n",
              "      <td>0.478261</td>\n",
              "      <td>-1.0</td>\n",
              "      <td>-0.696581</td>\n",
              "      <td>-1.0</td>\n",
              "      <td>-0.956124</td>\n",
              "      <td>-0.946056</td>\n",
              "      <td>-0.978510</td>\n",
              "      <td>-0.757089</td>\n",
              "      <td>-0.737358</td>\n",
              "      <td>-0.897436</td>\n",
              "    </tr>\n",
              "  </tbody>\n",
              "</table>\n",
              "</div>"
            ],
            "text/plain": [
              "   average_return_days  ...  avg_sms_replies\n",
              "0            -0.941691  ...        -0.888889\n",
              "1            -0.551020  ...        -1.000000\n",
              "2            -0.939747  ...        -1.000000\n",
              "3            -0.970845  ...        -1.000000\n",
              "4            -0.970845  ...        -0.897436\n",
              "\n",
              "[5 rows x 11 columns]"
            ]
          },
          "metadata": {
            "tags": []
          },
          "execution_count": 121
        }
      ]
    },
    {
      "cell_type": "code",
      "metadata": {
        "id": "FGS3jSCZymR1",
        "outputId": "e464c33d-cec4-43f5-dc1b-7f3b016e06b5",
        "colab": {
          "base_uri": "https://localhost:8080/",
          "height": 0
        }
      },
      "source": [
        "description(data)"
      ],
      "execution_count": 122,
      "outputs": [
        {
          "output_type": "stream",
          "text": [
            "Unique values for  average_return_days  :  755\n",
            "Unique values for  customer_since_months  :  22\n",
            "Unique values for  average_revenue  :  431\n",
            "Unique values for  avg_used_vas_value  :  939\n",
            "Unique values for  business_type  :  6\n",
            "Unique values for  avg_wallet_bonus  :  797\n",
            "Unique values for  avg_active_ads  :  2491\n",
            "Unique values for  avg_new_ads  :  1262\n",
            "Unique values for  avg_email_replies  :  1707\n",
            "Unique values for  avg_call_replies  :  1755\n",
            "Unique values for  avg_sms_replies  :  98\n"
          ],
          "name": "stdout"
        }
      ]
    },
    {
      "cell_type": "code",
      "metadata": {
        "id": "kWdlvgKVnEBS",
        "outputId": "9cee18fd-921b-429a-9312-4259fbac3471",
        "colab": {
          "base_uri": "https://localhost:8080/",
          "height": 0
        }
      },
      "source": [
        "data['target']= df['target']\n",
        "data.head()"
      ],
      "execution_count": 123,
      "outputs": [
        {
          "output_type": "execute_result",
          "data": {
            "text/html": [
              "<div>\n",
              "<style scoped>\n",
              "    .dataframe tbody tr th:only-of-type {\n",
              "        vertical-align: middle;\n",
              "    }\n",
              "\n",
              "    .dataframe tbody tr th {\n",
              "        vertical-align: top;\n",
              "    }\n",
              "\n",
              "    .dataframe thead th {\n",
              "        text-align: right;\n",
              "    }\n",
              "</style>\n",
              "<table border=\"1\" class=\"dataframe\">\n",
              "  <thead>\n",
              "    <tr style=\"text-align: right;\">\n",
              "      <th></th>\n",
              "      <th>average_return_days</th>\n",
              "      <th>customer_since_months</th>\n",
              "      <th>average_revenue</th>\n",
              "      <th>avg_used_vas_value</th>\n",
              "      <th>business_type</th>\n",
              "      <th>avg_wallet_bonus</th>\n",
              "      <th>avg_active_ads</th>\n",
              "      <th>avg_new_ads</th>\n",
              "      <th>avg_email_replies</th>\n",
              "      <th>avg_call_replies</th>\n",
              "      <th>avg_sms_replies</th>\n",
              "      <th>target</th>\n",
              "    </tr>\n",
              "  </thead>\n",
              "  <tbody>\n",
              "    <tr>\n",
              "      <th>0</th>\n",
              "      <td>-0.941691</td>\n",
              "      <td>0.130435</td>\n",
              "      <td>-1.0</td>\n",
              "      <td>-0.814815</td>\n",
              "      <td>-1.0</td>\n",
              "      <td>-0.682827</td>\n",
              "      <td>-0.911269</td>\n",
              "      <td>-0.806349</td>\n",
              "      <td>-0.549046</td>\n",
              "      <td>-0.715471</td>\n",
              "      <td>-0.888889</td>\n",
              "      <td>0</td>\n",
              "    </tr>\n",
              "    <tr>\n",
              "      <th>1</th>\n",
              "      <td>-0.551020</td>\n",
              "      <td>-0.217391</td>\n",
              "      <td>-1.0</td>\n",
              "      <td>-0.683333</td>\n",
              "      <td>-1.0</td>\n",
              "      <td>-1.000000</td>\n",
              "      <td>-0.740407</td>\n",
              "      <td>-0.767619</td>\n",
              "      <td>-0.774639</td>\n",
              "      <td>-0.859349</td>\n",
              "      <td>-1.000000</td>\n",
              "      <td>0</td>\n",
              "    </tr>\n",
              "    <tr>\n",
              "      <th>2</th>\n",
              "      <td>-0.939747</td>\n",
              "      <td>0.217391</td>\n",
              "      <td>-1.0</td>\n",
              "      <td>-0.703704</td>\n",
              "      <td>-1.0</td>\n",
              "      <td>-0.841413</td>\n",
              "      <td>-0.938392</td>\n",
              "      <td>-0.952381</td>\n",
              "      <td>-0.718299</td>\n",
              "      <td>-0.750294</td>\n",
              "      <td>-1.000000</td>\n",
              "      <td>0</td>\n",
              "    </tr>\n",
              "    <tr>\n",
              "      <th>3</th>\n",
              "      <td>-0.970845</td>\n",
              "      <td>0.130435</td>\n",
              "      <td>-1.0</td>\n",
              "      <td>-0.510684</td>\n",
              "      <td>-1.0</td>\n",
              "      <td>0.565779</td>\n",
              "      <td>-0.541950</td>\n",
              "      <td>0.025641</td>\n",
              "      <td>0.216693</td>\n",
              "      <td>-0.412779</td>\n",
              "      <td>-1.000000</td>\n",
              "      <td>1</td>\n",
              "    </tr>\n",
              "    <tr>\n",
              "      <th>4</th>\n",
              "      <td>-0.970845</td>\n",
              "      <td>0.478261</td>\n",
              "      <td>-1.0</td>\n",
              "      <td>-0.696581</td>\n",
              "      <td>-1.0</td>\n",
              "      <td>-0.956124</td>\n",
              "      <td>-0.946056</td>\n",
              "      <td>-0.978510</td>\n",
              "      <td>-0.757089</td>\n",
              "      <td>-0.737358</td>\n",
              "      <td>-0.897436</td>\n",
              "      <td>0</td>\n",
              "    </tr>\n",
              "  </tbody>\n",
              "</table>\n",
              "</div>"
            ],
            "text/plain": [
              "   average_return_days  customer_since_months  ...  avg_sms_replies  target\n",
              "0            -0.941691               0.130435  ...        -0.888889       0\n",
              "1            -0.551020              -0.217391  ...        -1.000000       0\n",
              "2            -0.939747               0.217391  ...        -1.000000       0\n",
              "3            -0.970845               0.130435  ...        -1.000000       1\n",
              "4            -0.970845               0.478261  ...        -0.897436       0\n",
              "\n",
              "[5 rows x 12 columns]"
            ]
          },
          "metadata": {
            "tags": []
          },
          "execution_count": 123
        }
      ]
    },
    {
      "cell_type": "markdown",
      "metadata": {
        "id": "v5vsPs4gHU_o"
      },
      "source": [
        "## Spliting the Data"
      ]
    },
    {
      "cell_type": "code",
      "metadata": {
        "id": "PZDeyhtcHU_p"
      },
      "source": [
        "from sklearn.model_selection import train_test_split"
      ],
      "execution_count": 124,
      "outputs": []
    },
    {
      "cell_type": "code",
      "metadata": {
        "id": "4KXT4JtiHU_s",
        "outputId": "01714672-998c-4d2d-ea1c-50ff57f06573",
        "colab": {
          "base_uri": "https://localhost:8080/",
          "height": 0
        }
      },
      "source": [
        "dataset = data[features]\n",
        "dataset['target'] = data['target']\n",
        "dataset"
      ],
      "execution_count": 125,
      "outputs": [
        {
          "output_type": "execute_result",
          "data": {
            "text/html": [
              "<div>\n",
              "<style scoped>\n",
              "    .dataframe tbody tr th:only-of-type {\n",
              "        vertical-align: middle;\n",
              "    }\n",
              "\n",
              "    .dataframe tbody tr th {\n",
              "        vertical-align: top;\n",
              "    }\n",
              "\n",
              "    .dataframe thead th {\n",
              "        text-align: right;\n",
              "    }\n",
              "</style>\n",
              "<table border=\"1\" class=\"dataframe\">\n",
              "  <thead>\n",
              "    <tr style=\"text-align: right;\">\n",
              "      <th></th>\n",
              "      <th>average_return_days</th>\n",
              "      <th>customer_since_months</th>\n",
              "      <th>average_revenue</th>\n",
              "      <th>avg_used_vas_value</th>\n",
              "      <th>business_type</th>\n",
              "      <th>avg_wallet_bonus</th>\n",
              "      <th>avg_active_ads</th>\n",
              "      <th>avg_new_ads</th>\n",
              "      <th>avg_email_replies</th>\n",
              "      <th>avg_call_replies</th>\n",
              "      <th>avg_sms_replies</th>\n",
              "      <th>target</th>\n",
              "    </tr>\n",
              "  </thead>\n",
              "  <tbody>\n",
              "    <tr>\n",
              "      <th>0</th>\n",
              "      <td>-0.941691</td>\n",
              "      <td>0.130435</td>\n",
              "      <td>-1.0</td>\n",
              "      <td>-0.814815</td>\n",
              "      <td>-1.0</td>\n",
              "      <td>-0.682827</td>\n",
              "      <td>-0.911269</td>\n",
              "      <td>-0.806349</td>\n",
              "      <td>-0.549046</td>\n",
              "      <td>-0.715471</td>\n",
              "      <td>-0.888889</td>\n",
              "      <td>0</td>\n",
              "    </tr>\n",
              "    <tr>\n",
              "      <th>1</th>\n",
              "      <td>-0.551020</td>\n",
              "      <td>-0.217391</td>\n",
              "      <td>-1.0</td>\n",
              "      <td>-0.683333</td>\n",
              "      <td>-1.0</td>\n",
              "      <td>-1.000000</td>\n",
              "      <td>-0.740407</td>\n",
              "      <td>-0.767619</td>\n",
              "      <td>-0.774639</td>\n",
              "      <td>-0.859349</td>\n",
              "      <td>-1.000000</td>\n",
              "      <td>0</td>\n",
              "    </tr>\n",
              "    <tr>\n",
              "      <th>2</th>\n",
              "      <td>-0.939747</td>\n",
              "      <td>0.217391</td>\n",
              "      <td>-1.0</td>\n",
              "      <td>-0.703704</td>\n",
              "      <td>-1.0</td>\n",
              "      <td>-0.841413</td>\n",
              "      <td>-0.938392</td>\n",
              "      <td>-0.952381</td>\n",
              "      <td>-0.718299</td>\n",
              "      <td>-0.750294</td>\n",
              "      <td>-1.000000</td>\n",
              "      <td>0</td>\n",
              "    </tr>\n",
              "    <tr>\n",
              "      <th>3</th>\n",
              "      <td>-0.970845</td>\n",
              "      <td>0.130435</td>\n",
              "      <td>-1.0</td>\n",
              "      <td>-0.510684</td>\n",
              "      <td>-1.0</td>\n",
              "      <td>0.565779</td>\n",
              "      <td>-0.541950</td>\n",
              "      <td>0.025641</td>\n",
              "      <td>0.216693</td>\n",
              "      <td>-0.412779</td>\n",
              "      <td>-1.000000</td>\n",
              "      <td>1</td>\n",
              "    </tr>\n",
              "    <tr>\n",
              "      <th>4</th>\n",
              "      <td>-0.970845</td>\n",
              "      <td>0.478261</td>\n",
              "      <td>-1.0</td>\n",
              "      <td>-0.696581</td>\n",
              "      <td>-1.0</td>\n",
              "      <td>-0.956124</td>\n",
              "      <td>-0.946056</td>\n",
              "      <td>-0.978510</td>\n",
              "      <td>-0.757089</td>\n",
              "      <td>-0.737358</td>\n",
              "      <td>-0.897436</td>\n",
              "      <td>0</td>\n",
              "    </tr>\n",
              "    <tr>\n",
              "      <th>...</th>\n",
              "      <td>...</td>\n",
              "      <td>...</td>\n",
              "      <td>...</td>\n",
              "      <td>...</td>\n",
              "      <td>...</td>\n",
              "      <td>...</td>\n",
              "      <td>...</td>\n",
              "      <td>...</td>\n",
              "      <td>...</td>\n",
              "      <td>...</td>\n",
              "      <td>...</td>\n",
              "      <td>...</td>\n",
              "    </tr>\n",
              "    <tr>\n",
              "      <th>4401</th>\n",
              "      <td>-0.970845</td>\n",
              "      <td>-1.000000</td>\n",
              "      <td>-1.0</td>\n",
              "      <td>-1.000000</td>\n",
              "      <td>0.6</td>\n",
              "      <td>-1.000000</td>\n",
              "      <td>-1.000000</td>\n",
              "      <td>-1.000000</td>\n",
              "      <td>-1.000000</td>\n",
              "      <td>-1.000000</td>\n",
              "      <td>-1.000000</td>\n",
              "      <td>0</td>\n",
              "    </tr>\n",
              "    <tr>\n",
              "      <th>4402</th>\n",
              "      <td>-0.970845</td>\n",
              "      <td>-0.739130</td>\n",
              "      <td>-1.0</td>\n",
              "      <td>-1.000000</td>\n",
              "      <td>0.2</td>\n",
              "      <td>-1.000000</td>\n",
              "      <td>-0.994781</td>\n",
              "      <td>-0.974603</td>\n",
              "      <td>-0.865525</td>\n",
              "      <td>-0.850516</td>\n",
              "      <td>-0.851852</td>\n",
              "      <td>0</td>\n",
              "    </tr>\n",
              "    <tr>\n",
              "      <th>4403</th>\n",
              "      <td>-0.970845</td>\n",
              "      <td>-0.913043</td>\n",
              "      <td>-1.0</td>\n",
              "      <td>-1.000000</td>\n",
              "      <td>0.6</td>\n",
              "      <td>-1.000000</td>\n",
              "      <td>-0.828876</td>\n",
              "      <td>-0.028571</td>\n",
              "      <td>-0.874799</td>\n",
              "      <td>-0.882791</td>\n",
              "      <td>-1.000000</td>\n",
              "      <td>0</td>\n",
              "    </tr>\n",
              "    <tr>\n",
              "      <th>4404</th>\n",
              "      <td>-0.970845</td>\n",
              "      <td>-0.913043</td>\n",
              "      <td>-1.0</td>\n",
              "      <td>-1.000000</td>\n",
              "      <td>-0.6</td>\n",
              "      <td>-1.000000</td>\n",
              "      <td>-1.000000</td>\n",
              "      <td>-1.000000</td>\n",
              "      <td>-1.000000</td>\n",
              "      <td>-1.000000</td>\n",
              "      <td>-1.000000</td>\n",
              "      <td>0</td>\n",
              "    </tr>\n",
              "    <tr>\n",
              "      <th>4406</th>\n",
              "      <td>-0.970845</td>\n",
              "      <td>-0.739130</td>\n",
              "      <td>-1.0</td>\n",
              "      <td>-1.000000</td>\n",
              "      <td>-1.0</td>\n",
              "      <td>-0.746261</td>\n",
              "      <td>-0.998882</td>\n",
              "      <td>-0.987302</td>\n",
              "      <td>-1.000000</td>\n",
              "      <td>-1.000000</td>\n",
              "      <td>-1.000000</td>\n",
              "      <td>0</td>\n",
              "    </tr>\n",
              "  </tbody>\n",
              "</table>\n",
              "<p>3943 rows × 12 columns</p>\n",
              "</div>"
            ],
            "text/plain": [
              "      average_return_days  customer_since_months  ...  avg_sms_replies  target\n",
              "0               -0.941691               0.130435  ...        -0.888889       0\n",
              "1               -0.551020              -0.217391  ...        -1.000000       0\n",
              "2               -0.939747               0.217391  ...        -1.000000       0\n",
              "3               -0.970845               0.130435  ...        -1.000000       1\n",
              "4               -0.970845               0.478261  ...        -0.897436       0\n",
              "...                   ...                    ...  ...              ...     ...\n",
              "4401            -0.970845              -1.000000  ...        -1.000000       0\n",
              "4402            -0.970845              -0.739130  ...        -0.851852       0\n",
              "4403            -0.970845              -0.913043  ...        -1.000000       0\n",
              "4404            -0.970845              -0.913043  ...        -1.000000       0\n",
              "4406            -0.970845              -0.739130  ...        -1.000000       0\n",
              "\n",
              "[3943 rows x 12 columns]"
            ]
          },
          "metadata": {
            "tags": []
          },
          "execution_count": 125
        }
      ]
    },
    {
      "cell_type": "code",
      "metadata": {
        "id": "WVKXjXVzHU_v",
        "outputId": "fcf75ffd-2e5b-413e-9fac-3f730912a18d",
        "colab": {
          "base_uri": "https://localhost:8080/",
          "height": 0
        }
      },
      "source": [
        "X_train, X_test = train_test_split(\n",
        "...     dataset, test_size=0.20, random_state=42)\n",
        "\n",
        "y_train, y_test = X_train['target'], X_test['target'] \n",
        "# ########################################################\n",
        "# X_train, X_val= train_test_split(\n",
        "# ...     X, test_size=0.15, random_state=42)\n",
        "\n",
        "# y_train, y_val = X_train['target'], X_val['target'] \n",
        "# ########################################################\n",
        "\n",
        "X_train= X_train.drop('target',1)\n",
        "# X_val  = X_val.drop('target',1)\n",
        "X_test = X_test.drop('target',1)\n",
        "\n",
        "X_train.shape, y_train.shape, X_test.shape,  y_test.shape"
      ],
      "execution_count": 126,
      "outputs": [
        {
          "output_type": "execute_result",
          "data": {
            "text/plain": [
              "((3154, 11), (3154,), (789, 11), (789,))"
            ]
          },
          "metadata": {
            "tags": []
          },
          "execution_count": 126
        }
      ]
    },
    {
      "cell_type": "code",
      "metadata": {
        "id": "bwXQxQ6JHU_w",
        "outputId": "edd9f579-e409-40ea-ce14-85075f29f4cf",
        "colab": {
          "base_uri": "https://localhost:8080/",
          "height": 0
        }
      },
      "source": [
        "X_train"
      ],
      "execution_count": 127,
      "outputs": [
        {
          "output_type": "execute_result",
          "data": {
            "text/html": [
              "<div>\n",
              "<style scoped>\n",
              "    .dataframe tbody tr th:only-of-type {\n",
              "        vertical-align: middle;\n",
              "    }\n",
              "\n",
              "    .dataframe tbody tr th {\n",
              "        vertical-align: top;\n",
              "    }\n",
              "\n",
              "    .dataframe thead th {\n",
              "        text-align: right;\n",
              "    }\n",
              "</style>\n",
              "<table border=\"1\" class=\"dataframe\">\n",
              "  <thead>\n",
              "    <tr style=\"text-align: right;\">\n",
              "      <th></th>\n",
              "      <th>average_return_days</th>\n",
              "      <th>customer_since_months</th>\n",
              "      <th>average_revenue</th>\n",
              "      <th>avg_used_vas_value</th>\n",
              "      <th>business_type</th>\n",
              "      <th>avg_wallet_bonus</th>\n",
              "      <th>avg_active_ads</th>\n",
              "      <th>avg_new_ads</th>\n",
              "      <th>avg_email_replies</th>\n",
              "      <th>avg_call_replies</th>\n",
              "      <th>avg_sms_replies</th>\n",
              "    </tr>\n",
              "  </thead>\n",
              "  <tbody>\n",
              "    <tr>\n",
              "      <th>3763</th>\n",
              "      <td>-0.970845</td>\n",
              "      <td>-1.000000</td>\n",
              "      <td>-1.000000</td>\n",
              "      <td>-1.000000</td>\n",
              "      <td>-0.6</td>\n",
              "      <td>-1.000000</td>\n",
              "      <td>-1.000000</td>\n",
              "      <td>-1.000000</td>\n",
              "      <td>-1.000000</td>\n",
              "      <td>-1.000000</td>\n",
              "      <td>-1.000000</td>\n",
              "    </tr>\n",
              "    <tr>\n",
              "      <th>1279</th>\n",
              "      <td>-0.917022</td>\n",
              "      <td>0.043478</td>\n",
              "      <td>-1.000000</td>\n",
              "      <td>-0.680556</td>\n",
              "      <td>-1.0</td>\n",
              "      <td>-0.788551</td>\n",
              "      <td>-0.862430</td>\n",
              "      <td>-0.609524</td>\n",
              "      <td>-0.196629</td>\n",
              "      <td>-0.266170</td>\n",
              "      <td>-0.925926</td>\n",
              "    </tr>\n",
              "    <tr>\n",
              "      <th>1731</th>\n",
              "      <td>0.073416</td>\n",
              "      <td>-0.130435</td>\n",
              "      <td>-1.000000</td>\n",
              "      <td>-0.511111</td>\n",
              "      <td>-1.0</td>\n",
              "      <td>-0.978855</td>\n",
              "      <td>-0.724748</td>\n",
              "      <td>-0.856508</td>\n",
              "      <td>-0.578491</td>\n",
              "      <td>-0.693218</td>\n",
              "      <td>-1.000000</td>\n",
              "    </tr>\n",
              "    <tr>\n",
              "      <th>3147</th>\n",
              "      <td>-0.970845</td>\n",
              "      <td>-0.913043</td>\n",
              "      <td>-1.000000</td>\n",
              "      <td>-0.861111</td>\n",
              "      <td>-1.0</td>\n",
              "      <td>-1.000000</td>\n",
              "      <td>-0.884240</td>\n",
              "      <td>-0.676190</td>\n",
              "      <td>-0.902622</td>\n",
              "      <td>-0.923559</td>\n",
              "      <td>-1.000000</td>\n",
              "    </tr>\n",
              "    <tr>\n",
              "      <th>3301</th>\n",
              "      <td>-0.620991</td>\n",
              "      <td>-0.043478</td>\n",
              "      <td>-0.952725</td>\n",
              "      <td>-0.848485</td>\n",
              "      <td>-1.0</td>\n",
              "      <td>-0.920707</td>\n",
              "      <td>-0.966853</td>\n",
              "      <td>-0.889177</td>\n",
              "      <td>-0.649691</td>\n",
              "      <td>-0.688678</td>\n",
              "      <td>-0.959596</td>\n",
              "    </tr>\n",
              "    <tr>\n",
              "      <th>...</th>\n",
              "      <td>...</td>\n",
              "      <td>...</td>\n",
              "      <td>...</td>\n",
              "      <td>...</td>\n",
              "      <td>...</td>\n",
              "      <td>...</td>\n",
              "      <td>...</td>\n",
              "      <td>...</td>\n",
              "      <td>...</td>\n",
              "      <td>...</td>\n",
              "      <td>...</td>\n",
              "    </tr>\n",
              "    <tr>\n",
              "      <th>1296</th>\n",
              "      <td>-0.850340</td>\n",
              "      <td>0.217391</td>\n",
              "      <td>-1.000000</td>\n",
              "      <td>-0.476852</td>\n",
              "      <td>-1.0</td>\n",
              "      <td>-0.940794</td>\n",
              "      <td>-0.899619</td>\n",
              "      <td>-0.943915</td>\n",
              "      <td>-0.877118</td>\n",
              "      <td>-0.897230</td>\n",
              "      <td>-0.925926</td>\n",
              "    </tr>\n",
              "    <tr>\n",
              "      <th>1478</th>\n",
              "      <td>-0.475219</td>\n",
              "      <td>-0.739130</td>\n",
              "      <td>-1.000000</td>\n",
              "      <td>-1.000000</td>\n",
              "      <td>-1.0</td>\n",
              "      <td>-1.000000</td>\n",
              "      <td>-0.790849</td>\n",
              "      <td>-0.907937</td>\n",
              "      <td>-0.888711</td>\n",
              "      <td>-0.908271</td>\n",
              "      <td>-1.000000</td>\n",
              "    </tr>\n",
              "    <tr>\n",
              "      <th>983</th>\n",
              "      <td>-0.863198</td>\n",
              "      <td>0.043478</td>\n",
              "      <td>-1.000000</td>\n",
              "      <td>-1.000000</td>\n",
              "      <td>1.0</td>\n",
              "      <td>-1.000000</td>\n",
              "      <td>-0.990307</td>\n",
              "      <td>-0.997884</td>\n",
              "      <td>-0.977974</td>\n",
              "      <td>-0.988959</td>\n",
              "      <td>-1.000000</td>\n",
              "    </tr>\n",
              "    <tr>\n",
              "      <th>3949</th>\n",
              "      <td>-0.970845</td>\n",
              "      <td>-0.478261</td>\n",
              "      <td>-1.000000</td>\n",
              "      <td>-0.861111</td>\n",
              "      <td>-0.6</td>\n",
              "      <td>-1.000000</td>\n",
              "      <td>-0.973903</td>\n",
              "      <td>-0.928042</td>\n",
              "      <td>-0.914214</td>\n",
              "      <td>-0.940546</td>\n",
              "      <td>-0.925926</td>\n",
              "    </tr>\n",
              "    <tr>\n",
              "      <th>3576</th>\n",
              "      <td>-0.970845</td>\n",
              "      <td>-0.739130</td>\n",
              "      <td>-1.000000</td>\n",
              "      <td>-0.861111</td>\n",
              "      <td>1.0</td>\n",
              "      <td>-1.000000</td>\n",
              "      <td>-0.995806</td>\n",
              "      <td>-0.977778</td>\n",
              "      <td>-0.989567</td>\n",
              "      <td>-0.971972</td>\n",
              "      <td>-1.000000</td>\n",
              "    </tr>\n",
              "  </tbody>\n",
              "</table>\n",
              "<p>3154 rows × 11 columns</p>\n",
              "</div>"
            ],
            "text/plain": [
              "      average_return_days  ...  avg_sms_replies\n",
              "3763            -0.970845  ...        -1.000000\n",
              "1279            -0.917022  ...        -0.925926\n",
              "1731             0.073416  ...        -1.000000\n",
              "3147            -0.970845  ...        -1.000000\n",
              "3301            -0.620991  ...        -0.959596\n",
              "...                   ...  ...              ...\n",
              "1296            -0.850340  ...        -0.925926\n",
              "1478            -0.475219  ...        -1.000000\n",
              "983             -0.863198  ...        -1.000000\n",
              "3949            -0.970845  ...        -0.925926\n",
              "3576            -0.970845  ...        -1.000000\n",
              "\n",
              "[3154 rows x 11 columns]"
            ]
          },
          "metadata": {
            "tags": []
          },
          "execution_count": 127
        }
      ]
    },
    {
      "cell_type": "markdown",
      "metadata": {
        "id": "jT4vNLyI573o"
      },
      "source": [
        "## Libraries"
      ]
    },
    {
      "cell_type": "code",
      "metadata": {
        "id": "KgX8VmYn4Qon"
      },
      "source": [
        "import torch\n",
        "from torch.utils.data import Dataset, DataLoader\n",
        "import torch.optim as optim\n",
        "import torch.nn as nn\n",
        "import torch.nn.functional as F\n",
        "from torchvision import models\n",
        "from datetime import datetime"
      ],
      "execution_count": 130,
      "outputs": []
    },
    {
      "cell_type": "markdown",
      "metadata": {
        "id": "a8gpy2hb6LW1"
      },
      "source": [
        "## Dataset Genearator"
      ]
    },
    {
      "cell_type": "code",
      "metadata": {
        "id": "aYxJEhM3590_"
      },
      "source": [
        "class Dataset_gen(Dataset):\n",
        "    def __init__(self, X, Y):\n",
        "        self.x = X\n",
        "        self.y = Y\n",
        "        \n",
        "    def __len__(self):\n",
        "        return len(self.y)\n",
        "    \n",
        "    def __getitem__(self, idx):\n",
        "      if isinstance(idx, torch.Tensor):\n",
        "            idx = idx.tolist()\n",
        "      return self.x[idx], self.y[idx]"
      ],
      "execution_count": 131,
      "outputs": []
    },
    {
      "cell_type": "code",
      "metadata": {
        "id": "maWZ-bhq7clh"
      },
      "source": [
        "train_data = Dataset_gen(torch.FloatTensor(X_train.values), torch.FloatTensor(y_train.values))\n",
        "test_data = Dataset_gen(torch.FloatTensor(X_test.values), torch.FloatTensor(y_test.values))"
      ],
      "execution_count": 132,
      "outputs": []
    },
    {
      "cell_type": "markdown",
      "metadata": {
        "id": "Ba5sikI76PgZ"
      },
      "source": [
        "## Network Architecture "
      ]
    },
    {
      "cell_type": "code",
      "metadata": {
        "id": "YOoVKcJR6Ryg"
      },
      "source": [
        "class Network(nn.Module):\n",
        "    def __init__(self):\n",
        "        super().__init__()\n",
        "        # Number of input features is 11.\n",
        "        self.layer_1 = nn.Linear(11, 128) \n",
        "        self.batchnorm1 = nn.BatchNorm1d(128)\n",
        "        self.dropout1 = nn.Dropout(p=0.4)\n",
        "\n",
        "        self.layer_2 = nn.Linear(128, 1024)\n",
        "        self.batchnorm2 = nn.BatchNorm1d(1024)\n",
        "        self.dropout2 = nn.Dropout(p=0.5)\n",
        "\n",
        "        self.layer_3 = nn.Linear(1024, 512)\n",
        "        self.batchnorm3 = nn.BatchNorm1d(512)\n",
        "        self.dropout3 = nn.Dropout(p=0.5)\n",
        "\n",
        "        self.layer_4 = nn.Linear(512, 64)\n",
        "        self.batchnorm4 = nn.BatchNorm1d(64)\n",
        "        self.dropout4 = nn.Dropout(p=0.5)\n",
        "\n",
        "        self.layer_out = nn.Linear(64, 1) \n",
        "        \n",
        "        self.relu = nn.ReLU()\n",
        "        \n",
        "        \n",
        "        \n",
        "        \n",
        "    def forward(self, inputs):\n",
        "        x = self.layer_1(inputs)\n",
        "        x = self.relu(x)\n",
        "        x = self.batchnorm1(x)\n",
        "        x = self.dropout1(x)\n",
        "\n",
        "        x = self.layer_2(x)\n",
        "        x = self.relu(x)\n",
        "        x = self.batchnorm2(x)\n",
        "        x = self.dropout2(x)\n",
        "\n",
        "        x = self.layer_3(x)\n",
        "        x = self.relu(x)\n",
        "        x = self.batchnorm3(x)\n",
        "        x = self.dropout3(x)\n",
        "\n",
        "        x = self.layer_4(x)\n",
        "        x = self.relu(x)\n",
        "        x = self.batchnorm4(x)\n",
        "        x = self.dropout4(x)\n",
        "\n",
        "        x = self.layer_out(x)\n",
        "        \n",
        "        return x"
      ],
      "execution_count": 133,
      "outputs": []
    },
    {
      "cell_type": "code",
      "metadata": {
        "id": "h6mb5YOc6vZt"
      },
      "source": [
        "device = torch.device(\"cuda:0\" if torch.cuda.is_available() else \"cpu\")"
      ],
      "execution_count": 134,
      "outputs": []
    },
    {
      "cell_type": "markdown",
      "metadata": {
        "id": "8UEfeco16wI5"
      },
      "source": [
        "## Defining Network Parameters"
      ]
    },
    {
      "cell_type": "code",
      "metadata": {
        "id": "d-a4ZsBF8GVJ",
        "outputId": "0d71a5e0-1200-4827-a43f-aa76d0e4943b",
        "colab": {
          "base_uri": "https://localhost:8080/",
          "height": 298
        }
      },
      "source": [
        "model = Network()\n",
        "model.to(device)"
      ],
      "execution_count": 135,
      "outputs": [
        {
          "output_type": "execute_result",
          "data": {
            "text/plain": [
              "Network(\n",
              "  (layer_1): Linear(in_features=11, out_features=128, bias=True)\n",
              "  (batchnorm1): BatchNorm1d(128, eps=1e-05, momentum=0.1, affine=True, track_running_stats=True)\n",
              "  (dropout1): Dropout(p=0.4, inplace=False)\n",
              "  (layer_2): Linear(in_features=128, out_features=1024, bias=True)\n",
              "  (batchnorm2): BatchNorm1d(1024, eps=1e-05, momentum=0.1, affine=True, track_running_stats=True)\n",
              "  (dropout2): Dropout(p=0.5, inplace=False)\n",
              "  (layer_3): Linear(in_features=1024, out_features=512, bias=True)\n",
              "  (batchnorm3): BatchNorm1d(512, eps=1e-05, momentum=0.1, affine=True, track_running_stats=True)\n",
              "  (dropout3): Dropout(p=0.5, inplace=False)\n",
              "  (layer_4): Linear(in_features=512, out_features=64, bias=True)\n",
              "  (batchnorm4): BatchNorm1d(64, eps=1e-05, momentum=0.1, affine=True, track_running_stats=True)\n",
              "  (dropout4): Dropout(p=0.5, inplace=False)\n",
              "  (layer_out): Linear(in_features=64, out_features=1, bias=True)\n",
              "  (relu): ReLU()\n",
              ")"
            ]
          },
          "metadata": {
            "tags": []
          },
          "execution_count": 135
        }
      ]
    },
    {
      "cell_type": "code",
      "metadata": {
        "id": "AAErsJI763Rf"
      },
      "source": [
        "criterion = nn.BCEWithLogitsLoss()\n",
        "optimizer = optim.Adam(model.parameters(), lr=1e-3, weight_decay=1e-2)"
      ],
      "execution_count": 136,
      "outputs": []
    },
    {
      "cell_type": "code",
      "metadata": {
        "id": "Q_Qto8BV7Msq"
      },
      "source": [
        "train_loader = DataLoader(dataset=train_data, batch_size=len(X_train), shuffle=True)\n",
        "test_loader = DataLoader(dataset=test_data, batch_size=len(X_test), shuffle=True)"
      ],
      "execution_count": 137,
      "outputs": []
    },
    {
      "cell_type": "markdown",
      "metadata": {
        "id": "Ih1qCPr37UlM"
      },
      "source": [
        "## Training\n",
        "We'll be training the model on GPU"
      ]
    },
    {
      "cell_type": "code",
      "metadata": {
        "id": "DcYqwIoC6-w8"
      },
      "source": [
        "def binary_acc(y_pred, y_test):\n",
        "    y_pred_tag = torch.round(torch.sigmoid(y_pred))\n",
        "\n",
        "    correct_results_sum = (y_pred_tag == y_test).sum().float()\n",
        "    acc = correct_results_sum/y_test.shape[0]\n",
        "    acc = torch.round(acc * 100)\n",
        "    \n",
        "    return acc"
      ],
      "execution_count": 138,
      "outputs": []
    },
    {
      "cell_type": "code",
      "metadata": {
        "id": "tEMF0jk77CQA",
        "outputId": "5c5eedc6-3936-4c25-b3c7-f7a82a8b1326",
        "colab": {
          "base_uri": "https://localhost:8080/",
          "height": 1000
        }
      },
      "source": [
        "model.train()\n",
        "epochs = 200\n",
        "for e in range(1, epochs+1):\n",
        "    epoch_loss = 0\n",
        "    epoch_acc = 0\n",
        "    for data, target_label in train_loader:\n",
        "        data, target_label = data.to(device), target_label.to(device)\n",
        "        optimizer.zero_grad()\n",
        "        \n",
        "        y_pred = model(data)\n",
        "        \n",
        "        loss = criterion(y_pred, target_label.unsqueeze(1))\n",
        "        acc = binary_acc(y_pred, target_label.unsqueeze(1))\n",
        "        \n",
        "        loss.backward()\n",
        "        optimizer.step()\n",
        "        \n",
        "        epoch_loss += loss.item()\n",
        "        epoch_acc += acc.item()\n",
        "        \n",
        "\n",
        "    print(f'Epoch {e+0:03}: | Loss: {epoch_loss/len(train_loader):.5f} | Acc: {epoch_acc/len(train_loader):.3f}')"
      ],
      "execution_count": 139,
      "outputs": [
        {
          "output_type": "stream",
          "text": [
            "Epoch 001: | Loss: 0.76286 | Acc: 45.000\n",
            "Epoch 002: | Loss: 0.73265 | Acc: 56.000\n",
            "Epoch 003: | Loss: 0.73051 | Acc: 58.000\n",
            "Epoch 004: | Loss: 0.71481 | Acc: 57.000\n",
            "Epoch 005: | Loss: 0.72084 | Acc: 54.000\n",
            "Epoch 006: | Loss: 0.70850 | Acc: 53.000\n",
            "Epoch 007: | Loss: 0.70422 | Acc: 53.000\n",
            "Epoch 008: | Loss: 0.70520 | Acc: 53.000\n",
            "Epoch 009: | Loss: 0.70195 | Acc: 55.000\n",
            "Epoch 010: | Loss: 0.70954 | Acc: 56.000\n",
            "Epoch 011: | Loss: 0.69648 | Acc: 56.000\n",
            "Epoch 012: | Loss: 0.69281 | Acc: 58.000\n",
            "Epoch 013: | Loss: 0.69141 | Acc: 57.000\n",
            "Epoch 014: | Loss: 0.69314 | Acc: 60.000\n",
            "Epoch 015: | Loss: 0.68659 | Acc: 60.000\n",
            "Epoch 016: | Loss: 0.68405 | Acc: 60.000\n",
            "Epoch 017: | Loss: 0.68062 | Acc: 61.000\n",
            "Epoch 018: | Loss: 0.68321 | Acc: 61.000\n",
            "Epoch 019: | Loss: 0.67658 | Acc: 61.000\n",
            "Epoch 020: | Loss: 0.68347 | Acc: 61.000\n",
            "Epoch 021: | Loss: 0.67392 | Acc: 62.000\n",
            "Epoch 022: | Loss: 0.68117 | Acc: 61.000\n",
            "Epoch 023: | Loss: 0.67174 | Acc: 63.000\n",
            "Epoch 024: | Loss: 0.66769 | Acc: 64.000\n",
            "Epoch 025: | Loss: 0.66353 | Acc: 64.000\n",
            "Epoch 026: | Loss: 0.66724 | Acc: 63.000\n",
            "Epoch 027: | Loss: 0.66071 | Acc: 64.000\n",
            "Epoch 028: | Loss: 0.66075 | Acc: 65.000\n",
            "Epoch 029: | Loss: 0.66389 | Acc: 65.000\n",
            "Epoch 030: | Loss: 0.66250 | Acc: 64.000\n",
            "Epoch 031: | Loss: 0.65784 | Acc: 66.000\n",
            "Epoch 032: | Loss: 0.64508 | Acc: 66.000\n",
            "Epoch 033: | Loss: 0.65197 | Acc: 66.000\n",
            "Epoch 034: | Loss: 0.64906 | Acc: 68.000\n",
            "Epoch 035: | Loss: 0.65307 | Acc: 67.000\n",
            "Epoch 036: | Loss: 0.64408 | Acc: 69.000\n",
            "Epoch 037: | Loss: 0.64651 | Acc: 69.000\n",
            "Epoch 038: | Loss: 0.63646 | Acc: 70.000\n",
            "Epoch 039: | Loss: 0.63932 | Acc: 70.000\n",
            "Epoch 040: | Loss: 0.63887 | Acc: 71.000\n",
            "Epoch 041: | Loss: 0.64502 | Acc: 70.000\n",
            "Epoch 042: | Loss: 0.63089 | Acc: 71.000\n",
            "Epoch 043: | Loss: 0.64153 | Acc: 71.000\n",
            "Epoch 044: | Loss: 0.62817 | Acc: 71.000\n",
            "Epoch 045: | Loss: 0.63141 | Acc: 72.000\n",
            "Epoch 046: | Loss: 0.63505 | Acc: 71.000\n",
            "Epoch 047: | Loss: 0.62297 | Acc: 72.000\n",
            "Epoch 048: | Loss: 0.62533 | Acc: 72.000\n",
            "Epoch 049: | Loss: 0.62288 | Acc: 72.000\n",
            "Epoch 050: | Loss: 0.61704 | Acc: 73.000\n",
            "Epoch 051: | Loss: 0.61705 | Acc: 74.000\n",
            "Epoch 052: | Loss: 0.61182 | Acc: 74.000\n",
            "Epoch 053: | Loss: 0.61437 | Acc: 75.000\n",
            "Epoch 054: | Loss: 0.60554 | Acc: 75.000\n",
            "Epoch 055: | Loss: 0.60555 | Acc: 75.000\n",
            "Epoch 056: | Loss: 0.59983 | Acc: 75.000\n",
            "Epoch 057: | Loss: 0.59750 | Acc: 76.000\n",
            "Epoch 058: | Loss: 0.59720 | Acc: 76.000\n",
            "Epoch 059: | Loss: 0.59300 | Acc: 76.000\n",
            "Epoch 060: | Loss: 0.59018 | Acc: 76.000\n",
            "Epoch 061: | Loss: 0.59269 | Acc: 77.000\n",
            "Epoch 062: | Loss: 0.59018 | Acc: 78.000\n",
            "Epoch 063: | Loss: 0.58166 | Acc: 77.000\n",
            "Epoch 064: | Loss: 0.58172 | Acc: 78.000\n",
            "Epoch 065: | Loss: 0.57610 | Acc: 78.000\n",
            "Epoch 066: | Loss: 0.57379 | Acc: 79.000\n",
            "Epoch 067: | Loss: 0.57153 | Acc: 78.000\n",
            "Epoch 068: | Loss: 0.57007 | Acc: 78.000\n",
            "Epoch 069: | Loss: 0.56639 | Acc: 78.000\n",
            "Epoch 070: | Loss: 0.56077 | Acc: 79.000\n",
            "Epoch 071: | Loss: 0.56029 | Acc: 80.000\n",
            "Epoch 072: | Loss: 0.55183 | Acc: 81.000\n",
            "Epoch 073: | Loss: 0.55261 | Acc: 80.000\n",
            "Epoch 074: | Loss: 0.55036 | Acc: 81.000\n",
            "Epoch 075: | Loss: 0.54850 | Acc: 80.000\n",
            "Epoch 076: | Loss: 0.54118 | Acc: 80.000\n",
            "Epoch 077: | Loss: 0.53553 | Acc: 81.000\n",
            "Epoch 078: | Loss: 0.53952 | Acc: 82.000\n",
            "Epoch 079: | Loss: 0.52840 | Acc: 83.000\n",
            "Epoch 080: | Loss: 0.52390 | Acc: 83.000\n",
            "Epoch 081: | Loss: 0.52928 | Acc: 83.000\n",
            "Epoch 082: | Loss: 0.52267 | Acc: 83.000\n",
            "Epoch 083: | Loss: 0.51651 | Acc: 84.000\n",
            "Epoch 084: | Loss: 0.52627 | Acc: 83.000\n",
            "Epoch 085: | Loss: 0.50932 | Acc: 84.000\n",
            "Epoch 086: | Loss: 0.49983 | Acc: 85.000\n",
            "Epoch 087: | Loss: 0.50404 | Acc: 83.000\n",
            "Epoch 088: | Loss: 0.50155 | Acc: 84.000\n",
            "Epoch 089: | Loss: 0.49580 | Acc: 85.000\n",
            "Epoch 090: | Loss: 0.49308 | Acc: 84.000\n",
            "Epoch 091: | Loss: 0.48910 | Acc: 85.000\n",
            "Epoch 092: | Loss: 0.48390 | Acc: 84.000\n",
            "Epoch 093: | Loss: 0.47674 | Acc: 85.000\n",
            "Epoch 094: | Loss: 0.48102 | Acc: 87.000\n",
            "Epoch 095: | Loss: 0.47136 | Acc: 87.000\n",
            "Epoch 096: | Loss: 0.46777 | Acc: 87.000\n",
            "Epoch 097: | Loss: 0.47256 | Acc: 86.000\n",
            "Epoch 098: | Loss: 0.46026 | Acc: 86.000\n",
            "Epoch 099: | Loss: 0.45572 | Acc: 87.000\n",
            "Epoch 100: | Loss: 0.45316 | Acc: 87.000\n",
            "Epoch 101: | Loss: 0.44635 | Acc: 87.000\n",
            "Epoch 102: | Loss: 0.45600 | Acc: 88.000\n",
            "Epoch 103: | Loss: 0.43976 | Acc: 87.000\n",
            "Epoch 104: | Loss: 0.44138 | Acc: 87.000\n",
            "Epoch 105: | Loss: 0.43108 | Acc: 88.000\n",
            "Epoch 106: | Loss: 0.43275 | Acc: 88.000\n",
            "Epoch 107: | Loss: 0.43735 | Acc: 87.000\n",
            "Epoch 108: | Loss: 0.43278 | Acc: 88.000\n",
            "Epoch 109: | Loss: 0.41608 | Acc: 89.000\n",
            "Epoch 110: | Loss: 0.41324 | Acc: 88.000\n",
            "Epoch 111: | Loss: 0.42158 | Acc: 89.000\n",
            "Epoch 112: | Loss: 0.40630 | Acc: 89.000\n",
            "Epoch 113: | Loss: 0.40666 | Acc: 89.000\n",
            "Epoch 114: | Loss: 0.39784 | Acc: 89.000\n",
            "Epoch 115: | Loss: 0.39546 | Acc: 89.000\n",
            "Epoch 116: | Loss: 0.39152 | Acc: 90.000\n",
            "Epoch 117: | Loss: 0.38539 | Acc: 89.000\n",
            "Epoch 118: | Loss: 0.38191 | Acc: 90.000\n",
            "Epoch 119: | Loss: 0.38108 | Acc: 88.000\n",
            "Epoch 120: | Loss: 0.38101 | Acc: 90.000\n",
            "Epoch 121: | Loss: 0.37635 | Acc: 90.000\n",
            "Epoch 122: | Loss: 0.37561 | Acc: 90.000\n",
            "Epoch 123: | Loss: 0.36676 | Acc: 89.000\n",
            "Epoch 124: | Loss: 0.36429 | Acc: 90.000\n",
            "Epoch 125: | Loss: 0.36602 | Acc: 90.000\n",
            "Epoch 126: | Loss: 0.35951 | Acc: 91.000\n",
            "Epoch 127: | Loss: 0.35526 | Acc: 90.000\n",
            "Epoch 128: | Loss: 0.35235 | Acc: 90.000\n",
            "Epoch 129: | Loss: 0.34722 | Acc: 91.000\n",
            "Epoch 130: | Loss: 0.34734 | Acc: 90.000\n",
            "Epoch 131: | Loss: 0.36447 | Acc: 90.000\n",
            "Epoch 132: | Loss: 0.34660 | Acc: 91.000\n",
            "Epoch 133: | Loss: 0.33247 | Acc: 91.000\n",
            "Epoch 134: | Loss: 0.33862 | Acc: 90.000\n",
            "Epoch 135: | Loss: 0.33479 | Acc: 91.000\n",
            "Epoch 136: | Loss: 0.33729 | Acc: 90.000\n",
            "Epoch 137: | Loss: 0.33290 | Acc: 90.000\n",
            "Epoch 138: | Loss: 0.32935 | Acc: 90.000\n",
            "Epoch 139: | Loss: 0.32632 | Acc: 91.000\n",
            "Epoch 140: | Loss: 0.32357 | Acc: 91.000\n",
            "Epoch 141: | Loss: 0.32780 | Acc: 90.000\n",
            "Epoch 142: | Loss: 0.32431 | Acc: 90.000\n",
            "Epoch 143: | Loss: 0.31459 | Acc: 91.000\n",
            "Epoch 144: | Loss: 0.31468 | Acc: 91.000\n",
            "Epoch 145: | Loss: 0.32440 | Acc: 91.000\n",
            "Epoch 146: | Loss: 0.30995 | Acc: 91.000\n",
            "Epoch 147: | Loss: 0.31106 | Acc: 91.000\n",
            "Epoch 148: | Loss: 0.30951 | Acc: 91.000\n",
            "Epoch 149: | Loss: 0.30196 | Acc: 91.000\n",
            "Epoch 150: | Loss: 0.30952 | Acc: 90.000\n",
            "Epoch 151: | Loss: 0.30078 | Acc: 90.000\n",
            "Epoch 152: | Loss: 0.30687 | Acc: 90.000\n",
            "Epoch 153: | Loss: 0.30334 | Acc: 91.000\n",
            "Epoch 154: | Loss: 0.31481 | Acc: 91.000\n",
            "Epoch 155: | Loss: 0.31071 | Acc: 90.000\n",
            "Epoch 156: | Loss: 0.29824 | Acc: 90.000\n",
            "Epoch 157: | Loss: 0.29916 | Acc: 91.000\n",
            "Epoch 158: | Loss: 0.28997 | Acc: 91.000\n",
            "Epoch 159: | Loss: 0.32772 | Acc: 89.000\n",
            "Epoch 160: | Loss: 0.28945 | Acc: 91.000\n",
            "Epoch 161: | Loss: 0.29209 | Acc: 91.000\n",
            "Epoch 162: | Loss: 0.29358 | Acc: 91.000\n",
            "Epoch 163: | Loss: 0.29143 | Acc: 91.000\n",
            "Epoch 164: | Loss: 0.29096 | Acc: 91.000\n",
            "Epoch 165: | Loss: 0.28624 | Acc: 91.000\n",
            "Epoch 166: | Loss: 0.28925 | Acc: 91.000\n",
            "Epoch 167: | Loss: 0.29631 | Acc: 91.000\n",
            "Epoch 168: | Loss: 0.28255 | Acc: 91.000\n",
            "Epoch 169: | Loss: 0.29127 | Acc: 90.000\n",
            "Epoch 170: | Loss: 0.28553 | Acc: 91.000\n",
            "Epoch 171: | Loss: 0.28015 | Acc: 91.000\n",
            "Epoch 172: | Loss: 0.27481 | Acc: 91.000\n",
            "Epoch 173: | Loss: 0.27480 | Acc: 91.000\n",
            "Epoch 174: | Loss: 0.27477 | Acc: 91.000\n",
            "Epoch 175: | Loss: 0.27319 | Acc: 91.000\n",
            "Epoch 176: | Loss: 0.28048 | Acc: 91.000\n",
            "Epoch 177: | Loss: 0.27103 | Acc: 91.000\n",
            "Epoch 178: | Loss: 0.28014 | Acc: 90.000\n",
            "Epoch 179: | Loss: 0.26981 | Acc: 91.000\n",
            "Epoch 180: | Loss: 0.27322 | Acc: 91.000\n",
            "Epoch 181: | Loss: 0.26767 | Acc: 91.000\n",
            "Epoch 182: | Loss: 0.26746 | Acc: 91.000\n",
            "Epoch 183: | Loss: 0.27390 | Acc: 91.000\n",
            "Epoch 184: | Loss: 0.26902 | Acc: 91.000\n",
            "Epoch 185: | Loss: 0.28367 | Acc: 91.000\n",
            "Epoch 186: | Loss: 0.26166 | Acc: 91.000\n",
            "Epoch 187: | Loss: 0.26291 | Acc: 91.000\n",
            "Epoch 188: | Loss: 0.26730 | Acc: 91.000\n",
            "Epoch 189: | Loss: 0.26424 | Acc: 91.000\n",
            "Epoch 190: | Loss: 0.27414 | Acc: 91.000\n",
            "Epoch 191: | Loss: 0.26846 | Acc: 90.000\n",
            "Epoch 192: | Loss: 0.25738 | Acc: 91.000\n",
            "Epoch 193: | Loss: 0.26104 | Acc: 91.000\n",
            "Epoch 194: | Loss: 0.26348 | Acc: 91.000\n",
            "Epoch 195: | Loss: 0.25761 | Acc: 92.000\n",
            "Epoch 196: | Loss: 0.28005 | Acc: 91.000\n",
            "Epoch 197: | Loss: 0.26334 | Acc: 91.000\n",
            "Epoch 198: | Loss: 0.26791 | Acc: 91.000\n",
            "Epoch 199: | Loss: 0.26271 | Acc: 91.000\n",
            "Epoch 200: | Loss: 0.25495 | Acc: 91.000\n"
          ],
          "name": "stdout"
        }
      ]
    },
    {
      "cell_type": "code",
      "metadata": {
        "id": "fl-lpjuv_i9c",
        "outputId": "a70fabc0-2739-4cf8-8cf1-3ac670c256a3",
        "colab": {
          "base_uri": "https://localhost:8080/",
          "height": 34
        }
      },
      "source": [
        "y_pred_list = []\n",
        "for data, target_label in test_loader:\n",
        "        data, target_label = data.to(device), target_label.to(device)\n",
        "        \n",
        "        y_pred = model(data)\n",
        "        \n",
        "        y_test_pred1 = model(data)\n",
        "        y_test_pred = torch.sigmoid(y_test_pred1)\n",
        "        y_pred_tag = torch.round(y_test_pred)\n",
        "        y_pred_list.extend(y_pred_tag.cpu().detach().numpy())\n",
        "\n",
        "        acc = binary_acc(y_test_pred1, target_label.unsqueeze(1))\n",
        "\n",
        "        \n",
        "print('Accuracy on Test Data :', acc.item())"
      ],
      "execution_count": 140,
      "outputs": [
        {
          "output_type": "stream",
          "text": [
            "Accuracy on Test Data : 90.0\n"
          ],
          "name": "stdout"
        }
      ]
    },
    {
      "cell_type": "markdown",
      "metadata": {
        "id": "xH349oj-Jr4j"
      },
      "source": [
        "## Analysing the Result"
      ]
    },
    {
      "cell_type": "code",
      "metadata": {
        "id": "1Ghe6MT5JwW8"
      },
      "source": [
        "from sklearn.metrics import confusion_matrix"
      ],
      "execution_count": 141,
      "outputs": []
    },
    {
      "cell_type": "code",
      "metadata": {
        "id": "6eBs66lJJgOg",
        "outputId": "698fdd6e-0a4d-4772-b144-6bed60e8dce1",
        "colab": {
          "base_uri": "https://localhost:8080/",
          "height": 52
        }
      },
      "source": [
        "confusion_matrix(y_test, y_pred_list)"
      ],
      "execution_count": 142,
      "outputs": [
        {
          "output_type": "execute_result",
          "data": {
            "text/plain": [
              "array([[697,  23],\n",
              "       [ 67,   2]])"
            ]
          },
          "metadata": {
            "tags": []
          },
          "execution_count": 142
        }
      ]
    },
    {
      "cell_type": "markdown",
      "metadata": {
        "id": "sC7avQ7zOuaW"
      },
      "source": [
        "# Comparing the Two models"
      ]
    },
    {
      "cell_type": "markdown",
      "metadata": {
        "id": "ahaEQ369OyNs"
      },
      "source": [
        "The concluding remark in terms of comparing the Deep Learning Model and ML model\n",
        "\n",
        "\n",
        "1.   XGBoost has its own benefits which includes\n",
        "\n",
        "*   Better Analysis\n",
        "*   Easy to train \n",
        "*   Requires proper data preprocessing\n",
        "*   Feature dimension have significant effect on training time and model accuracy\n",
        "\n",
        "\n",
        "2.   Deep learning Model has some advantages over XGBoost\n",
        "\n",
        "*   Very customizable network, can be made very very deep\n",
        "*   Requires very less data preprocessing, as we can see above, XGBoost required Oversampling whereas DNN was able to achieve similar accuracy with just normalising the data\n",
        "*   Can be trained for very very large dataset where XGBoost can possible give unrelible results\n",
        "*   Feature Dimension can be very large, which is a problem in case of XGBoost\n",
        "\n",
        "\n",
        "So, both models have their own benefits its dependent on the dataset and the objective to decide whihc model to choose\n",
        "\n",
        "\n",
        "\n",
        "\n",
        "\n"
      ]
    }
  ]
}