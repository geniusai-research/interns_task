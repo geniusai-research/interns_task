{
  "nbformat": 4,
  "nbformat_minor": 0,
  "metadata": {
    "colab": {
      "name": "K Jayesh Naidu.ipynb",
      "provenance": []
    },
    "kernelspec": {
      "name": "python3",
      "display_name": "Python 3"
    },
    "accelerator": "GPU"
  },
  "cells": [
    {
      "cell_type": "code",
      "metadata": {
        "id": "Ll7T0lRFC3WX",
        "outputId": "8bc05d4a-cfa3-4cc2-ea5f-6a6e69360998",
        "colab": {
          "base_uri": "https://localhost:8080/",
          "height": 425
        }
      },
      "source": [
        "!pip install shap"
      ],
      "execution_count": 1,
      "outputs": [
        {
          "output_type": "stream",
          "text": [
            "Collecting shap\n",
            "\u001b[?25l  Downloading https://files.pythonhosted.org/packages/d2/17/37ee6c79cafbd9bb7423b54e55ea90beec66aa7638664d607bcc28de0bae/shap-0.36.0.tar.gz (319kB)\n",
            "\r\u001b[K     |█                               | 10kB 23.5MB/s eta 0:00:01\r\u001b[K     |██                              | 20kB 19.6MB/s eta 0:00:01\r\u001b[K     |███                             | 30kB 11.8MB/s eta 0:00:01\r\u001b[K     |████                            | 40kB 8.6MB/s eta 0:00:01\r\u001b[K     |█████▏                          | 51kB 7.8MB/s eta 0:00:01\r\u001b[K     |██████▏                         | 61kB 7.9MB/s eta 0:00:01\r\u001b[K     |███████▏                        | 71kB 7.7MB/s eta 0:00:01\r\u001b[K     |████████▏                       | 81kB 8.0MB/s eta 0:00:01\r\u001b[K     |█████████▏                      | 92kB 7.7MB/s eta 0:00:01\r\u001b[K     |██████████▎                     | 102kB 8.4MB/s eta 0:00:01\r\u001b[K     |███████████▎                    | 112kB 8.4MB/s eta 0:00:01\r\u001b[K     |████████████▎                   | 122kB 8.4MB/s eta 0:00:01\r\u001b[K     |█████████████▎                  | 133kB 8.4MB/s eta 0:00:01\r\u001b[K     |██████████████▍                 | 143kB 8.4MB/s eta 0:00:01\r\u001b[K     |███████████████▍                | 153kB 8.4MB/s eta 0:00:01\r\u001b[K     |████████████████▍               | 163kB 8.4MB/s eta 0:00:01\r\u001b[K     |█████████████████▍              | 174kB 8.4MB/s eta 0:00:01\r\u001b[K     |██████████████████▍             | 184kB 8.4MB/s eta 0:00:01\r\u001b[K     |███████████████████▌            | 194kB 8.4MB/s eta 0:00:01\r\u001b[K     |████████████████████▌           | 204kB 8.4MB/s eta 0:00:01\r\u001b[K     |█████████████████████▌          | 215kB 8.4MB/s eta 0:00:01\r\u001b[K     |██████████████████████▌         | 225kB 8.4MB/s eta 0:00:01\r\u001b[K     |███████████████████████▋        | 235kB 8.4MB/s eta 0:00:01\r\u001b[K     |████████████████████████▋       | 245kB 8.4MB/s eta 0:00:01\r\u001b[K     |█████████████████████████▋      | 256kB 8.4MB/s eta 0:00:01\r\u001b[K     |██████████████████████████▋     | 266kB 8.4MB/s eta 0:00:01\r\u001b[K     |███████████████████████████▋    | 276kB 8.4MB/s eta 0:00:01\r\u001b[K     |████████████████████████████▊   | 286kB 8.4MB/s eta 0:00:01\r\u001b[K     |█████████████████████████████▊  | 296kB 8.4MB/s eta 0:00:01\r\u001b[K     |██████████████████████████████▊ | 307kB 8.4MB/s eta 0:00:01\r\u001b[K     |███████████████████████████████▊| 317kB 8.4MB/s eta 0:00:01\r\u001b[K     |████████████████████████████████| 327kB 8.4MB/s \n",
            "\u001b[?25hRequirement already satisfied: numpy in /usr/local/lib/python3.6/dist-packages (from shap) (1.18.5)\n",
            "Requirement already satisfied: scipy in /usr/local/lib/python3.6/dist-packages (from shap) (1.4.1)\n",
            "Requirement already satisfied: scikit-learn in /usr/local/lib/python3.6/dist-packages (from shap) (0.22.2.post1)\n",
            "Requirement already satisfied: pandas in /usr/local/lib/python3.6/dist-packages (from shap) (1.1.3)\n",
            "Requirement already satisfied: tqdm>4.25.0 in /usr/local/lib/python3.6/dist-packages (from shap) (4.41.1)\n",
            "Collecting slicer\n",
            "  Downloading https://files.pythonhosted.org/packages/46/cf/f37ac7f61214ed044b0df91252ab19376de5587926c5b572f060eb7bf257/slicer-0.0.4-py3-none-any.whl\n",
            "Requirement already satisfied: numba in /usr/local/lib/python3.6/dist-packages (from shap) (0.48.0)\n",
            "Requirement already satisfied: joblib>=0.11 in /usr/local/lib/python3.6/dist-packages (from scikit-learn->shap) (0.17.0)\n",
            "Requirement already satisfied: python-dateutil>=2.7.3 in /usr/local/lib/python3.6/dist-packages (from pandas->shap) (2.8.1)\n",
            "Requirement already satisfied: pytz>=2017.2 in /usr/local/lib/python3.6/dist-packages (from pandas->shap) (2018.9)\n",
            "Requirement already satisfied: llvmlite<0.32.0,>=0.31.0dev0 in /usr/local/lib/python3.6/dist-packages (from numba->shap) (0.31.0)\n",
            "Requirement already satisfied: setuptools in /usr/local/lib/python3.6/dist-packages (from numba->shap) (50.3.0)\n",
            "Requirement already satisfied: six>=1.5 in /usr/local/lib/python3.6/dist-packages (from python-dateutil>=2.7.3->pandas->shap) (1.15.0)\n",
            "Building wheels for collected packages: shap\n",
            "  Building wheel for shap (setup.py) ... \u001b[?25l\u001b[?25hdone\n",
            "  Created wheel for shap: filename=shap-0.36.0-cp36-cp36m-linux_x86_64.whl size=456464 sha256=2573799e060c7e982ec76cb2a9f0378901bd266cad82677263825fa80502c674\n",
            "  Stored in directory: /root/.cache/pip/wheels/fb/15/e1/8f61106790da27e0765aaa6e664550ca2c50ea339099e799f4\n",
            "Successfully built shap\n",
            "Installing collected packages: slicer, shap\n",
            "Successfully installed shap-0.36.0 slicer-0.0.4\n"
          ],
          "name": "stdout"
        }
      ]
    },
    {
      "cell_type": "markdown",
      "metadata": {
        "id": "nEfNXqThxvH0"
      },
      "source": [
        "Importing Libraries"
      ]
    },
    {
      "cell_type": "code",
      "metadata": {
        "id": "kXxHBAz9DBXR"
      },
      "source": [
        "import pandas as pd\n",
        "import numpy as np\n",
        "import shap\n",
        "import matplotlib.pyplot as plt\n",
        "import seaborn as sns\n",
        "from sklearn.model_selection import train_test_split, cross_val_score\n",
        "from sklearn.metrics import precision_score,recall_score,confusion_matrix,classification_report,f1_score\n",
        "from sklearn.preprocessing import StandardScaler\n",
        "from sklearn.tree import DecisionTreeClassifier\n",
        "from sklearn.linear_model import LogisticRegression\n",
        "from sklearn.ensemble import RandomForestClassifier\n",
        "from xgboost import XGBClassifier\n",
        "from imblearn.over_sampling import SMOTE,RandomOverSampler"
      ],
      "execution_count": 71,
      "outputs": []
    },
    {
      "cell_type": "code",
      "metadata": {
        "id": "9qKnpwMPD87Q",
        "outputId": "e2c14b3b-ecd5-48ea-b310-96362a5dbf3c",
        "colab": {
          "base_uri": "https://localhost:8080/",
          "height": 224
        }
      },
      "source": [
        "df = pd.read_csv(\"/content/drive/My Drive/Colab Notebook/Shap Demo/taskdata.csv\")\n",
        "df.head()"
      ],
      "execution_count": 72,
      "outputs": [
        {
          "output_type": "execute_result",
          "data": {
            "text/html": [
              "<div>\n",
              "<style scoped>\n",
              "    .dataframe tbody tr th:only-of-type {\n",
              "        vertical-align: middle;\n",
              "    }\n",
              "\n",
              "    .dataframe tbody tr th {\n",
              "        vertical-align: top;\n",
              "    }\n",
              "\n",
              "    .dataframe thead th {\n",
              "        text-align: right;\n",
              "    }\n",
              "</style>\n",
              "<table border=\"1\" class=\"dataframe\">\n",
              "  <thead>\n",
              "    <tr style=\"text-align: right;\">\n",
              "      <th></th>\n",
              "      <th>user_id</th>\n",
              "      <th>account_id</th>\n",
              "      <th>max_return_days</th>\n",
              "      <th>average_return_days</th>\n",
              "      <th>customer_since_months</th>\n",
              "      <th>total_revenue</th>\n",
              "      <th>average_revenue</th>\n",
              "      <th>avg_vas_count</th>\n",
              "      <th>avg_used_vas_value</th>\n",
              "      <th>business_type</th>\n",
              "      <th>avg_wallet_bonus</th>\n",
              "      <th>avg_active_ads</th>\n",
              "      <th>avg_new_ads</th>\n",
              "      <th>avg_email_replies</th>\n",
              "      <th>avg_call_replies</th>\n",
              "      <th>avg_sms_replies</th>\n",
              "      <th>target</th>\n",
              "    </tr>\n",
              "  </thead>\n",
              "  <tbody>\n",
              "    <tr>\n",
              "      <th>0</th>\n",
              "      <td>410039</td>\n",
              "      <td>496.0</td>\n",
              "      <td>8</td>\n",
              "      <td>1.500000</td>\n",
              "      <td>14</td>\n",
              "      <td>0.0</td>\n",
              "      <td>0.0</td>\n",
              "      <td>3.666667</td>\n",
              "      <td>66.666667</td>\n",
              "      <td>0</td>\n",
              "      <td>300.0</td>\n",
              "      <td>79.333333</td>\n",
              "      <td>15.250000</td>\n",
              "      <td>32.416667</td>\n",
              "      <td>27.916667</td>\n",
              "      <td>0.250000</td>\n",
              "      <td>0</td>\n",
              "    </tr>\n",
              "    <tr>\n",
              "      <th>1</th>\n",
              "      <td>410240</td>\n",
              "      <td>499.0</td>\n",
              "      <td>37</td>\n",
              "      <td>8.200000</td>\n",
              "      <td>10</td>\n",
              "      <td>0.0</td>\n",
              "      <td>0.0</td>\n",
              "      <td>4.900000</td>\n",
              "      <td>114.000000</td>\n",
              "      <td>0</td>\n",
              "      <td>0.0</td>\n",
              "      <td>232.100000</td>\n",
              "      <td>18.300000</td>\n",
              "      <td>16.200000</td>\n",
              "      <td>13.800000</td>\n",
              "      <td>0.000000</td>\n",
              "      <td>0</td>\n",
              "    </tr>\n",
              "    <tr>\n",
              "      <th>2</th>\n",
              "      <td>411764</td>\n",
              "      <td>493.0</td>\n",
              "      <td>9</td>\n",
              "      <td>1.533333</td>\n",
              "      <td>15</td>\n",
              "      <td>0.0</td>\n",
              "      <td>0.0</td>\n",
              "      <td>5.333333</td>\n",
              "      <td>106.666667</td>\n",
              "      <td>0</td>\n",
              "      <td>150.0</td>\n",
              "      <td>55.083333</td>\n",
              "      <td>3.750000</td>\n",
              "      <td>20.250000</td>\n",
              "      <td>24.500000</td>\n",
              "      <td>0.000000</td>\n",
              "      <td>0</td>\n",
              "    </tr>\n",
              "    <tr>\n",
              "      <th>3</th>\n",
              "      <td>411985</td>\n",
              "      <td>262.0</td>\n",
              "      <td>1</td>\n",
              "      <td>1.000000</td>\n",
              "      <td>14</td>\n",
              "      <td>0.0</td>\n",
              "      <td>0.0</td>\n",
              "      <td>6.307692</td>\n",
              "      <td>176.153846</td>\n",
              "      <td>0</td>\n",
              "      <td>1481.0</td>\n",
              "      <td>409.538462</td>\n",
              "      <td>80.769231</td>\n",
              "      <td>87.461538</td>\n",
              "      <td>57.615385</td>\n",
              "      <td>0.000000</td>\n",
              "      <td>1</td>\n",
              "    </tr>\n",
              "    <tr>\n",
              "      <th>4</th>\n",
              "      <td>412071</td>\n",
              "      <td>496.0</td>\n",
              "      <td>1</td>\n",
              "      <td>1.000000</td>\n",
              "      <td>18</td>\n",
              "      <td>0.0</td>\n",
              "      <td>0.0</td>\n",
              "      <td>5.846154</td>\n",
              "      <td>109.230769</td>\n",
              "      <td>0</td>\n",
              "      <td>41.5</td>\n",
              "      <td>48.230769</td>\n",
              "      <td>1.692308</td>\n",
              "      <td>17.461538</td>\n",
              "      <td>25.769231</td>\n",
              "      <td>0.230769</td>\n",
              "      <td>0</td>\n",
              "    </tr>\n",
              "  </tbody>\n",
              "</table>\n",
              "</div>"
            ],
            "text/plain": [
              "   user_id  account_id  ...  avg_sms_replies  target\n",
              "0   410039       496.0  ...         0.250000       0\n",
              "1   410240       499.0  ...         0.000000       0\n",
              "2   411764       493.0  ...         0.000000       0\n",
              "3   411985       262.0  ...         0.000000       1\n",
              "4   412071       496.0  ...         0.230769       0\n",
              "\n",
              "[5 rows x 17 columns]"
            ]
          },
          "metadata": {
            "tags": []
          },
          "execution_count": 72
        }
      ]
    },
    {
      "cell_type": "code",
      "metadata": {
        "id": "H7Yo3ekSLn1u",
        "outputId": "afa3640a-585b-431b-94b2-b95bce57555b",
        "colab": {
          "base_uri": "https://localhost:8080/",
          "height": 323
        }
      },
      "source": [
        "df.isnull().sum()"
      ],
      "execution_count": 73,
      "outputs": [
        {
          "output_type": "execute_result",
          "data": {
            "text/plain": [
              "user_id                  0\n",
              "account_id               7\n",
              "max_return_days          0\n",
              "average_return_days      0\n",
              "customer_since_months    0\n",
              "total_revenue            0\n",
              "average_revenue          0\n",
              "avg_vas_count            0\n",
              "avg_used_vas_value       0\n",
              "business_type            0\n",
              "avg_wallet_bonus         0\n",
              "avg_active_ads           0\n",
              "avg_new_ads              0\n",
              "avg_email_replies        0\n",
              "avg_call_replies         0\n",
              "avg_sms_replies          0\n",
              "target                   0\n",
              "dtype: int64"
            ]
          },
          "metadata": {
            "tags": []
          },
          "execution_count": 73
        }
      ]
    },
    {
      "cell_type": "markdown",
      "metadata": {
        "id": "2G9f-oGQx7dV"
      },
      "source": [
        "Dropping the rows with missing values"
      ]
    },
    {
      "cell_type": "code",
      "metadata": {
        "id": "G8qa2xRSqvZC",
        "outputId": "8ba3c132-5a02-4744-c7ed-f216518b19d2",
        "colab": {
          "base_uri": "https://localhost:8080/",
          "height": 439
        }
      },
      "source": [
        "df.dropna(inplace=True)\n",
        "df.reset_index()"
      ],
      "execution_count": 74,
      "outputs": [
        {
          "output_type": "execute_result",
          "data": {
            "text/html": [
              "<div>\n",
              "<style scoped>\n",
              "    .dataframe tbody tr th:only-of-type {\n",
              "        vertical-align: middle;\n",
              "    }\n",
              "\n",
              "    .dataframe tbody tr th {\n",
              "        vertical-align: top;\n",
              "    }\n",
              "\n",
              "    .dataframe thead th {\n",
              "        text-align: right;\n",
              "    }\n",
              "</style>\n",
              "<table border=\"1\" class=\"dataframe\">\n",
              "  <thead>\n",
              "    <tr style=\"text-align: right;\">\n",
              "      <th></th>\n",
              "      <th>index</th>\n",
              "      <th>user_id</th>\n",
              "      <th>account_id</th>\n",
              "      <th>max_return_days</th>\n",
              "      <th>average_return_days</th>\n",
              "      <th>customer_since_months</th>\n",
              "      <th>total_revenue</th>\n",
              "      <th>average_revenue</th>\n",
              "      <th>avg_vas_count</th>\n",
              "      <th>avg_used_vas_value</th>\n",
              "      <th>business_type</th>\n",
              "      <th>avg_wallet_bonus</th>\n",
              "      <th>avg_active_ads</th>\n",
              "      <th>avg_new_ads</th>\n",
              "      <th>avg_email_replies</th>\n",
              "      <th>avg_call_replies</th>\n",
              "      <th>avg_sms_replies</th>\n",
              "      <th>target</th>\n",
              "    </tr>\n",
              "  </thead>\n",
              "  <tbody>\n",
              "    <tr>\n",
              "      <th>0</th>\n",
              "      <td>0</td>\n",
              "      <td>410039</td>\n",
              "      <td>496.0</td>\n",
              "      <td>8</td>\n",
              "      <td>1.500000</td>\n",
              "      <td>14</td>\n",
              "      <td>0.00</td>\n",
              "      <td>0.00</td>\n",
              "      <td>3.666667</td>\n",
              "      <td>66.666667</td>\n",
              "      <td>0</td>\n",
              "      <td>300.0</td>\n",
              "      <td>79.333333</td>\n",
              "      <td>15.250000</td>\n",
              "      <td>32.416667</td>\n",
              "      <td>27.916667</td>\n",
              "      <td>0.250000</td>\n",
              "      <td>0</td>\n",
              "    </tr>\n",
              "    <tr>\n",
              "      <th>1</th>\n",
              "      <td>1</td>\n",
              "      <td>410240</td>\n",
              "      <td>499.0</td>\n",
              "      <td>37</td>\n",
              "      <td>8.200000</td>\n",
              "      <td>10</td>\n",
              "      <td>0.00</td>\n",
              "      <td>0.00</td>\n",
              "      <td>4.900000</td>\n",
              "      <td>114.000000</td>\n",
              "      <td>0</td>\n",
              "      <td>0.0</td>\n",
              "      <td>232.100000</td>\n",
              "      <td>18.300000</td>\n",
              "      <td>16.200000</td>\n",
              "      <td>13.800000</td>\n",
              "      <td>0.000000</td>\n",
              "      <td>0</td>\n",
              "    </tr>\n",
              "    <tr>\n",
              "      <th>2</th>\n",
              "      <td>2</td>\n",
              "      <td>411764</td>\n",
              "      <td>493.0</td>\n",
              "      <td>9</td>\n",
              "      <td>1.533333</td>\n",
              "      <td>15</td>\n",
              "      <td>0.00</td>\n",
              "      <td>0.00</td>\n",
              "      <td>5.333333</td>\n",
              "      <td>106.666667</td>\n",
              "      <td>0</td>\n",
              "      <td>150.0</td>\n",
              "      <td>55.083333</td>\n",
              "      <td>3.750000</td>\n",
              "      <td>20.250000</td>\n",
              "      <td>24.500000</td>\n",
              "      <td>0.000000</td>\n",
              "      <td>0</td>\n",
              "    </tr>\n",
              "    <tr>\n",
              "      <th>3</th>\n",
              "      <td>3</td>\n",
              "      <td>411985</td>\n",
              "      <td>262.0</td>\n",
              "      <td>1</td>\n",
              "      <td>1.000000</td>\n",
              "      <td>14</td>\n",
              "      <td>0.00</td>\n",
              "      <td>0.00</td>\n",
              "      <td>6.307692</td>\n",
              "      <td>176.153846</td>\n",
              "      <td>0</td>\n",
              "      <td>1481.0</td>\n",
              "      <td>409.538462</td>\n",
              "      <td>80.769231</td>\n",
              "      <td>87.461538</td>\n",
              "      <td>57.615385</td>\n",
              "      <td>0.000000</td>\n",
              "      <td>1</td>\n",
              "    </tr>\n",
              "    <tr>\n",
              "      <th>4</th>\n",
              "      <td>4</td>\n",
              "      <td>412071</td>\n",
              "      <td>496.0</td>\n",
              "      <td>1</td>\n",
              "      <td>1.000000</td>\n",
              "      <td>18</td>\n",
              "      <td>0.00</td>\n",
              "      <td>0.00</td>\n",
              "      <td>5.846154</td>\n",
              "      <td>109.230769</td>\n",
              "      <td>0</td>\n",
              "      <td>41.5</td>\n",
              "      <td>48.230769</td>\n",
              "      <td>1.692308</td>\n",
              "      <td>17.461538</td>\n",
              "      <td>25.769231</td>\n",
              "      <td>0.230769</td>\n",
              "      <td>0</td>\n",
              "    </tr>\n",
              "    <tr>\n",
              "      <th>...</th>\n",
              "      <td>...</td>\n",
              "      <td>...</td>\n",
              "      <td>...</td>\n",
              "      <td>...</td>\n",
              "      <td>...</td>\n",
              "      <td>...</td>\n",
              "      <td>...</td>\n",
              "      <td>...</td>\n",
              "      <td>...</td>\n",
              "      <td>...</td>\n",
              "      <td>...</td>\n",
              "      <td>...</td>\n",
              "      <td>...</td>\n",
              "      <td>...</td>\n",
              "      <td>...</td>\n",
              "      <td>...</td>\n",
              "      <td>...</td>\n",
              "      <td>...</td>\n",
              "    </tr>\n",
              "    <tr>\n",
              "      <th>4395</th>\n",
              "      <td>4402</td>\n",
              "      <td>73498690100</td>\n",
              "      <td>113.0</td>\n",
              "      <td>1</td>\n",
              "      <td>1.000000</td>\n",
              "      <td>4</td>\n",
              "      <td>0.00</td>\n",
              "      <td>0.00</td>\n",
              "      <td>0.000000</td>\n",
              "      <td>0.000000</td>\n",
              "      <td>3</td>\n",
              "      <td>0.0</td>\n",
              "      <td>4.666667</td>\n",
              "      <td>2.000000</td>\n",
              "      <td>9.666667</td>\n",
              "      <td>14.666667</td>\n",
              "      <td>0.333333</td>\n",
              "      <td>0</td>\n",
              "    </tr>\n",
              "    <tr>\n",
              "      <th>4396</th>\n",
              "      <td>4403</td>\n",
              "      <td>73519239100</td>\n",
              "      <td>1017.0</td>\n",
              "      <td>1</td>\n",
              "      <td>1.000000</td>\n",
              "      <td>2</td>\n",
              "      <td>0.00</td>\n",
              "      <td>0.00</td>\n",
              "      <td>0.000000</td>\n",
              "      <td>0.000000</td>\n",
              "      <td>4</td>\n",
              "      <td>0.0</td>\n",
              "      <td>153.000000</td>\n",
              "      <td>76.500000</td>\n",
              "      <td>9.000000</td>\n",
              "      <td>11.500000</td>\n",
              "      <td>0.000000</td>\n",
              "      <td>0</td>\n",
              "    </tr>\n",
              "    <tr>\n",
              "      <th>4397</th>\n",
              "      <td>4404</td>\n",
              "      <td>73525763100</td>\n",
              "      <td>226.0</td>\n",
              "      <td>1</td>\n",
              "      <td>1.000000</td>\n",
              "      <td>2</td>\n",
              "      <td>0.00</td>\n",
              "      <td>0.00</td>\n",
              "      <td>0.000000</td>\n",
              "      <td>0.000000</td>\n",
              "      <td>1</td>\n",
              "      <td>0.0</td>\n",
              "      <td>0.000000</td>\n",
              "      <td>0.000000</td>\n",
              "      <td>0.000000</td>\n",
              "      <td>0.000000</td>\n",
              "      <td>0.000000</td>\n",
              "      <td>0</td>\n",
              "    </tr>\n",
              "    <tr>\n",
              "      <th>4398</th>\n",
              "      <td>4405</td>\n",
              "      <td>73538605100</td>\n",
              "      <td>226.0</td>\n",
              "      <td>1</td>\n",
              "      <td>1.000000</td>\n",
              "      <td>2</td>\n",
              "      <td>551.19</td>\n",
              "      <td>551.19</td>\n",
              "      <td>7.000000</td>\n",
              "      <td>70.000000</td>\n",
              "      <td>1</td>\n",
              "      <td>0.0</td>\n",
              "      <td>17.000000</td>\n",
              "      <td>17.000000</td>\n",
              "      <td>10.000000</td>\n",
              "      <td>8.000000</td>\n",
              "      <td>0.000000</td>\n",
              "      <td>0</td>\n",
              "    </tr>\n",
              "    <tr>\n",
              "      <th>4399</th>\n",
              "      <td>4406</td>\n",
              "      <td>73560305100</td>\n",
              "      <td>1017.0</td>\n",
              "      <td>1</td>\n",
              "      <td>1.000000</td>\n",
              "      <td>4</td>\n",
              "      <td>0.00</td>\n",
              "      <td>0.00</td>\n",
              "      <td>0.000000</td>\n",
              "      <td>0.000000</td>\n",
              "      <td>0</td>\n",
              "      <td>240.0</td>\n",
              "      <td>1.000000</td>\n",
              "      <td>1.000000</td>\n",
              "      <td>0.000000</td>\n",
              "      <td>0.000000</td>\n",
              "      <td>0.000000</td>\n",
              "      <td>0</td>\n",
              "    </tr>\n",
              "  </tbody>\n",
              "</table>\n",
              "<p>4400 rows × 18 columns</p>\n",
              "</div>"
            ],
            "text/plain": [
              "      index      user_id  account_id  ...  avg_call_replies  avg_sms_replies  target\n",
              "0         0       410039       496.0  ...         27.916667         0.250000       0\n",
              "1         1       410240       499.0  ...         13.800000         0.000000       0\n",
              "2         2       411764       493.0  ...         24.500000         0.000000       0\n",
              "3         3       411985       262.0  ...         57.615385         0.000000       1\n",
              "4         4       412071       496.0  ...         25.769231         0.230769       0\n",
              "...     ...          ...         ...  ...               ...              ...     ...\n",
              "4395   4402  73498690100       113.0  ...         14.666667         0.333333       0\n",
              "4396   4403  73519239100      1017.0  ...         11.500000         0.000000       0\n",
              "4397   4404  73525763100       226.0  ...          0.000000         0.000000       0\n",
              "4398   4405  73538605100       226.0  ...          8.000000         0.000000       0\n",
              "4399   4406  73560305100      1017.0  ...          0.000000         0.000000       0\n",
              "\n",
              "[4400 rows x 18 columns]"
            ]
          },
          "metadata": {
            "tags": []
          },
          "execution_count": 74
        }
      ]
    },
    {
      "cell_type": "code",
      "metadata": {
        "id": "8FTtAFCtLoAn",
        "outputId": "ee106c79-ee87-4e31-f0ed-ff9416773284",
        "colab": {
          "base_uri": "https://localhost:8080/",
          "height": 51
        }
      },
      "source": [
        "print(\"Unique accounts : \",df['account_id'].nunique())\n",
        "print(\"Unique Users : \",df['user_id'].nunique() )"
      ],
      "execution_count": 75,
      "outputs": [
        {
          "output_type": "stream",
          "text": [
            "Unique accounts :  15\n",
            "Unique Users :  4400\n"
          ],
          "name": "stdout"
        }
      ]
    },
    {
      "cell_type": "code",
      "metadata": {
        "id": "UvrT3nXjywht",
        "outputId": "7db3cd7b-584d-4881-8448-adad42130371",
        "colab": {
          "base_uri": "https://localhost:8080/",
          "height": 289
        }
      },
      "source": [
        "df['account_id'].value_counts()"
      ],
      "execution_count": 76,
      "outputs": [
        {
          "output_type": "execute_result",
          "data": {
            "text/plain": [
              "1005.0    684\n",
              "493.0     483\n",
              "499.0     467\n",
              "496.0     467\n",
              "262.0     438\n",
              "1017.0    436\n",
              "113.0     290\n",
              "226.0     275\n",
              "111.0     248\n",
              "112.0     148\n",
              "364.0     134\n",
              "517.0     112\n",
              "202.0     111\n",
              "115.0      73\n",
              "116.0      34\n",
              "Name: account_id, dtype: int64"
            ]
          },
          "metadata": {
            "tags": []
          },
          "execution_count": 76
        }
      ]
    },
    {
      "cell_type": "code",
      "metadata": {
        "id": "DFTUVB9tLoKG",
        "outputId": "db6f249f-dad9-4cd2-dbec-bcc1defd9040",
        "colab": {
          "base_uri": "https://localhost:8080/",
          "height": 34
        }
      },
      "source": [
        "df.shape"
      ],
      "execution_count": 77,
      "outputs": [
        {
          "output_type": "execute_result",
          "data": {
            "text/plain": [
              "(4400, 17)"
            ]
          },
          "metadata": {
            "tags": []
          },
          "execution_count": 77
        }
      ]
    },
    {
      "cell_type": "code",
      "metadata": {
        "id": "a3fVaFD8EYyQ",
        "outputId": "2c4ce61c-9366-4d39-946a-81cc8b134aa0",
        "colab": {
          "base_uri": "https://localhost:8080/",
          "height": 255
        }
      },
      "source": [
        "df.index = df['user_id']\n",
        "df.drop('user_id',axis=1,inplace=True)\n",
        "df.head()"
      ],
      "execution_count": 78,
      "outputs": [
        {
          "output_type": "execute_result",
          "data": {
            "text/html": [
              "<div>\n",
              "<style scoped>\n",
              "    .dataframe tbody tr th:only-of-type {\n",
              "        vertical-align: middle;\n",
              "    }\n",
              "\n",
              "    .dataframe tbody tr th {\n",
              "        vertical-align: top;\n",
              "    }\n",
              "\n",
              "    .dataframe thead th {\n",
              "        text-align: right;\n",
              "    }\n",
              "</style>\n",
              "<table border=\"1\" class=\"dataframe\">\n",
              "  <thead>\n",
              "    <tr style=\"text-align: right;\">\n",
              "      <th></th>\n",
              "      <th>account_id</th>\n",
              "      <th>max_return_days</th>\n",
              "      <th>average_return_days</th>\n",
              "      <th>customer_since_months</th>\n",
              "      <th>total_revenue</th>\n",
              "      <th>average_revenue</th>\n",
              "      <th>avg_vas_count</th>\n",
              "      <th>avg_used_vas_value</th>\n",
              "      <th>business_type</th>\n",
              "      <th>avg_wallet_bonus</th>\n",
              "      <th>avg_active_ads</th>\n",
              "      <th>avg_new_ads</th>\n",
              "      <th>avg_email_replies</th>\n",
              "      <th>avg_call_replies</th>\n",
              "      <th>avg_sms_replies</th>\n",
              "      <th>target</th>\n",
              "    </tr>\n",
              "    <tr>\n",
              "      <th>user_id</th>\n",
              "      <th></th>\n",
              "      <th></th>\n",
              "      <th></th>\n",
              "      <th></th>\n",
              "      <th></th>\n",
              "      <th></th>\n",
              "      <th></th>\n",
              "      <th></th>\n",
              "      <th></th>\n",
              "      <th></th>\n",
              "      <th></th>\n",
              "      <th></th>\n",
              "      <th></th>\n",
              "      <th></th>\n",
              "      <th></th>\n",
              "      <th></th>\n",
              "    </tr>\n",
              "  </thead>\n",
              "  <tbody>\n",
              "    <tr>\n",
              "      <th>410039</th>\n",
              "      <td>496.0</td>\n",
              "      <td>8</td>\n",
              "      <td>1.500000</td>\n",
              "      <td>14</td>\n",
              "      <td>0.0</td>\n",
              "      <td>0.0</td>\n",
              "      <td>3.666667</td>\n",
              "      <td>66.666667</td>\n",
              "      <td>0</td>\n",
              "      <td>300.0</td>\n",
              "      <td>79.333333</td>\n",
              "      <td>15.250000</td>\n",
              "      <td>32.416667</td>\n",
              "      <td>27.916667</td>\n",
              "      <td>0.250000</td>\n",
              "      <td>0</td>\n",
              "    </tr>\n",
              "    <tr>\n",
              "      <th>410240</th>\n",
              "      <td>499.0</td>\n",
              "      <td>37</td>\n",
              "      <td>8.200000</td>\n",
              "      <td>10</td>\n",
              "      <td>0.0</td>\n",
              "      <td>0.0</td>\n",
              "      <td>4.900000</td>\n",
              "      <td>114.000000</td>\n",
              "      <td>0</td>\n",
              "      <td>0.0</td>\n",
              "      <td>232.100000</td>\n",
              "      <td>18.300000</td>\n",
              "      <td>16.200000</td>\n",
              "      <td>13.800000</td>\n",
              "      <td>0.000000</td>\n",
              "      <td>0</td>\n",
              "    </tr>\n",
              "    <tr>\n",
              "      <th>411764</th>\n",
              "      <td>493.0</td>\n",
              "      <td>9</td>\n",
              "      <td>1.533333</td>\n",
              "      <td>15</td>\n",
              "      <td>0.0</td>\n",
              "      <td>0.0</td>\n",
              "      <td>5.333333</td>\n",
              "      <td>106.666667</td>\n",
              "      <td>0</td>\n",
              "      <td>150.0</td>\n",
              "      <td>55.083333</td>\n",
              "      <td>3.750000</td>\n",
              "      <td>20.250000</td>\n",
              "      <td>24.500000</td>\n",
              "      <td>0.000000</td>\n",
              "      <td>0</td>\n",
              "    </tr>\n",
              "    <tr>\n",
              "      <th>411985</th>\n",
              "      <td>262.0</td>\n",
              "      <td>1</td>\n",
              "      <td>1.000000</td>\n",
              "      <td>14</td>\n",
              "      <td>0.0</td>\n",
              "      <td>0.0</td>\n",
              "      <td>6.307692</td>\n",
              "      <td>176.153846</td>\n",
              "      <td>0</td>\n",
              "      <td>1481.0</td>\n",
              "      <td>409.538462</td>\n",
              "      <td>80.769231</td>\n",
              "      <td>87.461538</td>\n",
              "      <td>57.615385</td>\n",
              "      <td>0.000000</td>\n",
              "      <td>1</td>\n",
              "    </tr>\n",
              "    <tr>\n",
              "      <th>412071</th>\n",
              "      <td>496.0</td>\n",
              "      <td>1</td>\n",
              "      <td>1.000000</td>\n",
              "      <td>18</td>\n",
              "      <td>0.0</td>\n",
              "      <td>0.0</td>\n",
              "      <td>5.846154</td>\n",
              "      <td>109.230769</td>\n",
              "      <td>0</td>\n",
              "      <td>41.5</td>\n",
              "      <td>48.230769</td>\n",
              "      <td>1.692308</td>\n",
              "      <td>17.461538</td>\n",
              "      <td>25.769231</td>\n",
              "      <td>0.230769</td>\n",
              "      <td>0</td>\n",
              "    </tr>\n",
              "  </tbody>\n",
              "</table>\n",
              "</div>"
            ],
            "text/plain": [
              "         account_id  max_return_days  ...  avg_sms_replies  target\n",
              "user_id                               ...                         \n",
              "410039        496.0                8  ...         0.250000       0\n",
              "410240        499.0               37  ...         0.000000       0\n",
              "411764        493.0                9  ...         0.000000       0\n",
              "411985        262.0                1  ...         0.000000       1\n",
              "412071        496.0                1  ...         0.230769       0\n",
              "\n",
              "[5 rows x 16 columns]"
            ]
          },
          "metadata": {
            "tags": []
          },
          "execution_count": 78
        }
      ]
    },
    {
      "cell_type": "code",
      "metadata": {
        "id": "JHYL-5VfyEde",
        "outputId": "cdd479ad-9ae1-40d3-9d4c-d5f69a925c4e",
        "colab": {
          "base_uri": "https://localhost:8080/",
          "height": 545
        }
      },
      "source": [
        "df.describe().T"
      ],
      "execution_count": 79,
      "outputs": [
        {
          "output_type": "execute_result",
          "data": {
            "text/html": [
              "<div>\n",
              "<style scoped>\n",
              "    .dataframe tbody tr th:only-of-type {\n",
              "        vertical-align: middle;\n",
              "    }\n",
              "\n",
              "    .dataframe tbody tr th {\n",
              "        vertical-align: top;\n",
              "    }\n",
              "\n",
              "    .dataframe thead th {\n",
              "        text-align: right;\n",
              "    }\n",
              "</style>\n",
              "<table border=\"1\" class=\"dataframe\">\n",
              "  <thead>\n",
              "    <tr style=\"text-align: right;\">\n",
              "      <th></th>\n",
              "      <th>count</th>\n",
              "      <th>mean</th>\n",
              "      <th>std</th>\n",
              "      <th>min</th>\n",
              "      <th>25%</th>\n",
              "      <th>50%</th>\n",
              "      <th>75%</th>\n",
              "      <th>max</th>\n",
              "    </tr>\n",
              "  </thead>\n",
              "  <tbody>\n",
              "    <tr>\n",
              "      <th>account_id</th>\n",
              "      <td>4400.0</td>\n",
              "      <td>506.553864</td>\n",
              "      <td>326.072756</td>\n",
              "      <td>111.0</td>\n",
              "      <td>226.000000</td>\n",
              "      <td>493.000000</td>\n",
              "      <td>1005.000000</td>\n",
              "      <td>1017.000000</td>\n",
              "    </tr>\n",
              "    <tr>\n",
              "      <th>max_return_days</th>\n",
              "      <td>4400.0</td>\n",
              "      <td>22.362500</td>\n",
              "      <td>43.618703</td>\n",
              "      <td>1.0</td>\n",
              "      <td>1.000000</td>\n",
              "      <td>2.000000</td>\n",
              "      <td>30.000000</td>\n",
              "      <td>354.000000</td>\n",
              "    </tr>\n",
              "    <tr>\n",
              "      <th>average_return_days</th>\n",
              "      <td>4400.0</td>\n",
              "      <td>7.174561</td>\n",
              "      <td>19.219665</td>\n",
              "      <td>0.5</td>\n",
              "      <td>1.000000</td>\n",
              "      <td>1.076923</td>\n",
              "      <td>5.666667</td>\n",
              "      <td>354.000000</td>\n",
              "    </tr>\n",
              "    <tr>\n",
              "      <th>customer_since_months</th>\n",
              "      <td>4400.0</td>\n",
              "      <td>9.884545</td>\n",
              "      <td>5.163509</td>\n",
              "      <td>1.0</td>\n",
              "      <td>5.000000</td>\n",
              "      <td>12.000000</td>\n",
              "      <td>14.000000</td>\n",
              "      <td>24.000000</td>\n",
              "    </tr>\n",
              "    <tr>\n",
              "      <th>total_revenue</th>\n",
              "      <td>4400.0</td>\n",
              "      <td>194.439208</td>\n",
              "      <td>1549.573607</td>\n",
              "      <td>0.0</td>\n",
              "      <td>0.000000</td>\n",
              "      <td>0.000000</td>\n",
              "      <td>0.000000</td>\n",
              "      <td>43957.172700</td>\n",
              "    </tr>\n",
              "    <tr>\n",
              "      <th>average_revenue</th>\n",
              "      <td>4400.0</td>\n",
              "      <td>16.969570</td>\n",
              "      <td>128.369056</td>\n",
              "      <td>0.0</td>\n",
              "      <td>0.000000</td>\n",
              "      <td>0.000000</td>\n",
              "      <td>0.000000</td>\n",
              "      <td>3852.727273</td>\n",
              "    </tr>\n",
              "    <tr>\n",
              "      <th>avg_vas_count</th>\n",
              "      <td>4400.0</td>\n",
              "      <td>3.253853</td>\n",
              "      <td>5.512943</td>\n",
              "      <td>0.0</td>\n",
              "      <td>0.153846</td>\n",
              "      <td>2.000000</td>\n",
              "      <td>4.358766</td>\n",
              "      <td>156.583333</td>\n",
              "    </tr>\n",
              "    <tr>\n",
              "      <th>avg_used_vas_value</th>\n",
              "      <td>4400.0</td>\n",
              "      <td>72.217150</td>\n",
              "      <td>117.082250</td>\n",
              "      <td>0.0</td>\n",
              "      <td>2.964286</td>\n",
              "      <td>45.000000</td>\n",
              "      <td>100.000000</td>\n",
              "      <td>3357.500000</td>\n",
              "    </tr>\n",
              "    <tr>\n",
              "      <th>business_type</th>\n",
              "      <td>4400.0</td>\n",
              "      <td>0.496591</td>\n",
              "      <td>1.198236</td>\n",
              "      <td>0.0</td>\n",
              "      <td>0.000000</td>\n",
              "      <td>0.000000</td>\n",
              "      <td>0.000000</td>\n",
              "      <td>5.000000</td>\n",
              "    </tr>\n",
              "    <tr>\n",
              "      <th>avg_wallet_bonus</th>\n",
              "      <td>4400.0</td>\n",
              "      <td>339.299218</td>\n",
              "      <td>832.312947</td>\n",
              "      <td>0.0</td>\n",
              "      <td>0.000000</td>\n",
              "      <td>41.500000</td>\n",
              "      <td>328.275000</td>\n",
              "      <td>15606.500000</td>\n",
              "    </tr>\n",
              "    <tr>\n",
              "      <th>avg_active_ads</th>\n",
              "      <td>4400.0</td>\n",
              "      <td>98.992841</td>\n",
              "      <td>297.898133</td>\n",
              "      <td>0.0</td>\n",
              "      <td>13.538462</td>\n",
              "      <td>40.000000</td>\n",
              "      <td>101.333333</td>\n",
              "      <td>9183.866667</td>\n",
              "    </tr>\n",
              "    <tr>\n",
              "      <th>avg_new_ads</th>\n",
              "      <td>4400.0</td>\n",
              "      <td>16.768863</td>\n",
              "      <td>67.975094</td>\n",
              "      <td>0.0</td>\n",
              "      <td>2.500000</td>\n",
              "      <td>6.333333</td>\n",
              "      <td>14.250000</td>\n",
              "      <td>2606.000000</td>\n",
              "    </tr>\n",
              "    <tr>\n",
              "      <th>avg_email_replies</th>\n",
              "      <td>4400.0</td>\n",
              "      <td>25.711065</td>\n",
              "      <td>55.361244</td>\n",
              "      <td>0.0</td>\n",
              "      <td>4.490385</td>\n",
              "      <td>12.307692</td>\n",
              "      <td>28.000000</td>\n",
              "      <td>1716.400000</td>\n",
              "    </tr>\n",
              "    <tr>\n",
              "      <th>avg_call_replies</th>\n",
              "      <td>4400.0</td>\n",
              "      <td>27.655640</td>\n",
              "      <td>61.110202</td>\n",
              "      <td>0.0</td>\n",
              "      <td>4.412500</td>\n",
              "      <td>13.000000</td>\n",
              "      <td>30.804545</td>\n",
              "      <td>1743.266667</td>\n",
              "    </tr>\n",
              "    <tr>\n",
              "      <th>avg_sms_replies</th>\n",
              "      <td>4400.0</td>\n",
              "      <td>0.162266</td>\n",
              "      <td>0.518064</td>\n",
              "      <td>0.0</td>\n",
              "      <td>0.000000</td>\n",
              "      <td>0.000000</td>\n",
              "      <td>0.153846</td>\n",
              "      <td>14.636364</td>\n",
              "    </tr>\n",
              "    <tr>\n",
              "      <th>target</th>\n",
              "      <td>4400.0</td>\n",
              "      <td>0.103182</td>\n",
              "      <td>0.304231</td>\n",
              "      <td>0.0</td>\n",
              "      <td>0.000000</td>\n",
              "      <td>0.000000</td>\n",
              "      <td>0.000000</td>\n",
              "      <td>1.000000</td>\n",
              "    </tr>\n",
              "  </tbody>\n",
              "</table>\n",
              "</div>"
            ],
            "text/plain": [
              "                        count        mean  ...          75%           max\n",
              "account_id             4400.0  506.553864  ...  1005.000000   1017.000000\n",
              "max_return_days        4400.0   22.362500  ...    30.000000    354.000000\n",
              "average_return_days    4400.0    7.174561  ...     5.666667    354.000000\n",
              "customer_since_months  4400.0    9.884545  ...    14.000000     24.000000\n",
              "total_revenue          4400.0  194.439208  ...     0.000000  43957.172700\n",
              "average_revenue        4400.0   16.969570  ...     0.000000   3852.727273\n",
              "avg_vas_count          4400.0    3.253853  ...     4.358766    156.583333\n",
              "avg_used_vas_value     4400.0   72.217150  ...   100.000000   3357.500000\n",
              "business_type          4400.0    0.496591  ...     0.000000      5.000000\n",
              "avg_wallet_bonus       4400.0  339.299218  ...   328.275000  15606.500000\n",
              "avg_active_ads         4400.0   98.992841  ...   101.333333   9183.866667\n",
              "avg_new_ads            4400.0   16.768863  ...    14.250000   2606.000000\n",
              "avg_email_replies      4400.0   25.711065  ...    28.000000   1716.400000\n",
              "avg_call_replies       4400.0   27.655640  ...    30.804545   1743.266667\n",
              "avg_sms_replies        4400.0    0.162266  ...     0.153846     14.636364\n",
              "target                 4400.0    0.103182  ...     0.000000      1.000000\n",
              "\n",
              "[16 rows x 8 columns]"
            ]
          },
          "metadata": {
            "tags": []
          },
          "execution_count": 79
        }
      ]
    },
    {
      "cell_type": "code",
      "metadata": {
        "id": "z-chQxfWEk_0",
        "outputId": "4c2b2d94-41d6-4eaa-ca9f-57aa3d7a380f",
        "colab": {
          "base_uri": "https://localhost:8080/",
          "height": 565
        }
      },
      "source": [
        "df.corr()"
      ],
      "execution_count": 80,
      "outputs": [
        {
          "output_type": "execute_result",
          "data": {
            "text/html": [
              "<div>\n",
              "<style scoped>\n",
              "    .dataframe tbody tr th:only-of-type {\n",
              "        vertical-align: middle;\n",
              "    }\n",
              "\n",
              "    .dataframe tbody tr th {\n",
              "        vertical-align: top;\n",
              "    }\n",
              "\n",
              "    .dataframe thead th {\n",
              "        text-align: right;\n",
              "    }\n",
              "</style>\n",
              "<table border=\"1\" class=\"dataframe\">\n",
              "  <thead>\n",
              "    <tr style=\"text-align: right;\">\n",
              "      <th></th>\n",
              "      <th>account_id</th>\n",
              "      <th>max_return_days</th>\n",
              "      <th>average_return_days</th>\n",
              "      <th>customer_since_months</th>\n",
              "      <th>total_revenue</th>\n",
              "      <th>average_revenue</th>\n",
              "      <th>avg_vas_count</th>\n",
              "      <th>avg_used_vas_value</th>\n",
              "      <th>business_type</th>\n",
              "      <th>avg_wallet_bonus</th>\n",
              "      <th>avg_active_ads</th>\n",
              "      <th>avg_new_ads</th>\n",
              "      <th>avg_email_replies</th>\n",
              "      <th>avg_call_replies</th>\n",
              "      <th>avg_sms_replies</th>\n",
              "      <th>target</th>\n",
              "    </tr>\n",
              "  </thead>\n",
              "  <tbody>\n",
              "    <tr>\n",
              "      <th>account_id</th>\n",
              "      <td>1.000000</td>\n",
              "      <td>0.186045</td>\n",
              "      <td>0.114084</td>\n",
              "      <td>-0.138623</td>\n",
              "      <td>-0.056088</td>\n",
              "      <td>-0.063251</td>\n",
              "      <td>-0.123744</td>\n",
              "      <td>-0.137692</td>\n",
              "      <td>-0.023560</td>\n",
              "      <td>-0.115246</td>\n",
              "      <td>-0.104818</td>\n",
              "      <td>-0.049433</td>\n",
              "      <td>-0.111508</td>\n",
              "      <td>-0.115326</td>\n",
              "      <td>-0.082611</td>\n",
              "      <td>0.121939</td>\n",
              "    </tr>\n",
              "    <tr>\n",
              "      <th>max_return_days</th>\n",
              "      <td>0.186045</td>\n",
              "      <td>1.000000</td>\n",
              "      <td>0.749133</td>\n",
              "      <td>-0.187866</td>\n",
              "      <td>-0.001889</td>\n",
              "      <td>0.013184</td>\n",
              "      <td>-0.112382</td>\n",
              "      <td>-0.119129</td>\n",
              "      <td>-0.018485</td>\n",
              "      <td>-0.131552</td>\n",
              "      <td>-0.042902</td>\n",
              "      <td>-0.009146</td>\n",
              "      <td>-0.075940</td>\n",
              "      <td>-0.079302</td>\n",
              "      <td>-0.050359</td>\n",
              "      <td>0.275500</td>\n",
              "    </tr>\n",
              "    <tr>\n",
              "      <th>average_return_days</th>\n",
              "      <td>0.114084</td>\n",
              "      <td>0.749133</td>\n",
              "      <td>1.000000</td>\n",
              "      <td>-0.257220</td>\n",
              "      <td>-0.014447</td>\n",
              "      <td>-0.006567</td>\n",
              "      <td>-0.108128</td>\n",
              "      <td>-0.114067</td>\n",
              "      <td>0.027346</td>\n",
              "      <td>-0.103593</td>\n",
              "      <td>-0.047031</td>\n",
              "      <td>-0.017632</td>\n",
              "      <td>-0.070784</td>\n",
              "      <td>-0.070982</td>\n",
              "      <td>-0.038793</td>\n",
              "      <td>0.166119</td>\n",
              "    </tr>\n",
              "    <tr>\n",
              "      <th>customer_since_months</th>\n",
              "      <td>-0.138623</td>\n",
              "      <td>-0.187866</td>\n",
              "      <td>-0.257220</td>\n",
              "      <td>1.000000</td>\n",
              "      <td>0.090466</td>\n",
              "      <td>0.063811</td>\n",
              "      <td>0.320958</td>\n",
              "      <td>0.350325</td>\n",
              "      <td>-0.217427</td>\n",
              "      <td>0.351896</td>\n",
              "      <td>0.138805</td>\n",
              "      <td>0.020578</td>\n",
              "      <td>0.206001</td>\n",
              "      <td>0.206257</td>\n",
              "      <td>0.122789</td>\n",
              "      <td>-0.235238</td>\n",
              "    </tr>\n",
              "    <tr>\n",
              "      <th>total_revenue</th>\n",
              "      <td>-0.056088</td>\n",
              "      <td>-0.001889</td>\n",
              "      <td>-0.014447</td>\n",
              "      <td>0.090466</td>\n",
              "      <td>1.000000</td>\n",
              "      <td>0.950357</td>\n",
              "      <td>0.608638</td>\n",
              "      <td>0.642191</td>\n",
              "      <td>-0.017400</td>\n",
              "      <td>0.075885</td>\n",
              "      <td>0.341788</td>\n",
              "      <td>0.131101</td>\n",
              "      <td>0.214032</td>\n",
              "      <td>0.214258</td>\n",
              "      <td>0.213352</td>\n",
              "      <td>-0.032580</td>\n",
              "    </tr>\n",
              "    <tr>\n",
              "      <th>average_revenue</th>\n",
              "      <td>-0.063251</td>\n",
              "      <td>0.013184</td>\n",
              "      <td>-0.006567</td>\n",
              "      <td>0.063811</td>\n",
              "      <td>0.950357</td>\n",
              "      <td>1.000000</td>\n",
              "      <td>0.586291</td>\n",
              "      <td>0.612613</td>\n",
              "      <td>-0.001530</td>\n",
              "      <td>0.070007</td>\n",
              "      <td>0.354482</td>\n",
              "      <td>0.132759</td>\n",
              "      <td>0.209668</td>\n",
              "      <td>0.209233</td>\n",
              "      <td>0.214889</td>\n",
              "      <td>-0.025354</td>\n",
              "    </tr>\n",
              "    <tr>\n",
              "      <th>avg_vas_count</th>\n",
              "      <td>-0.123744</td>\n",
              "      <td>-0.112382</td>\n",
              "      <td>-0.108128</td>\n",
              "      <td>0.320958</td>\n",
              "      <td>0.608638</td>\n",
              "      <td>0.586291</td>\n",
              "      <td>1.000000</td>\n",
              "      <td>0.962294</td>\n",
              "      <td>-0.119417</td>\n",
              "      <td>0.130987</td>\n",
              "      <td>0.413871</td>\n",
              "      <td>0.192561</td>\n",
              "      <td>0.360600</td>\n",
              "      <td>0.342573</td>\n",
              "      <td>0.240456</td>\n",
              "      <td>-0.117154</td>\n",
              "    </tr>\n",
              "    <tr>\n",
              "      <th>avg_used_vas_value</th>\n",
              "      <td>-0.137692</td>\n",
              "      <td>-0.119129</td>\n",
              "      <td>-0.114067</td>\n",
              "      <td>0.350325</td>\n",
              "      <td>0.642191</td>\n",
              "      <td>0.612613</td>\n",
              "      <td>0.962294</td>\n",
              "      <td>1.000000</td>\n",
              "      <td>-0.119371</td>\n",
              "      <td>0.156046</td>\n",
              "      <td>0.407629</td>\n",
              "      <td>0.186521</td>\n",
              "      <td>0.362861</td>\n",
              "      <td>0.347016</td>\n",
              "      <td>0.244097</td>\n",
              "      <td>-0.128464</td>\n",
              "    </tr>\n",
              "    <tr>\n",
              "      <th>business_type</th>\n",
              "      <td>-0.023560</td>\n",
              "      <td>-0.018485</td>\n",
              "      <td>0.027346</td>\n",
              "      <td>-0.217427</td>\n",
              "      <td>-0.017400</td>\n",
              "      <td>-0.001530</td>\n",
              "      <td>-0.119417</td>\n",
              "      <td>-0.119371</td>\n",
              "      <td>1.000000</td>\n",
              "      <td>-0.107314</td>\n",
              "      <td>-0.076037</td>\n",
              "      <td>-0.004429</td>\n",
              "      <td>-0.050023</td>\n",
              "      <td>-0.053766</td>\n",
              "      <td>0.005707</td>\n",
              "      <td>0.005954</td>\n",
              "    </tr>\n",
              "    <tr>\n",
              "      <th>avg_wallet_bonus</th>\n",
              "      <td>-0.115246</td>\n",
              "      <td>-0.131552</td>\n",
              "      <td>-0.103593</td>\n",
              "      <td>0.351896</td>\n",
              "      <td>0.075885</td>\n",
              "      <td>0.070007</td>\n",
              "      <td>0.130987</td>\n",
              "      <td>0.156046</td>\n",
              "      <td>-0.107314</td>\n",
              "      <td>1.000000</td>\n",
              "      <td>0.256529</td>\n",
              "      <td>0.121930</td>\n",
              "      <td>0.273732</td>\n",
              "      <td>0.284304</td>\n",
              "      <td>0.237666</td>\n",
              "      <td>-0.076783</td>\n",
              "    </tr>\n",
              "    <tr>\n",
              "      <th>avg_active_ads</th>\n",
              "      <td>-0.104818</td>\n",
              "      <td>-0.042902</td>\n",
              "      <td>-0.047031</td>\n",
              "      <td>0.138805</td>\n",
              "      <td>0.341788</td>\n",
              "      <td>0.354482</td>\n",
              "      <td>0.413871</td>\n",
              "      <td>0.407629</td>\n",
              "      <td>-0.076037</td>\n",
              "      <td>0.256529</td>\n",
              "      <td>1.000000</td>\n",
              "      <td>0.651254</td>\n",
              "      <td>0.704153</td>\n",
              "      <td>0.677130</td>\n",
              "      <td>0.433443</td>\n",
              "      <td>-0.021826</td>\n",
              "    </tr>\n",
              "    <tr>\n",
              "      <th>avg_new_ads</th>\n",
              "      <td>-0.049433</td>\n",
              "      <td>-0.009146</td>\n",
              "      <td>-0.017632</td>\n",
              "      <td>0.020578</td>\n",
              "      <td>0.131101</td>\n",
              "      <td>0.132759</td>\n",
              "      <td>0.192561</td>\n",
              "      <td>0.186521</td>\n",
              "      <td>-0.004429</td>\n",
              "      <td>0.121930</td>\n",
              "      <td>0.651254</td>\n",
              "      <td>1.000000</td>\n",
              "      <td>0.413935</td>\n",
              "      <td>0.379151</td>\n",
              "      <td>0.261525</td>\n",
              "      <td>0.014593</td>\n",
              "    </tr>\n",
              "    <tr>\n",
              "      <th>avg_email_replies</th>\n",
              "      <td>-0.111508</td>\n",
              "      <td>-0.075940</td>\n",
              "      <td>-0.070784</td>\n",
              "      <td>0.206001</td>\n",
              "      <td>0.214032</td>\n",
              "      <td>0.209668</td>\n",
              "      <td>0.360600</td>\n",
              "      <td>0.362861</td>\n",
              "      <td>-0.050023</td>\n",
              "      <td>0.273732</td>\n",
              "      <td>0.704153</td>\n",
              "      <td>0.413935</td>\n",
              "      <td>1.000000</td>\n",
              "      <td>0.955301</td>\n",
              "      <td>0.716719</td>\n",
              "      <td>-0.070678</td>\n",
              "    </tr>\n",
              "    <tr>\n",
              "      <th>avg_call_replies</th>\n",
              "      <td>-0.115326</td>\n",
              "      <td>-0.079302</td>\n",
              "      <td>-0.070982</td>\n",
              "      <td>0.206257</td>\n",
              "      <td>0.214258</td>\n",
              "      <td>0.209233</td>\n",
              "      <td>0.342573</td>\n",
              "      <td>0.347016</td>\n",
              "      <td>-0.053766</td>\n",
              "      <td>0.284304</td>\n",
              "      <td>0.677130</td>\n",
              "      <td>0.379151</td>\n",
              "      <td>0.955301</td>\n",
              "      <td>1.000000</td>\n",
              "      <td>0.799181</td>\n",
              "      <td>-0.075218</td>\n",
              "    </tr>\n",
              "    <tr>\n",
              "      <th>avg_sms_replies</th>\n",
              "      <td>-0.082611</td>\n",
              "      <td>-0.050359</td>\n",
              "      <td>-0.038793</td>\n",
              "      <td>0.122789</td>\n",
              "      <td>0.213352</td>\n",
              "      <td>0.214889</td>\n",
              "      <td>0.240456</td>\n",
              "      <td>0.244097</td>\n",
              "      <td>0.005707</td>\n",
              "      <td>0.237666</td>\n",
              "      <td>0.433443</td>\n",
              "      <td>0.261525</td>\n",
              "      <td>0.716719</td>\n",
              "      <td>0.799181</td>\n",
              "      <td>1.000000</td>\n",
              "      <td>-0.062319</td>\n",
              "    </tr>\n",
              "    <tr>\n",
              "      <th>target</th>\n",
              "      <td>0.121939</td>\n",
              "      <td>0.275500</td>\n",
              "      <td>0.166119</td>\n",
              "      <td>-0.235238</td>\n",
              "      <td>-0.032580</td>\n",
              "      <td>-0.025354</td>\n",
              "      <td>-0.117154</td>\n",
              "      <td>-0.128464</td>\n",
              "      <td>0.005954</td>\n",
              "      <td>-0.076783</td>\n",
              "      <td>-0.021826</td>\n",
              "      <td>0.014593</td>\n",
              "      <td>-0.070678</td>\n",
              "      <td>-0.075218</td>\n",
              "      <td>-0.062319</td>\n",
              "      <td>1.000000</td>\n",
              "    </tr>\n",
              "  </tbody>\n",
              "</table>\n",
              "</div>"
            ],
            "text/plain": [
              "                       account_id  max_return_days  ...  avg_sms_replies    target\n",
              "account_id               1.000000         0.186045  ...        -0.082611  0.121939\n",
              "max_return_days          0.186045         1.000000  ...        -0.050359  0.275500\n",
              "average_return_days      0.114084         0.749133  ...        -0.038793  0.166119\n",
              "customer_since_months   -0.138623        -0.187866  ...         0.122789 -0.235238\n",
              "total_revenue           -0.056088        -0.001889  ...         0.213352 -0.032580\n",
              "average_revenue         -0.063251         0.013184  ...         0.214889 -0.025354\n",
              "avg_vas_count           -0.123744        -0.112382  ...         0.240456 -0.117154\n",
              "avg_used_vas_value      -0.137692        -0.119129  ...         0.244097 -0.128464\n",
              "business_type           -0.023560        -0.018485  ...         0.005707  0.005954\n",
              "avg_wallet_bonus        -0.115246        -0.131552  ...         0.237666 -0.076783\n",
              "avg_active_ads          -0.104818        -0.042902  ...         0.433443 -0.021826\n",
              "avg_new_ads             -0.049433        -0.009146  ...         0.261525  0.014593\n",
              "avg_email_replies       -0.111508        -0.075940  ...         0.716719 -0.070678\n",
              "avg_call_replies        -0.115326        -0.079302  ...         0.799181 -0.075218\n",
              "avg_sms_replies         -0.082611        -0.050359  ...         1.000000 -0.062319\n",
              "target                   0.121939         0.275500  ...        -0.062319  1.000000\n",
              "\n",
              "[16 rows x 16 columns]"
            ]
          },
          "metadata": {
            "tags": []
          },
          "execution_count": 80
        }
      ]
    },
    {
      "cell_type": "code",
      "metadata": {
        "id": "4L6Jik_sK_D4",
        "outputId": "7018568c-9a2b-4e50-cce1-870c77593a50",
        "colab": {
          "base_uri": "https://localhost:8080/",
          "height": 397
        }
      },
      "source": [
        "sns.heatmap(df.corr())\n"
      ],
      "execution_count": 81,
      "outputs": [
        {
          "output_type": "execute_result",
          "data": {
            "text/plain": [
              "<matplotlib.axes._subplots.AxesSubplot at 0x7f648166dfd0>"
            ]
          },
          "metadata": {
            "tags": []
          },
          "execution_count": 81
        },
        {
          "output_type": "display_data",
          "data": {
            "image/png": "[encoded data removed]",
            "text/plain": [
              "<Figure size 432x288 with 2 Axes>"
            ]
          },
          "metadata": {
            "tags": [],
            "needs_background": "light"
          }
        }
      ]
    },
    {
      "cell_type": "markdown",
      "metadata": {
        "id": "si0MfJNlwKm8"
      },
      "source": [
        "So Clearly the dataset is highly imbalanced dataset as can be seen from the below countplot"
      ]
    },
    {
      "cell_type": "code",
      "metadata": {
        "id": "HhMCpmM2r8WM",
        "outputId": "71b82c07-2ddc-460f-a8e6-2bae61adbf30",
        "colab": {
          "base_uri": "https://localhost:8080/",
          "height": 296
        }
      },
      "source": [
        "sns.countplot(data=df,x='target')"
      ],
      "execution_count": 82,
      "outputs": [
        {
          "output_type": "execute_result",
          "data": {
            "text/plain": [
              "<matplotlib.axes._subplots.AxesSubplot at 0x7f648166d080>"
            ]
          },
          "metadata": {
            "tags": []
          },
          "execution_count": 82
        },
        {
          "output_type": "display_data",
          "data": {
            "image/png": "[encoded data removed]",
            "text/plain": [
              "<Figure size 432x288 with 1 Axes>"
            ]
          },
          "metadata": {
            "tags": [],
            "needs_background": "light"
          }
        }
      ]
    },
    {
      "cell_type": "code",
      "metadata": {
        "id": "4i7EPSSzLekc",
        "outputId": "47aad66b-1a7d-448a-8ee7-8be7094d73bd",
        "colab": {
          "base_uri": "https://localhost:8080/",
          "height": 296
        }
      },
      "source": [
        "sns.countplot(data=df,x='target',hue='business_type')"
      ],
      "execution_count": 83,
      "outputs": [
        {
          "output_type": "execute_result",
          "data": {
            "text/plain": [
              "<matplotlib.axes._subplots.AxesSubplot at 0x7f64814d8e48>"
            ]
          },
          "metadata": {
            "tags": []
          },
          "execution_count": 83
        },
        {
          "output_type": "display_data",
          "data": {
            "image/png": "[encoded data removed]",
            "text/plain": [
              "<Figure size 432x288 with 1 Axes>"
            ]
          },
          "metadata": {
            "tags": [],
            "needs_background": "light"
          }
        }
      ]
    },
    {
      "cell_type": "markdown",
      "metadata": {
        "id": "4u0WD3-F17RW"
      },
      "source": [
        "1.   So From The 1st Graph We can that as the since month decreases it moves more towards 1.\n",
        "2. Similarly From the 2nd Graph we can as the average return days increases people tend more more towards 1.  \n",
        "3.   So in Graph 3 we can see at higher revenue the customer is mostly in 0 .\n",
        "4.   In Graph 4 we can As the wallet bonus decreases the customer tend to be more more 1.\n",
        "\n",
        "\n",
        "So From Here we can conclude that wallet bonus could be a good promotion at early stages. And once the customer has been with us for a long time . Then there is a less possibility that our would fall on cateogy  1 of target. \n",
        "\n",
        "\n",
        "\n",
        "\n"
      ]
    },
    {
      "cell_type": "code",
      "metadata": {
        "id": "GMRxaREU0wIm",
        "outputId": "9b7ee9c4-d118-4b9e-e35e-02e54609d663",
        "colab": {
          "base_uri": "https://localhost:8080/",
          "height": 623
        }
      },
      "source": [
        "plt.figure(figsize=(10,10))\n",
        "plt.tight_layout()\n",
        "plt.subplot(2,2,1)\n",
        "sns.lineplot(y=df['customer_since_months'],x=df['target'])\n",
        "plt.subplot(2,2,2)\n",
        "sns.lineplot(y=df['average_return_days'],x=df['target'])\n",
        "plt.subplot(2,2,3)\n",
        "sns.lineplot(y=df['total_revenue'],x=df['target'])\n",
        "plt.subplot(2,2,4)\n",
        "sns.lineplot(y=df['avg_wallet_bonus'],x=df['target'])"
      ],
      "execution_count": 84,
      "outputs": [
        {
          "output_type": "execute_result",
          "data": {
            "text/plain": [
              "<matplotlib.axes._subplots.AxesSubplot at 0x7f64813af2e8>"
            ]
          },
          "metadata": {
            "tags": []
          },
          "execution_count": 84
        },
        {
          "output_type": "display_data",
          "data": {
            "image/png": "[encoded data removed]",
            "text/plain": [
              "<Figure size 720x720 with 4 Axes>"
            ]
          },
          "metadata": {
            "tags": [],
            "needs_background": "light"
          }
        }
      ]
    },
    {
      "cell_type": "code",
      "metadata": {
        "id": "jNEniVNF6As2",
        "outputId": "df4a93eb-3b66-4e71-92c4-07a1b9900f45",
        "colab": {
          "base_uri": "https://localhost:8080/",
          "height": 623
        }
      },
      "source": [
        "plt.figure(figsize=(10,10))\n",
        "plt.tight_layout()\n",
        "plt.subplot(2,2,1)\n",
        "sns.lineplot(y=df['avg_active_ads'],x=df['target'])\n",
        "plt.subplot(2,2,2)\n",
        "sns.lineplot(y=df['avg_email_replies'],x=df['target'])\n",
        "plt.subplot(2,2,3)\n",
        "sns.lineplot(y=df['avg_call_replies'],x=df['target'])\n",
        "plt.subplot(2,2,4)\n",
        "sns.lineplot(y=df['avg_sms_replies'],x=df['target'])"
      ],
      "execution_count": 85,
      "outputs": [
        {
          "output_type": "execute_result",
          "data": {
            "text/plain": [
              "<matplotlib.axes._subplots.AxesSubplot at 0x7f6481216fd0>"
            ]
          },
          "metadata": {
            "tags": []
          },
          "execution_count": 85
        },
        {
          "output_type": "display_data",
          "data": {
            "image/png": "[encoded data removed]",
            "text/plain": [
              "<Figure size 720x720 with 4 Axes>"
            ]
          },
          "metadata": {
            "tags": [],
            "needs_background": "light"
          }
        }
      ]
    },
    {
      "cell_type": "code",
      "metadata": {
        "id": "NeyK3ygl6eQd",
        "outputId": "17852c0b-4ac6-4366-ef5c-48566aa7f25b",
        "colab": {
          "base_uri": "https://localhost:8080/",
          "height": 334
        }
      },
      "source": [
        "sns.scatterplot(df['customer_since_months'],df['average_return_days'],hue=df['target'])"
      ],
      "execution_count": 86,
      "outputs": [
        {
          "output_type": "stream",
          "text": [
            "Pass the following variables as keyword args: x, y. From version 0.12, the only valid positional argument will be `data`, and passing other arguments without an explicit keyword will result in an error or misinterpretation.\n"
          ],
          "name": "stderr"
        },
        {
          "output_type": "execute_result",
          "data": {
            "text/plain": [
              "<matplotlib.axes._subplots.AxesSubplot at 0x7f64814d17b8>"
            ]
          },
          "metadata": {
            "tags": []
          },
          "execution_count": 86
        },
        {
          "output_type": "display_data",
          "data": {
            "image/png": "[encoded data removed]",
            "text/plain": [
              "<Figure size 432x288 with 1 Axes>"
            ]
          },
          "metadata": {
            "tags": [],
            "needs_background": "light"
          }
        }
      ]
    },
    {
      "cell_type": "markdown",
      "metadata": {
        "id": "fEqn2VkgzH7d"
      },
      "source": [
        "Seprating the features and target variables in x and y repectively"
      ]
    },
    {
      "cell_type": "code",
      "metadata": {
        "id": "FOnpFDkiu3XU"
      },
      "source": [
        "x =df.iloc[:,:-1]\n",
        "y= df.iloc[:,-1]"
      ],
      "execution_count": 87,
      "outputs": []
    },
    {
      "cell_type": "markdown",
      "metadata": {
        "id": "1lZRhEeQzV9Q"
      },
      "source": [
        "Spliting Train and Test data"
      ]
    },
    {
      "cell_type": "code",
      "metadata": {
        "id": "gR6LCw-tyyHV"
      },
      "source": [
        "x_train,x_test,y_train,y_test = train_test_split(x,y,test_size=.25,stratify=y,random_state = 1)"
      ],
      "execution_count": 88,
      "outputs": []
    },
    {
      "cell_type": "markdown",
      "metadata": {
        "id": "cdFikptTzalF"
      },
      "source": [
        "Performing Over Sampling Because Dataset is Highly Imbalanced "
      ]
    },
    {
      "cell_type": "code",
      "metadata": {
        "id": "fYsrKxyttDFO",
        "outputId": "f7d065b7-c5e1-4187-cd3b-cdfd9da52b8c",
        "colab": {
          "base_uri": "https://localhost:8080/",
          "height": 34
        }
      },
      "source": [
        "\n",
        "ros = RandomOverSampler(random_state=1,sampling_strategy='minority')\n",
        "x_sm,y_sm = ros.fit_sample(x_train,y_train)"
      ],
      "execution_count": 89,
      "outputs": [
        {
          "output_type": "stream",
          "text": [
            "Function safe_indexing is deprecated; safe_indexing is deprecated in version 0.22 and will be removed in version 0.24.\n"
          ],
          "name": "stderr"
        }
      ]
    },
    {
      "cell_type": "code",
      "metadata": {
        "id": "G8HrAlGzwEjb",
        "outputId": "bf8be7ec-2184-4cdb-f2e6-df1c444bfa3c",
        "colab": {
          "base_uri": "https://localhost:8080/",
          "height": 34
        }
      },
      "source": [
        "x_train.shape, x_test.shape"
      ],
      "execution_count": 90,
      "outputs": [
        {
          "output_type": "execute_result",
          "data": {
            "text/plain": [
              "((3300, 15), (1100, 15))"
            ]
          },
          "metadata": {
            "tags": []
          },
          "execution_count": 90
        }
      ]
    },
    {
      "cell_type": "markdown",
      "metadata": {
        "id": "NDXood0D67Yz"
      },
      "source": [
        "Scalling the Data"
      ]
    },
    {
      "cell_type": "code",
      "metadata": {
        "id": "YKTuOXnSzC6S"
      },
      "source": [
        "sc = StandardScaler()\n",
        "x_sm= sc.fit_transform(x_sm)\n",
        "x_test = sc.transform(x_test)"
      ],
      "execution_count": 91,
      "outputs": []
    },
    {
      "cell_type": "code",
      "metadata": {
        "id": "8-j9bp_r0JM7",
        "outputId": "509cddc4-e548-497b-f243-2df233947d2a",
        "colab": {
          "base_uri": "https://localhost:8080/",
          "height": 136
        }
      },
      "source": [
        "xgb =XGBClassifier()\n",
        "xgb.fit(x_sm,y_sm)"
      ],
      "execution_count": 92,
      "outputs": [
        {
          "output_type": "execute_result",
          "data": {
            "text/plain": [
              "XGBClassifier(base_score=0.5, booster='gbtree', colsample_bylevel=1,\n",
              "              colsample_bynode=1, colsample_bytree=1, gamma=0,\n",
              "              learning_rate=0.1, max_delta_step=0, max_depth=3,\n",
              "              min_child_weight=1, missing=None, n_estimators=100, n_jobs=1,\n",
              "              nthread=None, objective='binary:logistic', random_state=0,\n",
              "              reg_alpha=0, reg_lambda=1, scale_pos_weight=1, seed=None,\n",
              "              silent=None, subsample=1, verbosity=1)"
            ]
          },
          "metadata": {
            "tags": []
          },
          "execution_count": 92
        }
      ]
    },
    {
      "cell_type": "code",
      "metadata": {
        "id": "b-k_ZrYj0b7T",
        "outputId": "788404eb-150c-43ac-8abd-4ea0aadd5a62",
        "colab": {
          "base_uri": "https://localhost:8080/",
          "height": 34
        }
      },
      "source": [
        "sc_xgb= cross_val_score(xgb,x_sm,y_sm,cv=5,scoring='f1')\n",
        "sc_xgb"
      ],
      "execution_count": 93,
      "outputs": [
        {
          "output_type": "execute_result",
          "data": {
            "text/plain": [
              "array([0.84552846, 0.82978723, 0.84918033, 0.86899919, 0.85049834])"
            ]
          },
          "metadata": {
            "tags": []
          },
          "execution_count": 93
        }
      ]
    },
    {
      "cell_type": "code",
      "metadata": {
        "id": "hYt741hs0n4z",
        "outputId": "529ef944-061b-462e-f457-5ea33129fd4b",
        "colab": {
          "base_uri": "https://localhost:8080/",
          "height": 170
        }
      },
      "source": [
        "pred = xgb.predict(x_test)\n",
        "cls = classification_report(y_test,pred)\n",
        "print(cls)"
      ],
      "execution_count": 94,
      "outputs": [
        {
          "output_type": "stream",
          "text": [
            "              precision    recall  f1-score   support\n",
            "\n",
            "           0       0.98      0.80      0.88       986\n",
            "           1       0.33      0.82      0.47       114\n",
            "\n",
            "    accuracy                           0.81      1100\n",
            "   macro avg       0.65      0.81      0.68      1100\n",
            "weighted avg       0.91      0.81      0.84      1100\n",
            "\n"
          ],
          "name": "stdout"
        }
      ]
    },
    {
      "cell_type": "code",
      "metadata": {
        "id": "nvs9bNfyv8Tu",
        "outputId": "919c0534-a308-497e-f9b4-eb6b170fac52",
        "colab": {
          "base_uri": "https://localhost:8080/",
          "height": 34
        }
      },
      "source": [
        "rf = RandomForestClassifier(min_samples_leaf=5,max_depth=5)\n",
        "rf.fit(x_sm,y_sm)\n",
        "sc_rf = cross_val_score(rf,x_sm,y_sm\n",
        ",cv=5,scoring='f1')\n",
        "sc_rf"
      ],
      "execution_count": 95,
      "outputs": [
        {
          "output_type": "execute_result",
          "data": {
            "text/plain": [
              "array([0.81523501, 0.78960195, 0.81244881, 0.81199352, 0.79834711])"
            ]
          },
          "metadata": {
            "tags": []
          },
          "execution_count": 95
        }
      ]
    },
    {
      "cell_type": "code",
      "metadata": {
        "id": "EYtd-0pz_f5g",
        "outputId": "b484d6ea-1c3d-4c6f-ac39-dc71c8e6441f",
        "colab": {
          "base_uri": "https://localhost:8080/",
          "height": 170
        }
      },
      "source": [
        "pred_rf = rf.predict(x_test)\n",
        "cls_rf = classification_report(y_test,pred_rf)\n",
        "print(cls_rf)"
      ],
      "execution_count": 96,
      "outputs": [
        {
          "output_type": "stream",
          "text": [
            "              precision    recall  f1-score   support\n",
            "\n",
            "           0       0.97      0.75      0.85       986\n",
            "           1       0.28      0.83      0.42       114\n",
            "\n",
            "    accuracy                           0.76      1100\n",
            "   macro avg       0.63      0.79      0.63      1100\n",
            "weighted avg       0.90      0.76      0.80      1100\n",
            "\n"
          ],
          "name": "stdout"
        }
      ]
    },
    {
      "cell_type": "code",
      "metadata": {
        "id": "oopPWV_2_jM-",
        "outputId": "79cd1d01-a12a-4312-826d-8a9578fc4d48",
        "colab": {
          "base_uri": "https://localhost:8080/",
          "height": 473
        }
      },
      "source": [
        "explainer = shap.TreeExplainer(xgb,x_test)\n",
        "shap_values = explainer.shap_values(x_test)\n",
        "shap.summary_plot(shap_values=shap_values,plot_type='bar',feature_names=df.columns,class_names=y,)"
      ],
      "execution_count": 97,
      "outputs": [
        {
          "output_type": "display_data",
          "data": {
            "image/png": "[encoded data removed]",
            "text/plain": [
              "<Figure size 576x540 with 1 Axes>"
            ]
          },
          "metadata": {
            "tags": [],
            "needs_background": "light"
          }
        }
      ]
    },
    {
      "cell_type": "code",
      "metadata": {
        "id": "SECtXwS0_LY7",
        "outputId": "ad0b5b80-94ae-47a9-ce38-af0e4e34bf7b",
        "colab": {
          "base_uri": "https://localhost:8080/",
          "height": 119
        }
      },
      "source": [
        "df.columns"
      ],
      "execution_count": 103,
      "outputs": [
        {
          "output_type": "execute_result",
          "data": {
            "text/plain": [
              "Index(['account_id', 'max_return_days', 'average_return_days',\n",
              "       'customer_since_months', 'total_revenue', 'average_revenue',\n",
              "       'avg_vas_count', 'avg_used_vas_value', 'business_type',\n",
              "       'avg_wallet_bonus', 'avg_active_ads', 'avg_new_ads',\n",
              "       'avg_email_replies', 'avg_call_replies', 'avg_sms_replies', 'target'],\n",
              "      dtype='object')"
            ]
          },
          "metadata": {
            "tags": []
          },
          "execution_count": 103
        }
      ]
    },
    {
      "cell_type": "code",
      "metadata": {
        "id": "oElIo1hp96bF",
        "outputId": "dd27e14e-a7c1-491a-c399-ea9ef2ec9fe5",
        "colab": {
          "base_uri": "https://localhost:8080/",
          "height": 337
        }
      },
      "source": [
        "shap.dependence_plot(3, shap_values, x_test)"
      ],
      "execution_count": 104,
      "outputs": [
        {
          "output_type": "display_data",
          "data": {
            "image/png": "[encoded data removed]",
            "text/plain": [
              "<Figure size 540x360 with 2 Axes>"
            ]
          },
          "metadata": {
            "tags": [],
            "needs_background": "light"
          }
        }
      ]
    },
    {
      "cell_type": "code",
      "metadata": {
        "id": "noUKileY_jSl"
      },
      "source": [
        ""
      ],
      "execution_count": null,
      "outputs": []
    },
    {
      "cell_type": "code",
      "metadata": {
        "id": "F46DPkL__kZr"
      },
      "source": [
        ""
      ],
      "execution_count": null,
      "outputs": []
    },
    {
      "cell_type": "code",
      "metadata": {
        "id": "902nL12m_k7A"
      },
      "source": [
        ""
      ],
      "execution_count": null,
      "outputs": []
    },
    {
      "cell_type": "code",
      "metadata": {
        "id": "1InPKuf8_lAf"
      },
      "source": [
        ""
      ],
      "execution_count": null,
      "outputs": []
    },
    {
      "cell_type": "code",
      "metadata": {
        "id": "rP7qzsdI_lFm"
      },
      "source": [
        ""
      ],
      "execution_count": null,
      "outputs": []
    },
    {
      "cell_type": "code",
      "metadata": {
        "id": "TSQ0KC0x_gnU"
      },
      "source": [
        ""
      ],
      "execution_count": null,
      "outputs": []
    },
    {
      "cell_type": "code",
      "metadata": {
        "id": "Kk_KKCe8_gsu"
      },
      "source": [
        ""
      ],
      "execution_count": null,
      "outputs": []
    },
    {
      "cell_type": "code",
      "metadata": {
        "id": "2B-N0DbE_gw4"
      },
      "source": [
        "from keras.models import Sequential\n",
        "from keras.layers import Dense\n",
        "import keras"
      ],
      "execution_count": 24,
      "outputs": []
    },
    {
      "cell_type": "code",
      "metadata": {
        "id": "eZ7rPr2ezVzc"
      },
      "source": [
        "def model():\n",
        "  keras.backend.clear_session()\n",
        "  model = Sequential()\n",
        "  model.add(Dense(8,activation='relu',input_dim=15))\n",
        "  model.add(Dense(4,activation='relu'))\n",
        "  model.add(Dense(1,activation='sigmoid'))\n",
        "  model.compile(loss='binary_crossentropy',optimizer='adam',metrics=['accuracy'])\n",
        "  return model"
      ],
      "execution_count": 25,
      "outputs": []
    },
    {
      "cell_type": "code",
      "metadata": {
        "id": "ZpKGAWE6z2ac"
      },
      "source": [
        "model = model()"
      ],
      "execution_count": 26,
      "outputs": []
    },
    {
      "cell_type": "code",
      "metadata": {
        "id": "cmR11mPm5ztu",
        "outputId": "019e122e-c226-4b64-eb64-872d46a5760f",
        "colab": {
          "base_uri": "https://localhost:8080/",
          "height": 374
        }
      },
      "source": [
        "model.fit(x_sm,y_sm,batch_size=64,validation_data=(x_test,y_test),epochs=10)"
      ],
      "execution_count": 27,
      "outputs": [
        {
          "output_type": "stream",
          "text": [
            "Epoch 1/10\n",
            "93/93 [==============================] - 0s 4ms/step - loss: 0.7032 - accuracy: 0.5179 - val_loss: 0.6596 - val_accuracy: 0.5518\n",
            "Epoch 2/10\n",
            "93/93 [==============================] - 0s 3ms/step - loss: 0.6509 - accuracy: 0.6654 - val_loss: 0.6241 - val_accuracy: 0.6427\n",
            "Epoch 3/10\n",
            "93/93 [==============================] - 0s 3ms/step - loss: 0.6033 - accuracy: 0.7134 - val_loss: 0.6001 - val_accuracy: 0.6591\n",
            "Epoch 4/10\n",
            "93/93 [==============================] - 0s 3ms/step - loss: 0.5730 - accuracy: 0.7274 - val_loss: 0.5780 - val_accuracy: 0.6682\n",
            "Epoch 5/10\n",
            "93/93 [==============================] - 0s 3ms/step - loss: 0.5592 - accuracy: 0.7318 - val_loss: 0.5625 - val_accuracy: 0.6736\n",
            "Epoch 6/10\n",
            "93/93 [==============================] - 0s 3ms/step - loss: 0.5520 - accuracy: 0.7365 - val_loss: 0.5576 - val_accuracy: 0.6791\n",
            "Epoch 7/10\n",
            "93/93 [==============================] - 0s 3ms/step - loss: 0.5464 - accuracy: 0.7385 - val_loss: 0.5532 - val_accuracy: 0.6827\n",
            "Epoch 8/10\n",
            "93/93 [==============================] - 0s 3ms/step - loss: 0.5406 - accuracy: 0.7412 - val_loss: 0.5460 - val_accuracy: 0.6891\n",
            "Epoch 9/10\n",
            "93/93 [==============================] - 0s 3ms/step - loss: 0.5355 - accuracy: 0.7443 - val_loss: 0.5543 - val_accuracy: 0.6827\n",
            "Epoch 10/10\n",
            "93/93 [==============================] - 0s 3ms/step - loss: 0.5314 - accuracy: 0.7419 - val_loss: 0.5524 - val_accuracy: 0.6818\n"
          ],
          "name": "stdout"
        },
        {
          "output_type": "execute_result",
          "data": {
            "text/plain": [
              "<tensorflow.python.keras.callbacks.History at 0x7f64984ccd30>"
            ]
          },
          "metadata": {
            "tags": []
          },
          "execution_count": 27
        }
      ]
    },
    {
      "cell_type": "code",
      "metadata": {
        "id": "N4BPL4DH9A6K",
        "outputId": "76acf820-f49d-41c5-e30d-d4b65a197eae",
        "colab": {
          "base_uri": "https://localhost:8080/",
          "height": 34
        }
      },
      "source": [
        "pred_net=model.predict_classes(x_test).reshape(-1)\n",
        "recall_score(y_test,pred_net)\n",
        "f1_score(y_test,pred_net)\n",
        "#pred_net"
      ],
      "execution_count": 30,
      "outputs": [
        {
          "output_type": "execute_result",
          "data": {
            "text/plain": [
              "0.35424354243542433"
            ]
          },
          "metadata": {
            "tags": []
          },
          "execution_count": 30
        }
      ]
    },
    {
      "cell_type": "code",
      "metadata": {
        "id": "M-qa4kJl-1IN"
      },
      "source": [
        ""
      ],
      "execution_count": null,
      "outputs": []
    },
    {
      "cell_type": "code",
      "metadata": {
        "id": "IlZR0h6u_g5I"
      },
      "source": [
        ""
      ],
      "execution_count": null,
      "outputs": []
    }
  ]
}