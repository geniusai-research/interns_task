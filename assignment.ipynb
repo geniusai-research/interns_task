{
 "cells": [
  {
   "cell_type": "markdown",
   "metadata": {},
   "source": [
    "\n",
    "# Machine Learning Internship task\n",
    "\n",
    "Welcome folks, Thank you for applying for this internship and we are super excited to take this conversation ahead with you.\n",
    "\n",
    "But before we go ahead, we would like you to go thru a small assessment, which will help us to evaluate you better on technical skills and working styles.\n",
    "\n",
    "\n",
    "## Task Objective :\n",
    "* [x] Perform EDA on the given [data](https://github.com/geniusai-research/interns_task/blob/main/taskdata.csv).\n",
    "* [x] Build some new features which makes sense for the learning objective.\n",
    "* [x] Train any classifier (can be any model of your choice XGB,DNNs, etc) \n",
    "* [x] Implement SHAP on this model to explain the decisions. (`Bonus points`) \n",
    "* [x] Submit the task by creating a PR request on this [repository](https://github.com/geniusai-research/interns_task/).\n",
    "\n",
    "## Instructions :\n",
    "* Perform all the tasks mentioned above.\n",
    "* Maintain a single **JupyterNotebook** which has all the descriptions and code in it. \n",
    "* Notebook needs to be properly structured .\n",
    "* Code needs to reproducible.\n",
    "\n",
    "**We will only accept the assignment if its in a single Notebook or else it will be rejected.**\n",
    "\n",
    "## Important dates\n",
    "The assignments needs to be completed in 1 week from today. <br>\n",
    "**Deadline : 28th October**\n",
    "\n",
    "\n",
    "If you have any issue then feel free to create issue on this [repository](https://github.com/geniusai-research/interns_task/) or reachout to us over the internshala chat.\n",
    "\n",
    "<hr>\n",
    "\n",
    "Cheers!!!  <br>\n",
    "RK \n"
   ]
  },
  {
   "cell_type": "code",
   "execution_count": null,
   "metadata": {},
   "outputs": [],
   "source": []
  }
 ],
 "metadata": {
  "kernelspec": {
   "display_name": "Python 3",
   "language": "python",
   "name": "python3"
  },
  "language_info": {
   "codemirror_mode": {
    "name": "ipython",
    "version": 3
   },
   "file_extension": ".py",
   "mimetype": "text/x-python",
   "name": "python",
   "nbconvert_exporter": "python",
   "pygments_lexer": "ipython3",
   "version": "3.7.4"
  }
 },
 "nbformat": 4,
 "nbformat_minor": 2
}
